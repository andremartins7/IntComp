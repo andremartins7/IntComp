{
  "cells": [
    {
      "cell_type": "markdown",
      "id": "91d81208",
      "metadata": {
        "papermill": {
          "duration": 0.020472,
          "end_time": "2021-09-19T11:33:23.785084",
          "exception": false,
          "start_time": "2021-09-19T11:33:23.764612",
          "status": "completed"
        },
        "tags": [],
        "id": "91d81208"
      },
      "source": [
        "<h1 align=\"center\"  > Exercício 2 - Inteligência Computacional - Algoritmo Árvore de decisão</h1>\n",
        "<h1 align=\"center\"  > Autor: André Martins</h1>\n",
        "<h1 align=\"center\" style=\"color:#8100cc;\" >Questão 2b: Calculando o atributo para a raiz de uma árvore de decisão no problema do conjuntos de dados Balance-Scale </h1> <br>\n",
        "<br><br>\n",
        "O objetivo deste problema é prever se a balança se inclinará para a esquerda ou para a direita com base nos pesos dos dois lados.\n",
        "<br>"
      ]
    },
    {
      "cell_type": "code",
      "execution_count": null,
      "id": "e6700c80",
      "metadata": {
        "execution": {
          "iopub.execute_input": "2021-09-19T11:33:23.862684Z",
          "iopub.status.busy": "2021-09-19T11:33:23.860855Z",
          "iopub.status.idle": "2021-09-19T11:33:24.693992Z",
          "shell.execute_reply": "2021-09-19T11:33:24.693290Z",
          "shell.execute_reply.started": "2021-09-19T11:11:55.352705Z"
        },
        "papermill": {
          "duration": 0.855013,
          "end_time": "2021-09-19T11:33:24.694165",
          "exception": false,
          "start_time": "2021-09-19T11:33:23.839152",
          "status": "completed"
        },
        "tags": [],
        "id": "e6700c80"
      },
      "outputs": [],
      "source": [
        "# Importando Bibliotecas Necessárias\n",
        "import numpy as np\n",
        "import pandas as pd\n",
        "import seaborn as sns\n",
        "import matplotlib.pyplot as plt\n",
        "%matplotlib inline"
      ]
    },
    {
      "cell_type": "code",
      "execution_count": null,
      "id": "a968fe74",
      "metadata": {
        "execution": {
          "iopub.execute_input": "2021-09-19T11:33:24.735575Z",
          "iopub.status.busy": "2021-09-19T11:33:24.732871Z",
          "iopub.status.idle": "2021-09-19T11:33:24.754698Z",
          "shell.execute_reply": "2021-09-19T11:33:24.753895Z",
          "shell.execute_reply.started": "2021-09-19T11:14:28.968673Z"
        },
        "papermill": {
          "duration": 0.042808,
          "end_time": "2021-09-19T11:33:24.754866",
          "exception": false,
          "start_time": "2021-09-19T11:33:24.712058",
          "status": "completed"
        },
        "tags": [],
        "id": "a968fe74"
      },
      "outputs": [],
      "source": [
        "# Importando conjunto de dados\n",
        "col = [ 'Class Name','Left weight','Left distance','Right weight','Right distance']\n",
        "df = pd.read_csv('../input/balancescale/balance-scale.data',names=col,sep=',')\n"
      ]
    },
    {
      "cell_type": "code",
      "execution_count": null,
      "id": "c4128d7d",
      "metadata": {
        "execution": {
          "iopub.execute_input": "2021-09-19T11:33:24.795290Z",
          "iopub.status.busy": "2021-09-19T11:33:24.794302Z",
          "iopub.status.idle": "2021-09-19T11:33:24.813281Z",
          "shell.execute_reply": "2021-09-19T11:33:24.812753Z",
          "shell.execute_reply.started": "2021-09-19T11:14:53.034552Z"
        },
        "papermill": {
          "duration": 0.040378,
          "end_time": "2021-09-19T11:33:24.813418",
          "exception": false,
          "start_time": "2021-09-19T11:33:24.773040",
          "status": "completed"
        },
        "tags": [],
        "id": "c4128d7d",
        "outputId": "3a4c48c7-e09e-4643-e0c9-22c77cfb9142"
      },
      "outputs": [
        {
          "data": {
            "text/html": [
              "<div>\n",
              "<style scoped>\n",
              "    .dataframe tbody tr th:only-of-type {\n",
              "        vertical-align: middle;\n",
              "    }\n",
              "\n",
              "    .dataframe tbody tr th {\n",
              "        vertical-align: top;\n",
              "    }\n",
              "\n",
              "    .dataframe thead th {\n",
              "        text-align: right;\n",
              "    }\n",
              "</style>\n",
              "<table border=\"1\" class=\"dataframe\">\n",
              "  <thead>\n",
              "    <tr style=\"text-align: right;\">\n",
              "      <th></th>\n",
              "      <th>Class Name</th>\n",
              "      <th>Left weight</th>\n",
              "      <th>Left distance</th>\n",
              "      <th>Right weight</th>\n",
              "      <th>Right distance</th>\n",
              "    </tr>\n",
              "  </thead>\n",
              "  <tbody>\n",
              "    <tr>\n",
              "      <th>0</th>\n",
              "      <td>B</td>\n",
              "      <td>1</td>\n",
              "      <td>1</td>\n",
              "      <td>1</td>\n",
              "      <td>1</td>\n",
              "    </tr>\n",
              "    <tr>\n",
              "      <th>1</th>\n",
              "      <td>R</td>\n",
              "      <td>1</td>\n",
              "      <td>1</td>\n",
              "      <td>1</td>\n",
              "      <td>2</td>\n",
              "    </tr>\n",
              "    <tr>\n",
              "      <th>2</th>\n",
              "      <td>R</td>\n",
              "      <td>1</td>\n",
              "      <td>1</td>\n",
              "      <td>1</td>\n",
              "      <td>3</td>\n",
              "    </tr>\n",
              "    <tr>\n",
              "      <th>3</th>\n",
              "      <td>R</td>\n",
              "      <td>1</td>\n",
              "      <td>1</td>\n",
              "      <td>1</td>\n",
              "      <td>4</td>\n",
              "    </tr>\n",
              "    <tr>\n",
              "      <th>4</th>\n",
              "      <td>R</td>\n",
              "      <td>1</td>\n",
              "      <td>1</td>\n",
              "      <td>1</td>\n",
              "      <td>5</td>\n",
              "    </tr>\n",
              "  </tbody>\n",
              "</table>\n",
              "</div>"
            ],
            "text/plain": [
              "  Class Name  Left weight  Left distance  Right weight  Right distance\n",
              "0          B            1              1             1               1\n",
              "1          R            1              1             1               2\n",
              "2          R            1              1             1               3\n",
              "3          R            1              1             1               4\n",
              "4          R            1              1             1               5"
            ]
          },
          "execution_count": 3,
          "metadata": {},
          "output_type": "execute_result"
        }
      ],
      "source": [
        "df.head()"
      ]
    },
    {
      "cell_type": "markdown",
      "id": "770c01a8",
      "metadata": {
        "papermill": {
          "duration": 0.017858,
          "end_time": "2021-09-19T11:33:24.849771",
          "exception": false,
          "start_time": "2021-09-19T11:33:24.831913",
          "status": "completed"
        },
        "tags": [],
        "id": "770c01a8"
      },
      "source": [
        "**Lendo o conjunto de dados**"
      ]
    },
    {
      "cell_type": "code",
      "execution_count": null,
      "id": "f34b53f3",
      "metadata": {
        "execution": {
          "iopub.execute_input": "2021-09-19T11:33:24.906887Z",
          "iopub.status.busy": "2021-09-19T11:33:24.906135Z",
          "iopub.status.idle": "2021-09-19T11:33:24.908930Z",
          "shell.execute_reply": "2021-09-19T11:33:24.909504Z",
          "shell.execute_reply.started": "2021-09-19T11:15:37.458610Z"
        },
        "papermill": {
          "duration": 0.041332,
          "end_time": "2021-09-19T11:33:24.909699",
          "exception": false,
          "start_time": "2021-09-19T11:33:24.868367",
          "status": "completed"
        },
        "tags": [],
        "id": "f34b53f3",
        "outputId": "72cdbf23-db2b-453a-90e8-90cb569b95c7"
      },
      "outputs": [
        {
          "name": "stdout",
          "output_type": "stream",
          "text": [
            "<class 'pandas.core.frame.DataFrame'>\n",
            "RangeIndex: 625 entries, 0 to 624\n",
            "Data columns (total 5 columns):\n",
            " #   Column          Non-Null Count  Dtype \n",
            "---  ------          --------------  ----- \n",
            " 0   Class Name      625 non-null    object\n",
            " 1   Left weight     625 non-null    int64 \n",
            " 2   Left distance   625 non-null    int64 \n",
            " 3   Right weight    625 non-null    int64 \n",
            " 4   Right distance  625 non-null    int64 \n",
            "dtypes: int64(4), object(1)\n",
            "memory usage: 24.5+ KB\n"
          ]
        }
      ],
      "source": [
        "df.info()"
      ]
    },
    {
      "cell_type": "markdown",
      "id": "f005e600",
      "metadata": {
        "papermill": {
          "duration": 0.01915,
          "end_time": "2021-09-19T11:33:24.947253",
          "exception": false,
          "start_time": "2021-09-19T11:33:24.928103",
          "status": "completed"
        },
        "tags": [],
        "id": "f005e600"
      },
      "source": [
        "**Análise exploratória de dados**"
      ]
    },
    {
      "cell_type": "code",
      "execution_count": null,
      "id": "a80b894e",
      "metadata": {
        "execution": {
          "iopub.execute_input": "2021-09-19T11:33:24.988031Z",
          "iopub.status.busy": "2021-09-19T11:33:24.987335Z",
          "iopub.status.idle": "2021-09-19T11:33:25.205234Z",
          "shell.execute_reply": "2021-09-19T11:33:25.205734Z",
          "shell.execute_reply.started": "2021-09-19T11:16:37.947103Z"
        },
        "papermill": {
          "duration": 0.240372,
          "end_time": "2021-09-19T11:33:25.205901",
          "exception": false,
          "start_time": "2021-09-19T11:33:24.965529",
          "status": "completed"
        },
        "tags": [],
        "id": "a80b894e",
        "outputId": "6cc16863-6f27-46cb-da4a-2769fd59cf26"
      },
      "outputs": [
        {
          "name": "stderr",
          "output_type": "stream",
          "text": [
            "/opt/conda/lib/python3.7/site-packages/seaborn/_decorators.py:43: FutureWarning: Pass the following variable as a keyword arg: x. From version 0.12, the only valid positional argument will be `data`, and passing other arguments without an explicit keyword will result in an error or misinterpretation.\n",
            "  FutureWarning\n"
          ]
        },
        {
          "data": {
            "text/plain": [
              "<AxesSubplot:xlabel='Class Name', ylabel='count'>"
            ]
          },
          "execution_count": 5,
          "metadata": {},
          "output_type": "execute_result"
        },
        {
          "data": {
            "image/png": "[encoded data removed]",
            "text/plain": [
              "<Figure size 432x288 with 1 Axes>"
            ]
          },
          "metadata": {
            "needs_background": "light"
          },
          "output_type": "display_data"
        }
      ],
      "source": [
        "sns.countplot(df['Class Name'])"
      ]
    },
    {
      "cell_type": "code",
      "execution_count": null,
      "id": "81f85ca2",
      "metadata": {
        "execution": {
          "iopub.execute_input": "2021-09-19T11:33:25.250756Z",
          "iopub.status.busy": "2021-09-19T11:33:25.250056Z",
          "iopub.status.idle": "2021-09-19T11:33:25.528280Z",
          "shell.execute_reply": "2021-09-19T11:33:25.527660Z",
          "shell.execute_reply.started": "2021-09-19T11:18:01.766956Z"
        },
        "papermill": {
          "duration": 0.302619,
          "end_time": "2021-09-19T11:33:25.528423",
          "exception": false,
          "start_time": "2021-09-19T11:33:25.225804",
          "status": "completed"
        },
        "tags": [],
        "id": "81f85ca2",
        "outputId": "14abaa84-a71d-4564-b67a-ac47bdba61dd"
      },
      "outputs": [
        {
          "name": "stderr",
          "output_type": "stream",
          "text": [
            "/opt/conda/lib/python3.7/site-packages/seaborn/_decorators.py:43: FutureWarning: Pass the following variable as a keyword arg: x. From version 0.12, the only valid positional argument will be `data`, and passing other arguments without an explicit keyword will result in an error or misinterpretation.\n",
            "  FutureWarning\n"
          ]
        },
        {
          "data": {
            "text/plain": [
              "<AxesSubplot:xlabel='Left weight', ylabel='count'>"
            ]
          },
          "execution_count": 6,
          "metadata": {},
          "output_type": "execute_result"
        },
        {
          "data": {
            "image/png": "[encoded data removed]",
            "text/plain": [
              "<Figure size 432x288 with 1 Axes>"
            ]
          },
          "metadata": {
            "needs_background": "light"
          },
          "output_type": "display_data"
        }
      ],
      "source": [
        "sns.countplot(df['Left weight'],hue=df['Class Name'])"
      ]
    },
    {
      "cell_type": "code",
      "execution_count": null,
      "id": "0152a6ad",
      "metadata": {
        "execution": {
          "iopub.execute_input": "2021-09-19T11:33:25.577524Z",
          "iopub.status.busy": "2021-09-19T11:33:25.576822Z",
          "iopub.status.idle": "2021-09-19T11:33:25.733677Z",
          "shell.execute_reply": "2021-09-19T11:33:25.733070Z",
          "shell.execute_reply.started": "2021-09-19T11:20:28.641779Z"
        },
        "papermill": {
          "duration": 0.183871,
          "end_time": "2021-09-19T11:33:25.733835",
          "exception": false,
          "start_time": "2021-09-19T11:33:25.549964",
          "status": "completed"
        },
        "tags": [],
        "id": "0152a6ad"
      },
      "outputs": [],
      "source": [
        "from sklearn.model_selection import train_test_split\n",
        "X = df.drop('Class Name',axis=1)\n",
        "y = df[['Class Name']]\n",
        "X_train, X_test, y_train, y_test = train_test_split(X, y, test_size = 0.3,random_state=42)\n"
      ]
    },
    {
      "cell_type": "code",
      "execution_count": null,
      "id": "9a13a4d4",
      "metadata": {
        "papermill": {
          "duration": 0.020754,
          "end_time": "2021-09-19T11:33:25.776355",
          "exception": false,
          "start_time": "2021-09-19T11:33:25.755601",
          "status": "completed"
        },
        "tags": [],
        "id": "9a13a4d4"
      },
      "outputs": [],
      "source": []
    },
    {
      "cell_type": "markdown",
      "id": "18e3bbab",
      "metadata": {
        "papermill": {
          "duration": 0.020876,
          "end_time": "2021-09-19T11:33:25.818349",
          "exception": false,
          "start_time": "2021-09-19T11:33:25.797473",
          "status": "completed"
        },
        "tags": [],
        "id": "18e3bbab"
      },
      "source": [
        "##Dividindo o conjunto de dados em conjunto de treinamento e teste\n"
      ]
    },
    {
      "cell_type": "markdown",
      "id": "c47740f5",
      "metadata": {
        "papermill": {
          "duration": 0.021019,
          "end_time": "2021-09-19T11:33:25.902378",
          "exception": false,
          "start_time": "2021-09-19T11:33:25.881359",
          "status": "completed"
        },
        "tags": [],
        "id": "c47740f5"
      },
      "source": [
        "**Treinando o Classificador de Árvore de Decisão**"
      ]
    },
    {
      "cell_type": "code",
      "execution_count": null,
      "id": "ded8eccd",
      "metadata": {
        "execution": {
          "iopub.execute_input": "2021-09-19T11:33:25.950793Z",
          "iopub.status.busy": "2021-09-19T11:33:25.950107Z",
          "iopub.status.idle": "2021-09-19T11:33:26.115119Z",
          "shell.execute_reply": "2021-09-19T11:33:26.114574Z",
          "shell.execute_reply.started": "2021-09-19T11:22:58.239656Z"
        },
        "papermill": {
          "duration": 0.19122,
          "end_time": "2021-09-19T11:33:26.115301",
          "exception": false,
          "start_time": "2021-09-19T11:33:25.924081",
          "status": "completed"
        },
        "tags": [],
        "id": "ded8eccd",
        "outputId": "207ceaa5-7349-4d53-a7ae-1001b56668e4"
      },
      "outputs": [
        {
          "data": {
            "text/plain": [
              "DecisionTreeClassifier(max_depth=3, min_samples_leaf=5, random_state=42)"
            ]
          },
          "execution_count": 8,
          "metadata": {},
          "output_type": "execute_result"
        }
      ],
      "source": [
        "from sklearn.tree import DecisionTreeClassifier\n",
        "clf_model = DecisionTreeClassifier(criterion=\"gini\", random_state=42,max_depth=3, min_samples_leaf=5)   \n",
        "clf_model.fit(X_train,y_train)"
      ]
    },
    {
      "cell_type": "markdown",
      "id": "5aa04e7c",
      "metadata": {
        "papermill": {
          "duration": 0.028834,
          "end_time": "2021-09-19T11:33:26.173851",
          "exception": false,
          "start_time": "2021-09-19T11:33:26.145017",
          "status": "completed"
        },
        "tags": [],
        "id": "5aa04e7c"
      },
      "source": [
        "**Precisão do teste**"
      ]
    },
    {
      "cell_type": "code",
      "execution_count": null,
      "id": "f8bae3c1",
      "metadata": {
        "execution": {
          "iopub.execute_input": "2021-09-19T11:33:26.227806Z",
          "iopub.status.busy": "2021-09-19T11:33:26.227128Z",
          "iopub.status.idle": "2021-09-19T11:33:26.229458Z",
          "shell.execute_reply": "2021-09-19T11:33:26.229973Z",
          "shell.execute_reply.started": "2021-09-19T11:24:08.045619Z"
        },
        "papermill": {
          "duration": 0.029794,
          "end_time": "2021-09-19T11:33:26.230125",
          "exception": false,
          "start_time": "2021-09-19T11:33:26.200331",
          "status": "completed"
        },
        "tags": [],
        "id": "f8bae3c1"
      },
      "outputs": [],
      "source": [
        "y_predict = clf_model.predict(X_test)"
      ]
    },
    {
      "cell_type": "code",
      "execution_count": null,
      "id": "3b0232c9",
      "metadata": {
        "execution": {
          "iopub.execute_input": "2021-09-19T11:33:26.276225Z",
          "iopub.status.busy": "2021-09-19T11:33:26.275607Z",
          "iopub.status.idle": "2021-09-19T11:33:26.280975Z",
          "shell.execute_reply": "2021-09-19T11:33:26.281558Z",
          "shell.execute_reply.started": "2021-09-19T11:24:37.386296Z"
        },
        "papermill": {
          "duration": 0.030092,
          "end_time": "2021-09-19T11:33:26.281718",
          "exception": false,
          "start_time": "2021-09-19T11:33:26.251626",
          "status": "completed"
        },
        "tags": [],
        "id": "3b0232c9",
        "outputId": "b0effd1a-48e2-447a-f88e-775214bef26f"
      },
      "outputs": [
        {
          "data": {
            "text/plain": [
              "0.7021276595744681"
            ]
          },
          "execution_count": 10,
          "metadata": {},
          "output_type": "execute_result"
        }
      ],
      "source": [
        "from sklearn.metrics import accuracy_score,classification_report,confusion_matrix\n",
        "accuracy_score(y_test,y_predict)"
      ]
    },
    {
      "cell_type": "markdown",
      "id": "af7cfd27",
      "metadata": {
        "papermill": {
          "duration": 0.021306,
          "end_time": "2021-09-19T11:33:26.324797",
          "exception": false,
          "start_time": "2021-09-19T11:33:26.303491",
          "status": "completed"
        },
        "tags": [],
        "id": "af7cfd27"
      },
      "source": [
        "**Traçando o Gráfico da Árvore de Decisão**"
      ]
    },
    {
      "cell_type": "code",
      "execution_count": null,
      "id": "ac6f01ce",
      "metadata": {
        "execution": {
          "iopub.execute_input": "2021-09-19T11:33:26.371137Z",
          "iopub.status.busy": "2021-09-19T11:33:26.370523Z",
          "iopub.status.idle": "2021-09-19T11:33:26.374093Z",
          "shell.execute_reply": "2021-09-19T11:33:26.374697Z",
          "shell.execute_reply.started": "2021-09-19T11:25:33.961405Z"
        },
        "papermill": {
          "duration": 0.028496,
          "end_time": "2021-09-19T11:33:26.374862",
          "exception": false,
          "start_time": "2021-09-19T11:33:26.346366",
          "status": "completed"
        },
        "tags": [],
        "id": "ac6f01ce"
      },
      "outputs": [],
      "source": [
        "target = list(df['Class Name'].unique())\n",
        "feature_names = list(X.columns)"
      ]
    },
    {
      "cell_type": "code",
      "execution_count": null,
      "id": "10cb47a4",
      "metadata": {
        "execution": {
          "iopub.execute_input": "2021-09-19T11:33:26.421490Z",
          "iopub.status.busy": "2021-09-19T11:33:26.420874Z",
          "iopub.status.idle": "2021-09-19T11:33:27.271174Z",
          "shell.execute_reply": "2021-09-19T11:33:27.271714Z",
          "shell.execute_reply.started": "2021-09-19T11:26:45.707443Z"
        },
        "papermill": {
          "duration": 0.875271,
          "end_time": "2021-09-19T11:33:27.271887",
          "exception": false,
          "start_time": "2021-09-19T11:33:26.396616",
          "status": "completed"
        },
        "tags": [],
        "id": "10cb47a4",
        "outputId": "d6663589-9bc3-41a5-b61f-9339d36a8315"
      },
      "outputs": [
        {
          "data": {
            "image/svg+xml": [
              "<?xml version=\"1.0\" encoding=\"UTF-8\" standalone=\"no\"?>\n",
              "<!DOCTYPE svg PUBLIC \"-//W3C//DTD SVG 1.1//EN\"\n",
              " \"http://www.w3.org/Graphics/SVG/1.1/DTD/svg11.dtd\">\n",
              "<!-- Generated by graphviz version 2.48.0 (20210717.2242)\n",
              " -->\n",
              "<!-- Title: Tree Pages: 1 -->\n",
              "<svg width=\"1284pt\" height=\"433pt\"\n",
              " viewBox=\"0.00 0.00 1284.00 433.00\" xmlns=\"http://www.w3.org/2000/svg\" xmlns:xlink=\"http://www.w3.org/1999/xlink\">\n",
              "<g id=\"graph0\" class=\"graph\" transform=\"scale(1 1) rotate(0) translate(4 429)\">\n",
              "<title>Tree</title>\n",
              "<polygon fill=\"white\" stroke=\"transparent\" points=\"-4,4 -4,-429 1280,-429 1280,4 -4,4\"/>\n",
              "<!-- 0 -->\n",
              "<g id=\"node1\" class=\"node\">\n",
              "<title>0</title>\n",
              "<path fill=\"#f7fefa\" stroke=\"black\" d=\"M691.5,-425C691.5,-425 539.5,-425 539.5,-425 533.5,-425 527.5,-419 527.5,-413 527.5,-413 527.5,-354 527.5,-354 527.5,-348 533.5,-342 539.5,-342 539.5,-342 691.5,-342 691.5,-342 697.5,-342 703.5,-348 703.5,-354 703.5,-354 703.5,-413 703.5,-413 703.5,-419 697.5,-425 691.5,-425\"/>\n",
              "<text text-anchor=\"start\" x=\"555\" y=\"-409.8\" font-family=\"Helvetica,sans-Serif\" font-size=\"14.00\">Left weight ≤ 2.5</text>\n",
              "<text text-anchor=\"start\" x=\"571.5\" y=\"-394.8\" font-family=\"Helvetica,sans-Serif\" font-size=\"14.00\">gini = 0.563</text>\n",
              "<text text-anchor=\"start\" x=\"562.5\" y=\"-379.8\" font-family=\"Helvetica,sans-Serif\" font-size=\"14.00\">samples = 437</text>\n",
              "<text text-anchor=\"start\" x=\"535.5\" y=\"-364.8\" font-family=\"Helvetica,sans-Serif\" font-size=\"14.00\">value = [31, 208, 198]</text>\n",
              "<text text-anchor=\"start\" x=\"582.5\" y=\"-349.8\" font-family=\"Helvetica,sans-Serif\" font-size=\"14.00\">class = R</text>\n",
              "</g>\n",
              "<!-- 1 -->\n",
              "<g id=\"node2\" class=\"node\">\n",
              "<title>1</title>\n",
              "<path fill=\"#b48af0\" stroke=\"black\" d=\"M528,-306C528,-306 385,-306 385,-306 379,-306 373,-300 373,-294 373,-294 373,-235 373,-235 373,-229 379,-223 385,-223 385,-223 528,-223 528,-223 534,-223 540,-229 540,-235 540,-235 540,-294 540,-294 540,-300 534,-306 528,-306\"/>\n",
              "<text text-anchor=\"start\" x=\"384.5\" y=\"-290.8\" font-family=\"Helvetica,sans-Serif\" font-size=\"14.00\">Right distance ≤ 1.5</text>\n",
              "<text text-anchor=\"start\" x=\"412.5\" y=\"-275.8\" font-family=\"Helvetica,sans-Serif\" font-size=\"14.00\">gini = 0.461</text>\n",
              "<text text-anchor=\"start\" x=\"403.5\" y=\"-260.8\" font-family=\"Helvetica,sans-Serif\" font-size=\"14.00\">samples = 171</text>\n",
              "<text text-anchor=\"start\" x=\"381\" y=\"-245.8\" font-family=\"Helvetica,sans-Serif\" font-size=\"14.00\">value = [12, 41, 118]</text>\n",
              "<text text-anchor=\"start\" x=\"424.5\" y=\"-230.8\" font-family=\"Helvetica,sans-Serif\" font-size=\"14.00\">class = L</text>\n",
              "</g>\n",
              "<!-- 0&#45;&gt;1 -->\n",
              "<g id=\"edge1\" class=\"edge\">\n",
              "<title>0&#45;&gt;1</title>\n",
              "<path fill=\"none\" stroke=\"black\" d=\"M560.34,-341.91C547.26,-332.29 533.22,-321.95 519.82,-312.09\"/>\n",
              "<polygon fill=\"black\" stroke=\"black\" points=\"521.7,-309.13 511.57,-306.02 517.55,-314.77 521.7,-309.13\"/>\n",
              "<text text-anchor=\"middle\" x=\"515.33\" y=\"-327.04\" font-family=\"Helvetica,sans-Serif\" font-size=\"14.00\">True</text>\n",
              "</g>\n",
              "<!-- 8 -->\n",
              "<g id=\"node9\" class=\"node\">\n",
              "<title>8</title>\n",
              "<path fill=\"#a2f3c4\" stroke=\"black\" d=\"M857,-306C857,-306 714,-306 714,-306 708,-306 702,-300 702,-294 702,-294 702,-235 702,-235 702,-229 708,-223 714,-223 714,-223 857,-223 857,-223 863,-223 869,-229 869,-235 869,-235 869,-294 869,-294 869,-300 863,-306 857,-306\"/>\n",
              "<text text-anchor=\"start\" x=\"719\" y=\"-290.8\" font-family=\"Helvetica,sans-Serif\" font-size=\"14.00\">Left distance ≤ 2.5</text>\n",
              "<text text-anchor=\"start\" x=\"746\" y=\"-275.8\" font-family=\"Helvetica,sans-Serif\" font-size=\"14.00\">gini = 0.51</text>\n",
              "<text text-anchor=\"start\" x=\"732.5\" y=\"-260.8\" font-family=\"Helvetica,sans-Serif\" font-size=\"14.00\">samples = 266</text>\n",
              "<text text-anchor=\"start\" x=\"710\" y=\"-245.8\" font-family=\"Helvetica,sans-Serif\" font-size=\"14.00\">value = [19, 167, 80]</text>\n",
              "<text text-anchor=\"start\" x=\"752.5\" y=\"-230.8\" font-family=\"Helvetica,sans-Serif\" font-size=\"14.00\">class = R</text>\n",
              "</g>\n",
              "<!-- 0&#45;&gt;8 -->\n",
              "<g id=\"edge8\" class=\"edge\">\n",
              "<title>0&#45;&gt;8</title>\n",
              "<path fill=\"none\" stroke=\"black\" d=\"M674.48,-341.91C688.59,-332.2 703.76,-321.76 718.21,-311.81\"/>\n",
              "<polygon fill=\"black\" stroke=\"black\" points=\"720.37,-314.57 726.62,-306.02 716.4,-308.81 720.37,-314.57\"/>\n",
              "<text text-anchor=\"middle\" x=\"722.08\" y=\"-326.91\" font-family=\"Helvetica,sans-Serif\" font-size=\"14.00\">False</text>\n",
              "</g>\n",
              "<!-- 2 -->\n",
              "<g id=\"node3\" class=\"node\">\n",
              "<title>2</title>\n",
              "<path fill=\"#94f1bb\" stroke=\"black\" d=\"M282,-187C282,-187 157,-187 157,-187 151,-187 145,-181 145,-175 145,-175 145,-116 145,-116 145,-110 151,-104 157,-104 157,-104 282,-104 282,-104 288,-104 294,-110 294,-116 294,-116 294,-175 294,-175 294,-181 288,-187 282,-187\"/>\n",
              "<text text-anchor=\"start\" x=\"153\" y=\"-171.8\" font-family=\"Helvetica,sans-Serif\" font-size=\"14.00\">Left distance ≤ 2.5</text>\n",
              "<text text-anchor=\"start\" x=\"175.5\" y=\"-156.8\" font-family=\"Helvetica,sans-Serif\" font-size=\"14.00\">gini = 0.498</text>\n",
              "<text text-anchor=\"start\" x=\"171\" y=\"-141.8\" font-family=\"Helvetica,sans-Serif\" font-size=\"14.00\">samples = 32</text>\n",
              "<text text-anchor=\"start\" x=\"157.5\" y=\"-126.8\" font-family=\"Helvetica,sans-Serif\" font-size=\"14.00\">value = [3, 21, 8]</text>\n",
              "<text text-anchor=\"start\" x=\"186.5\" y=\"-111.8\" font-family=\"Helvetica,sans-Serif\" font-size=\"14.00\">class = R</text>\n",
              "</g>\n",
              "<!-- 1&#45;&gt;2 -->\n",
              "<g id=\"edge2\" class=\"edge\">\n",
              "<title>1&#45;&gt;2</title>\n",
              "<path fill=\"none\" stroke=\"black\" d=\"M374.27,-222.91C351.26,-211.55 326.22,-199.19 303.13,-187.78\"/>\n",
              "<polygon fill=\"black\" stroke=\"black\" points=\"304.56,-184.59 294.04,-183.3 301.46,-190.86 304.56,-184.59\"/>\n",
              "</g>\n",
              "<!-- 5 -->\n",
              "<g id=\"node6\" class=\"node\">\n",
              "<title>5</title>\n",
              "<path fill=\"#a069eb\" stroke=\"black\" d=\"M523.5,-187C523.5,-187 389.5,-187 389.5,-187 383.5,-187 377.5,-181 377.5,-175 377.5,-175 377.5,-116 377.5,-116 377.5,-110 383.5,-104 389.5,-104 389.5,-104 523.5,-104 523.5,-104 529.5,-104 535.5,-110 535.5,-116 535.5,-116 535.5,-175 535.5,-175 535.5,-181 529.5,-187 523.5,-187\"/>\n",
              "<text text-anchor=\"start\" x=\"390.5\" y=\"-171.8\" font-family=\"Helvetica,sans-Serif\" font-size=\"14.00\">Right weight ≤ 2.5</text>\n",
              "<text text-anchor=\"start\" x=\"412.5\" y=\"-156.8\" font-family=\"Helvetica,sans-Serif\" font-size=\"14.00\">gini = 0.349</text>\n",
              "<text text-anchor=\"start\" x=\"403.5\" y=\"-141.8\" font-family=\"Helvetica,sans-Serif\" font-size=\"14.00\">samples = 139</text>\n",
              "<text text-anchor=\"start\" x=\"385.5\" y=\"-126.8\" font-family=\"Helvetica,sans-Serif\" font-size=\"14.00\">value = [9, 20, 110]</text>\n",
              "<text text-anchor=\"start\" x=\"424.5\" y=\"-111.8\" font-family=\"Helvetica,sans-Serif\" font-size=\"14.00\">class = L</text>\n",
              "</g>\n",
              "<!-- 1&#45;&gt;5 -->\n",
              "<g id=\"edge5\" class=\"edge\">\n",
              "<title>1&#45;&gt;5</title>\n",
              "<path fill=\"none\" stroke=\"black\" d=\"M456.5,-222.91C456.5,-214.65 456.5,-205.86 456.5,-197.3\"/>\n",
              "<polygon fill=\"black\" stroke=\"black\" points=\"460,-197.02 456.5,-187.02 453,-197.02 460,-197.02\"/>\n",
              "</g>\n",
              "<!-- 3 -->\n",
              "<g id=\"node4\" class=\"node\">\n",
              "<title>3</title>\n",
              "<path fill=\"#e0cef8\" stroke=\"black\" d=\"M119,-68C119,-68 12,-68 12,-68 6,-68 0,-62 0,-56 0,-56 0,-12 0,-12 0,-6 6,0 12,0 12,0 119,0 119,0 125,0 131,-6 131,-12 131,-12 131,-56 131,-56 131,-62 125,-68 119,-68\"/>\n",
              "<text text-anchor=\"start\" x=\"21.5\" y=\"-52.8\" font-family=\"Helvetica,sans-Serif\" font-size=\"14.00\">gini = 0.611</text>\n",
              "<text text-anchor=\"start\" x=\"17\" y=\"-37.8\" font-family=\"Helvetica,sans-Serif\" font-size=\"14.00\">samples = 12</text>\n",
              "<text text-anchor=\"start\" x=\"8\" y=\"-22.8\" font-family=\"Helvetica,sans-Serif\" font-size=\"14.00\">value = [2, 4, 6]</text>\n",
              "<text text-anchor=\"start\" x=\"33.5\" y=\"-7.8\" font-family=\"Helvetica,sans-Serif\" font-size=\"14.00\">class = L</text>\n",
              "</g>\n",
              "<!-- 2&#45;&gt;3 -->\n",
              "<g id=\"edge3\" class=\"edge\">\n",
              "<title>2&#45;&gt;3</title>\n",
              "<path fill=\"none\" stroke=\"black\" d=\"M162.16,-103.73C148.56,-94.06 134.09,-83.77 120.59,-74.17\"/>\n",
              "<polygon fill=\"black\" stroke=\"black\" points=\"122.51,-71.24 112.33,-68.3 118.45,-76.95 122.51,-71.24\"/>\n",
              "</g>\n",
              "<!-- 4 -->\n",
              "<g id=\"node5\" class=\"node\">\n",
              "<title>4</title>\n",
              "<path fill=\"#5ae996\" stroke=\"black\" d=\"M277.5,-68C277.5,-68 161.5,-68 161.5,-68 155.5,-68 149.5,-62 149.5,-56 149.5,-56 149.5,-12 149.5,-12 149.5,-6 155.5,0 161.5,0 161.5,0 277.5,0 277.5,0 283.5,0 289.5,-6 289.5,-12 289.5,-12 289.5,-56 289.5,-56 289.5,-62 283.5,-68 277.5,-68\"/>\n",
              "<text text-anchor=\"start\" x=\"175.5\" y=\"-52.8\" font-family=\"Helvetica,sans-Serif\" font-size=\"14.00\">gini = 0.265</text>\n",
              "<text text-anchor=\"start\" x=\"171\" y=\"-37.8\" font-family=\"Helvetica,sans-Serif\" font-size=\"14.00\">samples = 20</text>\n",
              "<text text-anchor=\"start\" x=\"157.5\" y=\"-22.8\" font-family=\"Helvetica,sans-Serif\" font-size=\"14.00\">value = [1, 17, 2]</text>\n",
              "<text text-anchor=\"start\" x=\"186.5\" y=\"-7.8\" font-family=\"Helvetica,sans-Serif\" font-size=\"14.00\">class = R</text>\n",
              "</g>\n",
              "<!-- 2&#45;&gt;4 -->\n",
              "<g id=\"edge4\" class=\"edge\">\n",
              "<title>2&#45;&gt;4</title>\n",
              "<path fill=\"none\" stroke=\"black\" d=\"M219.5,-103.73C219.5,-95.52 219.5,-86.86 219.5,-78.56\"/>\n",
              "<polygon fill=\"black\" stroke=\"black\" points=\"223,-78.3 219.5,-68.3 216,-78.3 223,-78.3\"/>\n",
              "</g>\n",
              "<!-- 6 -->\n",
              "<g id=\"node7\" class=\"node\">\n",
              "<title>6</title>\n",
              "<path fill=\"#dcc7f8\" stroke=\"black\" d=\"M445,-68C445,-68 320,-68 320,-68 314,-68 308,-62 308,-56 308,-56 308,-12 308,-12 308,-6 314,0 320,0 320,0 445,0 445,0 451,0 457,-6 457,-12 457,-12 457,-56 457,-56 457,-62 451,-68 445,-68\"/>\n",
              "<text text-anchor=\"start\" x=\"338.5\" y=\"-52.8\" font-family=\"Helvetica,sans-Serif\" font-size=\"14.00\">gini = 0.583</text>\n",
              "<text text-anchor=\"start\" x=\"334\" y=\"-37.8\" font-family=\"Helvetica,sans-Serif\" font-size=\"14.00\">samples = 49</text>\n",
              "<text text-anchor=\"start\" x=\"316\" y=\"-22.8\" font-family=\"Helvetica,sans-Serif\" font-size=\"14.00\">value = [6, 17, 26]</text>\n",
              "<text text-anchor=\"start\" x=\"350.5\" y=\"-7.8\" font-family=\"Helvetica,sans-Serif\" font-size=\"14.00\">class = L</text>\n",
              "</g>\n",
              "<!-- 5&#45;&gt;6 -->\n",
              "<g id=\"edge6\" class=\"edge\">\n",
              "<title>5&#45;&gt;6</title>\n",
              "<path fill=\"none\" stroke=\"black\" d=\"M428.95,-103.73C422.97,-94.88 416.63,-85.51 410.63,-76.63\"/>\n",
              "<polygon fill=\"black\" stroke=\"black\" points=\"413.5,-74.63 405,-68.3 407.7,-78.54 413.5,-74.63\"/>\n",
              "</g>\n",
              "<!-- 7 -->\n",
              "<g id=\"node8\" class=\"node\">\n",
              "<title>7</title>\n",
              "<path fill=\"#8a47e7\" stroke=\"black\" d=\"M603.5,-68C603.5,-68 487.5,-68 487.5,-68 481.5,-68 475.5,-62 475.5,-56 475.5,-56 475.5,-12 475.5,-12 475.5,-6 481.5,0 487.5,0 487.5,0 603.5,0 603.5,0 609.5,0 615.5,-6 615.5,-12 615.5,-12 615.5,-56 615.5,-56 615.5,-62 609.5,-68 603.5,-68\"/>\n",
              "<text text-anchor=\"start\" x=\"501.5\" y=\"-52.8\" font-family=\"Helvetica,sans-Serif\" font-size=\"14.00\">gini = 0.127</text>\n",
              "<text text-anchor=\"start\" x=\"497\" y=\"-37.8\" font-family=\"Helvetica,sans-Serif\" font-size=\"14.00\">samples = 90</text>\n",
              "<text text-anchor=\"start\" x=\"483.5\" y=\"-22.8\" font-family=\"Helvetica,sans-Serif\" font-size=\"14.00\">value = [3, 3, 84]</text>\n",
              "<text text-anchor=\"start\" x=\"513.5\" y=\"-7.8\" font-family=\"Helvetica,sans-Serif\" font-size=\"14.00\">class = L</text>\n",
              "</g>\n",
              "<!-- 5&#45;&gt;7 -->\n",
              "<g id=\"edge7\" class=\"edge\">\n",
              "<title>5&#45;&gt;7</title>\n",
              "<path fill=\"none\" stroke=\"black\" d=\"M489.64,-103.73C496.98,-94.7 504.76,-85.12 512.11,-76.08\"/>\n",
              "<polygon fill=\"black\" stroke=\"black\" points=\"514.84,-78.27 518.43,-68.3 509.41,-73.85 514.84,-78.27\"/>\n",
              "</g>\n",
              "<!-- 9 -->\n",
              "<g id=\"node10\" class=\"node\">\n",
              "<title>9</title>\n",
              "<path fill=\"#dac5f7\" stroke=\"black\" d=\"M848,-187C848,-187 723,-187 723,-187 717,-187 711,-181 711,-175 711,-175 711,-116 711,-116 711,-110 717,-104 723,-104 723,-104 848,-104 848,-104 854,-104 860,-110 860,-116 860,-116 860,-175 860,-175 860,-181 854,-187 848,-187\"/>\n",
              "<text text-anchor=\"start\" x=\"719.5\" y=\"-171.8\" font-family=\"Helvetica,sans-Serif\" font-size=\"14.00\">Right weight ≤ 2.5</text>\n",
              "<text text-anchor=\"start\" x=\"741.5\" y=\"-156.8\" font-family=\"Helvetica,sans-Serif\" font-size=\"14.00\">gini = 0.544</text>\n",
              "<text text-anchor=\"start\" x=\"732.5\" y=\"-141.8\" font-family=\"Helvetica,sans-Serif\" font-size=\"14.00\">samples = 104</text>\n",
              "<text text-anchor=\"start\" x=\"719\" y=\"-126.8\" font-family=\"Helvetica,sans-Serif\" font-size=\"14.00\">value = [7, 39, 58]</text>\n",
              "<text text-anchor=\"start\" x=\"753.5\" y=\"-111.8\" font-family=\"Helvetica,sans-Serif\" font-size=\"14.00\">class = L</text>\n",
              "</g>\n",
              "<!-- 8&#45;&gt;9 -->\n",
              "<g id=\"edge9\" class=\"edge\">\n",
              "<title>8&#45;&gt;9</title>\n",
              "<path fill=\"none\" stroke=\"black\" d=\"M785.5,-222.91C785.5,-214.65 785.5,-205.86 785.5,-197.3\"/>\n",
              "<polygon fill=\"black\" stroke=\"black\" points=\"789,-197.02 785.5,-187.02 782,-197.02 789,-197.02\"/>\n",
              "</g>\n",
              "<!-- 12 -->\n",
              "<g id=\"node13\" class=\"node\">\n",
              "<title>12</title>\n",
              "<path fill=\"#69eba0\" stroke=\"black\" d=\"M1110,-187C1110,-187 967,-187 967,-187 961,-187 955,-181 955,-175 955,-175 955,-116 955,-116 955,-110 961,-104 967,-104 967,-104 1110,-104 1110,-104 1116,-104 1122,-110 1122,-116 1122,-116 1122,-175 1122,-175 1122,-181 1116,-187 1110,-187\"/>\n",
              "<text text-anchor=\"start\" x=\"966.5\" y=\"-171.8\" font-family=\"Helvetica,sans-Serif\" font-size=\"14.00\">Right distance ≤ 3.5</text>\n",
              "<text text-anchor=\"start\" x=\"994.5\" y=\"-156.8\" font-family=\"Helvetica,sans-Serif\" font-size=\"14.00\">gini = 0.352</text>\n",
              "<text text-anchor=\"start\" x=\"985.5\" y=\"-141.8\" font-family=\"Helvetica,sans-Serif\" font-size=\"14.00\">samples = 162</text>\n",
              "<text text-anchor=\"start\" x=\"963\" y=\"-126.8\" font-family=\"Helvetica,sans-Serif\" font-size=\"14.00\">value = [12, 128, 22]</text>\n",
              "<text text-anchor=\"start\" x=\"1005.5\" y=\"-111.8\" font-family=\"Helvetica,sans-Serif\" font-size=\"14.00\">class = R</text>\n",
              "</g>\n",
              "<!-- 8&#45;&gt;12 -->\n",
              "<g id=\"edge12\" class=\"edge\">\n",
              "<title>8&#45;&gt;12</title>\n",
              "<path fill=\"none\" stroke=\"black\" d=\"M869.04,-224.87C893.53,-213.54 920.45,-201.09 945.48,-189.52\"/>\n",
              "<polygon fill=\"black\" stroke=\"black\" points=\"947.01,-192.67 954.61,-185.29 944.07,-186.31 947.01,-192.67\"/>\n",
              "</g>\n",
              "<!-- 10 -->\n",
              "<g id=\"node11\" class=\"node\">\n",
              "<title>10</title>\n",
              "<path fill=\"#8df0b6\" stroke=\"black\" d=\"M771,-68C771,-68 646,-68 646,-68 640,-68 634,-62 634,-56 634,-56 634,-12 634,-12 634,-6 640,0 646,0 646,0 771,0 771,0 777,0 783,-6 783,-12 783,-12 783,-56 783,-56 783,-62 777,-68 771,-68\"/>\n",
              "<text text-anchor=\"start\" x=\"664.5\" y=\"-52.8\" font-family=\"Helvetica,sans-Serif\" font-size=\"14.00\">gini = 0.482</text>\n",
              "<text text-anchor=\"start\" x=\"660\" y=\"-37.8\" font-family=\"Helvetica,sans-Serif\" font-size=\"14.00\">samples = 43</text>\n",
              "<text text-anchor=\"start\" x=\"642\" y=\"-22.8\" font-family=\"Helvetica,sans-Serif\" font-size=\"14.00\">value = [4, 29, 10]</text>\n",
              "<text text-anchor=\"start\" x=\"675.5\" y=\"-7.8\" font-family=\"Helvetica,sans-Serif\" font-size=\"14.00\">class = R</text>\n",
              "</g>\n",
              "<!-- 9&#45;&gt;10 -->\n",
              "<g id=\"edge10\" class=\"edge\">\n",
              "<title>9&#45;&gt;10</title>\n",
              "<path fill=\"none\" stroke=\"black\" d=\"M756.83,-103.73C750.61,-94.88 744.02,-85.51 737.77,-76.63\"/>\n",
              "<polygon fill=\"black\" stroke=\"black\" points=\"740.53,-74.47 731.92,-68.3 734.81,-78.49 740.53,-74.47\"/>\n",
              "</g>\n",
              "<!-- 11 -->\n",
              "<g id=\"node12\" class=\"node\">\n",
              "<title>11</title>\n",
              "<path fill=\"#a16bec\" stroke=\"black\" d=\"M938,-68C938,-68 813,-68 813,-68 807,-68 801,-62 801,-56 801,-56 801,-12 801,-12 801,-6 807,0 813,0 813,0 938,0 938,0 944,0 950,-6 950,-12 950,-12 950,-56 950,-56 950,-62 944,-68 938,-68\"/>\n",
              "<text text-anchor=\"start\" x=\"831.5\" y=\"-52.8\" font-family=\"Helvetica,sans-Serif\" font-size=\"14.00\">gini = 0.352</text>\n",
              "<text text-anchor=\"start\" x=\"827\" y=\"-37.8\" font-family=\"Helvetica,sans-Serif\" font-size=\"14.00\">samples = 61</text>\n",
              "<text text-anchor=\"start\" x=\"809\" y=\"-22.8\" font-family=\"Helvetica,sans-Serif\" font-size=\"14.00\">value = [3, 10, 48]</text>\n",
              "<text text-anchor=\"start\" x=\"843.5\" y=\"-7.8\" font-family=\"Helvetica,sans-Serif\" font-size=\"14.00\">class = L</text>\n",
              "</g>\n",
              "<!-- 9&#45;&gt;11 -->\n",
              "<g id=\"edge11\" class=\"edge\">\n",
              "<title>9&#45;&gt;11</title>\n",
              "<path fill=\"none\" stroke=\"black\" d=\"M819.01,-103.73C826.43,-94.7 834.3,-85.12 841.73,-76.08\"/>\n",
              "<polygon fill=\"black\" stroke=\"black\" points=\"844.48,-78.25 848.13,-68.3 839.08,-73.8 844.48,-78.25\"/>\n",
              "</g>\n",
              "<!-- 13 -->\n",
              "<g id=\"node14\" class=\"node\">\n",
              "<title>13</title>\n",
              "<path fill=\"#47e78a\" stroke=\"black\" d=\"M1096.5,-68C1096.5,-68 980.5,-68 980.5,-68 974.5,-68 968.5,-62 968.5,-56 968.5,-56 968.5,-12 968.5,-12 968.5,-6 974.5,0 980.5,0 980.5,0 1096.5,0 1096.5,0 1102.5,0 1108.5,-6 1108.5,-12 1108.5,-12 1108.5,-56 1108.5,-56 1108.5,-62 1102.5,-68 1096.5,-68\"/>\n",
              "<text text-anchor=\"start\" x=\"994.5\" y=\"-52.8\" font-family=\"Helvetica,sans-Serif\" font-size=\"14.00\">gini = 0.133</text>\n",
              "<text text-anchor=\"start\" x=\"985.5\" y=\"-37.8\" font-family=\"Helvetica,sans-Serif\" font-size=\"14.00\">samples = 100</text>\n",
              "<text text-anchor=\"start\" x=\"976.5\" y=\"-22.8\" font-family=\"Helvetica,sans-Serif\" font-size=\"14.00\">value = [4, 93, 3]</text>\n",
              "<text text-anchor=\"start\" x=\"1005.5\" y=\"-7.8\" font-family=\"Helvetica,sans-Serif\" font-size=\"14.00\">class = R</text>\n",
              "</g>\n",
              "<!-- 12&#45;&gt;13 -->\n",
              "<g id=\"edge13\" class=\"edge\">\n",
              "<title>12&#45;&gt;13</title>\n",
              "<path fill=\"none\" stroke=\"black\" d=\"M1038.5,-103.73C1038.5,-95.52 1038.5,-86.86 1038.5,-78.56\"/>\n",
              "<polygon fill=\"black\" stroke=\"black\" points=\"1042,-78.3 1038.5,-68.3 1035,-78.3 1042,-78.3\"/>\n",
              "</g>\n",
              "<!-- 14 -->\n",
              "<g id=\"node15\" class=\"node\">\n",
              "<title>14</title>\n",
              "<path fill=\"#b5f5d0\" stroke=\"black\" d=\"M1264,-68C1264,-68 1139,-68 1139,-68 1133,-68 1127,-62 1127,-56 1127,-56 1127,-12 1127,-12 1127,-6 1133,0 1139,0 1139,0 1264,0 1264,0 1270,0 1276,-6 1276,-12 1276,-12 1276,-56 1276,-56 1276,-62 1270,-68 1264,-68\"/>\n",
              "<text text-anchor=\"start\" x=\"1157.5\" y=\"-52.8\" font-family=\"Helvetica,sans-Serif\" font-size=\"14.00\">gini = 0.571</text>\n",
              "<text text-anchor=\"start\" x=\"1153\" y=\"-37.8\" font-family=\"Helvetica,sans-Serif\" font-size=\"14.00\">samples = 62</text>\n",
              "<text text-anchor=\"start\" x=\"1135\" y=\"-22.8\" font-family=\"Helvetica,sans-Serif\" font-size=\"14.00\">value = [8, 35, 19]</text>\n",
              "<text text-anchor=\"start\" x=\"1168.5\" y=\"-7.8\" font-family=\"Helvetica,sans-Serif\" font-size=\"14.00\">class = R</text>\n",
              "</g>\n",
              "<!-- 12&#45;&gt;14 -->\n",
              "<g id=\"edge14\" class=\"edge\">\n",
              "<title>12&#45;&gt;14</title>\n",
              "<path fill=\"none\" stroke=\"black\" d=\"M1099.2,-103.73C1113.8,-93.92 1129.36,-83.46 1143.82,-73.75\"/>\n",
              "<polygon fill=\"black\" stroke=\"black\" points=\"1145.84,-76.61 1152.19,-68.13 1141.94,-70.8 1145.84,-76.61\"/>\n",
              "</g>\n",
              "</g>\n",
              "</svg>\n"
            ],
            "text/plain": [
              "<graphviz.files.Source at 0x7fd7ceca0b10>"
            ]
          },
          "execution_count": 12,
          "metadata": {},
          "output_type": "execute_result"
        }
      ],
      "source": [
        "from sklearn import tree\n",
        "import graphviz\n",
        "dot_data = tree.export_graphviz(clf_model,\n",
        "                                out_file=None, \n",
        "                      feature_names=feature_names,  \n",
        "                      class_names=target,  \n",
        "                      filled=True, rounded=True,  \n",
        "                      special_characters=True)  \n",
        "graph = graphviz.Source(dot_data)  \n",
        "\n",
        "graph"
      ]
    },
    {
      "cell_type": "code",
      "execution_count": null,
      "id": "a6c1a046",
      "metadata": {
        "execution": {
          "iopub.execute_input": "2021-09-19T11:33:27.322217Z",
          "iopub.status.busy": "2021-09-19T11:33:27.321600Z",
          "iopub.status.idle": "2021-09-19T11:33:27.327558Z",
          "shell.execute_reply": "2021-09-19T11:33:27.328118Z",
          "shell.execute_reply.started": "2021-09-19T11:28:59.606746Z"
        },
        "papermill": {
          "duration": 0.032469,
          "end_time": "2021-09-19T11:33:27.328296",
          "exception": false,
          "start_time": "2021-09-19T11:33:27.295827",
          "status": "completed"
        },
        "tags": [],
        "id": "a6c1a046",
        "outputId": "fe0a70ef-acc6-4e70-f1e1-ca08bf106898"
      },
      "outputs": [
        {
          "name": "stdout",
          "output_type": "stream",
          "text": [
            "|--- Left weight <= 2.50\n",
            "|   |--- Right distance <= 1.50\n",
            "|   |   |--- Left distance <= 2.50\n",
            "|   |   |   |--- class: R\n",
            "|   |   |--- Left distance >  2.50\n",
            "|   |   |   |--- class: L\n",
            "|   |--- Right distance >  1.50\n",
            "|   |   |--- Right weight <= 2.50\n",
            "|   |   |   |--- class: R\n",
            "|   |   |--- Right weight >  2.50\n",
            "|   |   |   |--- class: R\n",
            "|--- Left weight >  2.50\n",
            "|   |--- Left distance <= 2.50\n",
            "|   |   |--- Right weight <= 2.50\n",
            "|   |   |   |--- class: L\n",
            "|   |   |--- Right weight >  2.50\n",
            "|   |   |   |--- class: R\n",
            "|   |--- Left distance >  2.50\n",
            "|   |   |--- Right distance <= 3.50\n",
            "|   |   |   |--- class: L\n",
            "|   |   |--- Right distance >  3.50\n",
            "|   |   |   |--- class: L\n",
            "\n"
          ]
        }
      ],
      "source": [
        "from sklearn.tree import export_text\n",
        "r = export_text(clf_model, feature_names=feature_names)\n",
        "print(r)"
      ]
    },
    {
      "cell_type": "code",
      "execution_count": null,
      "id": "8de1d6a6",
      "metadata": {
        "execution": {
          "iopub.execute_input": "2021-09-19T11:33:27.378129Z",
          "iopub.status.busy": "2021-09-19T11:33:27.377516Z",
          "iopub.status.idle": "2021-09-19T11:33:27.383340Z",
          "shell.execute_reply": "2021-09-19T11:33:27.382820Z",
          "shell.execute_reply.started": "2021-09-19T11:29:37.960510Z"
        },
        "papermill": {
          "duration": 0.031897,
          "end_time": "2021-09-19T11:33:27.383482",
          "exception": false,
          "start_time": "2021-09-19T11:33:27.351585",
          "status": "completed"
        },
        "tags": [],
        "id": "8de1d6a6",
        "outputId": "b4241c30-f2d9-44d7-e456-f861c2199e26"
      },
      "outputs": [
        {
          "data": {
            "text/plain": [
              "'graph1.jpg'"
            ]
          },
          "execution_count": 14,
          "metadata": {},
          "output_type": "execute_result"
        }
      ],
      "source": [
        "graph.save('graph1.jpg')"
      ]
    }
  ],
  "metadata": {
    "kernelspec": {
      "display_name": "Python 3",
      "language": "python",
      "name": "python3"
    },
    "language_info": {
      "codemirror_mode": {
        "name": "ipython",
        "version": 3
      },
      "file_extension": ".py",
      "mimetype": "text/x-python",
      "name": "python",
      "nbconvert_exporter": "python",
      "pygments_lexer": "ipython3",
      "version": "3.7.10"
    },
    "papermill": {
      "default_parameters": {},
      "duration": 12.670867,
      "end_time": "2021-09-19T11:33:28.903503",
      "environment_variables": {},
      "exception": null,
      "input_path": "__notebook__.ipynb",
      "output_path": "__notebook__.ipynb",
      "parameters": {},
      "start_time": "2021-09-19T11:33:16.232636",
      "version": "2.3.3"
    },
    "colab": {
      "provenance": [],
      "collapsed_sections": []
    }
  },
  "nbformat": 4,
  "nbformat_minor": 5
}