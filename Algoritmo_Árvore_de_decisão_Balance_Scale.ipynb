{
  "cells": [
    {
      "cell_type": "markdown",
      "metadata": {
        "id": "view-in-github",
        "colab_type": "text"
      },
      "source": [
        "<a href=\"https://colab.research.google.com/github/andremartins7/IntComp/blob/Balance-Scale/Algoritmo_%C3%81rvore_de_decis%C3%A3o_Balance_Scale.ipynb\" target=\"_parent\"><img src=\"https://colab.research.google.com/assets/colab-badge.svg\" alt=\"Open In Colab\"/></a>"
      ]
    },
    {
      "cell_type": "markdown",
      "id": "91d81208",
      "metadata": {
        "papermill": {
          "duration": 0.020472,
          "end_time": "2021-09-19T11:33:23.785084",
          "exception": false,
          "start_time": "2021-09-19T11:33:23.764612",
          "status": "completed"
        },
        "tags": [],
        "id": "91d81208"
      },
      "source": [
        "<h1 align=\"center\"  > Exercício 2 - Inteligência Computacional - Algoritmo Árvore de decisão</h1>\n",
        "<h1 align=\"center\"  > Autor: André Martins</h1>\n",
        "<h1 align=\"center\" style=\"color:#8100cc;\" >Questão 2b: Calculando o atributo para a raiz de uma árvore de decisão no problema do conjuntos de dados Balance-Scale </h1> <br>\n",
        "<br><br>\n",
        "O objetivo deste problema é prever se a balança se inclinará para a esquerda ou para a direita com base nos pesos dos dois lados.\n",
        "<br>"
      ]
    },
    {
      "cell_type": "code",
      "execution_count": 13,
      "id": "e6700c80",
      "metadata": {
        "execution": {
          "iopub.execute_input": "2021-09-19T11:33:23.862684Z",
          "iopub.status.busy": "2021-09-19T11:33:23.860855Z",
          "iopub.status.idle": "2021-09-19T11:33:24.693992Z",
          "shell.execute_reply": "2021-09-19T11:33:24.693290Z",
          "shell.execute_reply.started": "2021-09-19T11:11:55.352705Z"
        },
        "papermill": {
          "duration": 0.855013,
          "end_time": "2021-09-19T11:33:24.694165",
          "exception": false,
          "start_time": "2021-09-19T11:33:23.839152",
          "status": "completed"
        },
        "tags": [],
        "id": "e6700c80"
      },
      "outputs": [],
      "source": [
        "# Importando Bibliotecas Necessárias\n",
        "import numpy as np\n",
        "import pandas as pd\n",
        "import seaborn as sns\n",
        "import matplotlib.pyplot as plt\n",
        "%matplotlib inline"
      ]
    },
    {
      "cell_type": "code",
      "execution_count": 21,
      "id": "a968fe74",
      "metadata": {
        "execution": {
          "iopub.execute_input": "2021-09-19T11:33:24.735575Z",
          "iopub.status.busy": "2021-09-19T11:33:24.732871Z",
          "iopub.status.idle": "2021-09-19T11:33:24.754698Z",
          "shell.execute_reply": "2021-09-19T11:33:24.753895Z",
          "shell.execute_reply.started": "2021-09-19T11:14:28.968673Z"
        },
        "papermill": {
          "duration": 0.042808,
          "end_time": "2021-09-19T11:33:24.754866",
          "exception": false,
          "start_time": "2021-09-19T11:33:24.712058",
          "status": "completed"
        },
        "tags": [],
        "id": "a968fe74"
      },
      "outputs": [],
      "source": [
        "# Importando conjunto de dados\n",
        "col = [ 'Class Name','Left weight','Left distance','Right weight','Right distance']\n",
        "df = pd.read_csv('https://raw.githubusercontent.com/andremartins7/IntComp/Balance-Scale/balance-scale.csv',names=col,sep=',')\n"
      ]
    },
    {
      "cell_type": "code",
      "execution_count": 16,
      "id": "c4128d7d",
      "metadata": {
        "execution": {
          "iopub.execute_input": "2021-09-19T11:33:24.795290Z",
          "iopub.status.busy": "2021-09-19T11:33:24.794302Z",
          "iopub.status.idle": "2021-09-19T11:33:24.813281Z",
          "shell.execute_reply": "2021-09-19T11:33:24.812753Z",
          "shell.execute_reply.started": "2021-09-19T11:14:53.034552Z"
        },
        "papermill": {
          "duration": 0.040378,
          "end_time": "2021-09-19T11:33:24.813418",
          "exception": false,
          "start_time": "2021-09-19T11:33:24.773040",
          "status": "completed"
        },
        "tags": [],
        "colab": {
          "base_uri": "https://localhost:8080/",
          "height": 424
        },
        "id": "c4128d7d",
        "outputId": "08db50bd-eb1b-4525-b344-a2bf5a1e2b9a"
      },
      "outputs": [
        {
          "output_type": "execute_result",
          "data": {
            "text/plain": [
              "    Class Name Left weight Left distance Right weight Right distance\n",
              "0        Class    L-Weight    L-Distance     R-Weight     R-Distance\n",
              "1            B           1             1            1              1\n",
              "2            R           1             1            1              2\n",
              "3            R           1             1            1              3\n",
              "4            R           1             1            1              4\n",
              "..         ...         ...           ...          ...            ...\n",
              "621          L           5             5            5              1\n",
              "622          L           5             5            5              2\n",
              "623          L           5             5            5              3\n",
              "624          L           5             5            5              4\n",
              "625          B           5             5            5              5\n",
              "\n",
              "[626 rows x 5 columns]"
            ],
            "text/html": [
              "\n",
              "  <div id=\"df-b4263223-45bb-4cf8-acf7-69aa18e0badb\">\n",
              "    <div class=\"colab-df-container\">\n",
              "      <div>\n",
              "<style scoped>\n",
              "    .dataframe tbody tr th:only-of-type {\n",
              "        vertical-align: middle;\n",
              "    }\n",
              "\n",
              "    .dataframe tbody tr th {\n",
              "        vertical-align: top;\n",
              "    }\n",
              "\n",
              "    .dataframe thead th {\n",
              "        text-align: right;\n",
              "    }\n",
              "</style>\n",
              "<table border=\"1\" class=\"dataframe\">\n",
              "  <thead>\n",
              "    <tr style=\"text-align: right;\">\n",
              "      <th></th>\n",
              "      <th>Class Name</th>\n",
              "      <th>Left weight</th>\n",
              "      <th>Left distance</th>\n",
              "      <th>Right weight</th>\n",
              "      <th>Right distance</th>\n",
              "    </tr>\n",
              "  </thead>\n",
              "  <tbody>\n",
              "    <tr>\n",
              "      <th>0</th>\n",
              "      <td>Class</td>\n",
              "      <td>L-Weight</td>\n",
              "      <td>L-Distance</td>\n",
              "      <td>R-Weight</td>\n",
              "      <td>R-Distance</td>\n",
              "    </tr>\n",
              "    <tr>\n",
              "      <th>1</th>\n",
              "      <td>B</td>\n",
              "      <td>1</td>\n",
              "      <td>1</td>\n",
              "      <td>1</td>\n",
              "      <td>1</td>\n",
              "    </tr>\n",
              "    <tr>\n",
              "      <th>2</th>\n",
              "      <td>R</td>\n",
              "      <td>1</td>\n",
              "      <td>1</td>\n",
              "      <td>1</td>\n",
              "      <td>2</td>\n",
              "    </tr>\n",
              "    <tr>\n",
              "      <th>3</th>\n",
              "      <td>R</td>\n",
              "      <td>1</td>\n",
              "      <td>1</td>\n",
              "      <td>1</td>\n",
              "      <td>3</td>\n",
              "    </tr>\n",
              "    <tr>\n",
              "      <th>4</th>\n",
              "      <td>R</td>\n",
              "      <td>1</td>\n",
              "      <td>1</td>\n",
              "      <td>1</td>\n",
              "      <td>4</td>\n",
              "    </tr>\n",
              "    <tr>\n",
              "      <th>...</th>\n",
              "      <td>...</td>\n",
              "      <td>...</td>\n",
              "      <td>...</td>\n",
              "      <td>...</td>\n",
              "      <td>...</td>\n",
              "    </tr>\n",
              "    <tr>\n",
              "      <th>621</th>\n",
              "      <td>L</td>\n",
              "      <td>5</td>\n",
              "      <td>5</td>\n",
              "      <td>5</td>\n",
              "      <td>1</td>\n",
              "    </tr>\n",
              "    <tr>\n",
              "      <th>622</th>\n",
              "      <td>L</td>\n",
              "      <td>5</td>\n",
              "      <td>5</td>\n",
              "      <td>5</td>\n",
              "      <td>2</td>\n",
              "    </tr>\n",
              "    <tr>\n",
              "      <th>623</th>\n",
              "      <td>L</td>\n",
              "      <td>5</td>\n",
              "      <td>5</td>\n",
              "      <td>5</td>\n",
              "      <td>3</td>\n",
              "    </tr>\n",
              "    <tr>\n",
              "      <th>624</th>\n",
              "      <td>L</td>\n",
              "      <td>5</td>\n",
              "      <td>5</td>\n",
              "      <td>5</td>\n",
              "      <td>4</td>\n",
              "    </tr>\n",
              "    <tr>\n",
              "      <th>625</th>\n",
              "      <td>B</td>\n",
              "      <td>5</td>\n",
              "      <td>5</td>\n",
              "      <td>5</td>\n",
              "      <td>5</td>\n",
              "    </tr>\n",
              "  </tbody>\n",
              "</table>\n",
              "<p>626 rows × 5 columns</p>\n",
              "</div>\n",
              "      <button class=\"colab-df-convert\" onclick=\"convertToInteractive('df-b4263223-45bb-4cf8-acf7-69aa18e0badb')\"\n",
              "              title=\"Convert this dataframe to an interactive table.\"\n",
              "              style=\"display:none;\">\n",
              "        \n",
              "  <svg xmlns=\"http://www.w3.org/2000/svg\" height=\"24px\"viewBox=\"0 0 24 24\"\n",
              "       width=\"24px\">\n",
              "    <path d=\"M0 0h24v24H0V0z\" fill=\"none\"/>\n",
              "    <path d=\"M18.56 5.44l.94 2.06.94-2.06 2.06-.94-2.06-.94-.94-2.06-.94 2.06-2.06.94zm-11 1L8.5 8.5l.94-2.06 2.06-.94-2.06-.94L8.5 2.5l-.94 2.06-2.06.94zm10 10l.94 2.06.94-2.06 2.06-.94-2.06-.94-.94-2.06-.94 2.06-2.06.94z\"/><path d=\"M17.41 7.96l-1.37-1.37c-.4-.4-.92-.59-1.43-.59-.52 0-1.04.2-1.43.59L10.3 9.45l-7.72 7.72c-.78.78-.78 2.05 0 2.83L4 21.41c.39.39.9.59 1.41.59.51 0 1.02-.2 1.41-.59l7.78-7.78 2.81-2.81c.8-.78.8-2.07 0-2.86zM5.41 20L4 18.59l7.72-7.72 1.47 1.35L5.41 20z\"/>\n",
              "  </svg>\n",
              "      </button>\n",
              "      \n",
              "  <style>\n",
              "    .colab-df-container {\n",
              "      display:flex;\n",
              "      flex-wrap:wrap;\n",
              "      gap: 12px;\n",
              "    }\n",
              "\n",
              "    .colab-df-convert {\n",
              "      background-color: #E8F0FE;\n",
              "      border: none;\n",
              "      border-radius: 50%;\n",
              "      cursor: pointer;\n",
              "      display: none;\n",
              "      fill: #1967D2;\n",
              "      height: 32px;\n",
              "      padding: 0 0 0 0;\n",
              "      width: 32px;\n",
              "    }\n",
              "\n",
              "    .colab-df-convert:hover {\n",
              "      background-color: #E2EBFA;\n",
              "      box-shadow: 0px 1px 2px rgba(60, 64, 67, 0.3), 0px 1px 3px 1px rgba(60, 64, 67, 0.15);\n",
              "      fill: #174EA6;\n",
              "    }\n",
              "\n",
              "    [theme=dark] .colab-df-convert {\n",
              "      background-color: #3B4455;\n",
              "      fill: #D2E3FC;\n",
              "    }\n",
              "\n",
              "    [theme=dark] .colab-df-convert:hover {\n",
              "      background-color: #434B5C;\n",
              "      box-shadow: 0px 1px 3px 1px rgba(0, 0, 0, 0.15);\n",
              "      filter: drop-shadow(0px 1px 2px rgba(0, 0, 0, 0.3));\n",
              "      fill: #FFFFFF;\n",
              "    }\n",
              "  </style>\n",
              "\n",
              "      <script>\n",
              "        const buttonEl =\n",
              "          document.querySelector('#df-b4263223-45bb-4cf8-acf7-69aa18e0badb button.colab-df-convert');\n",
              "        buttonEl.style.display =\n",
              "          google.colab.kernel.accessAllowed ? 'block' : 'none';\n",
              "\n",
              "        async function convertToInteractive(key) {\n",
              "          const element = document.querySelector('#df-b4263223-45bb-4cf8-acf7-69aa18e0badb');\n",
              "          const dataTable =\n",
              "            await google.colab.kernel.invokeFunction('convertToInteractive',\n",
              "                                                     [key], {});\n",
              "          if (!dataTable) return;\n",
              "\n",
              "          const docLinkHtml = 'Like what you see? Visit the ' +\n",
              "            '<a target=\"_blank\" href=https://colab.research.google.com/notebooks/data_table.ipynb>data table notebook</a>'\n",
              "            + ' to learn more about interactive tables.';\n",
              "          element.innerHTML = '';\n",
              "          dataTable['output_type'] = 'display_data';\n",
              "          await google.colab.output.renderOutput(dataTable, element);\n",
              "          const docLink = document.createElement('div');\n",
              "          docLink.innerHTML = docLinkHtml;\n",
              "          element.appendChild(docLink);\n",
              "        }\n",
              "      </script>\n",
              "    </div>\n",
              "  </div>\n",
              "  "
            ]
          },
          "metadata": {},
          "execution_count": 16
        }
      ],
      "source": [
        "df"
      ]
    },
    {
      "cell_type": "markdown",
      "id": "770c01a8",
      "metadata": {
        "papermill": {
          "duration": 0.017858,
          "end_time": "2021-09-19T11:33:24.849771",
          "exception": false,
          "start_time": "2021-09-19T11:33:24.831913",
          "status": "completed"
        },
        "tags": [],
        "id": "770c01a8"
      },
      "source": [
        "**Lendo o conjunto de dados**"
      ]
    },
    {
      "cell_type": "code",
      "execution_count": 22,
      "id": "f34b53f3",
      "metadata": {
        "execution": {
          "iopub.execute_input": "2021-09-19T11:33:24.906887Z",
          "iopub.status.busy": "2021-09-19T11:33:24.906135Z",
          "iopub.status.idle": "2021-09-19T11:33:24.908930Z",
          "shell.execute_reply": "2021-09-19T11:33:24.909504Z",
          "shell.execute_reply.started": "2021-09-19T11:15:37.458610Z"
        },
        "papermill": {
          "duration": 0.041332,
          "end_time": "2021-09-19T11:33:24.909699",
          "exception": false,
          "start_time": "2021-09-19T11:33:24.868367",
          "status": "completed"
        },
        "tags": [],
        "colab": {
          "base_uri": "https://localhost:8080/"
        },
        "id": "f34b53f3",
        "outputId": "5086d884-514e-46e0-c3fb-400cc95c363c"
      },
      "outputs": [
        {
          "output_type": "stream",
          "name": "stdout",
          "text": [
            "<class 'pandas.core.frame.DataFrame'>\n",
            "RangeIndex: 625 entries, 0 to 624\n",
            "Data columns (total 5 columns):\n",
            " #   Column          Non-Null Count  Dtype \n",
            "---  ------          --------------  ----- \n",
            " 0   Class Name      625 non-null    object\n",
            " 1   Left weight     625 non-null    int64 \n",
            " 2   Left distance   625 non-null    int64 \n",
            " 3   Right weight    625 non-null    int64 \n",
            " 4   Right distance  625 non-null    int64 \n",
            "dtypes: int64(4), object(1)\n",
            "memory usage: 24.5+ KB\n"
          ]
        }
      ],
      "source": [
        "df.info()"
      ]
    },
    {
      "cell_type": "markdown",
      "id": "f005e600",
      "metadata": {
        "papermill": {
          "duration": 0.01915,
          "end_time": "2021-09-19T11:33:24.947253",
          "exception": false,
          "start_time": "2021-09-19T11:33:24.928103",
          "status": "completed"
        },
        "tags": [],
        "id": "f005e600"
      },
      "source": [
        "**Análise exploratória de dados**"
      ]
    },
    {
      "cell_type": "code",
      "execution_count": 23,
      "id": "a80b894e",
      "metadata": {
        "execution": {
          "iopub.execute_input": "2021-09-19T11:33:24.988031Z",
          "iopub.status.busy": "2021-09-19T11:33:24.987335Z",
          "iopub.status.idle": "2021-09-19T11:33:25.205234Z",
          "shell.execute_reply": "2021-09-19T11:33:25.205734Z",
          "shell.execute_reply.started": "2021-09-19T11:16:37.947103Z"
        },
        "papermill": {
          "duration": 0.240372,
          "end_time": "2021-09-19T11:33:25.205901",
          "exception": false,
          "start_time": "2021-09-19T11:33:24.965529",
          "status": "completed"
        },
        "tags": [],
        "colab": {
          "base_uri": "https://localhost:8080/",
          "height": 354
        },
        "id": "a80b894e",
        "outputId": "a2a1b7c2-d2c1-4ece-a0c9-db1edf7dd0be"
      },
      "outputs": [
        {
          "output_type": "stream",
          "name": "stderr",
          "text": [
            "/usr/local/lib/python3.7/dist-packages/seaborn/_decorators.py:43: FutureWarning: Pass the following variable as a keyword arg: x. From version 0.12, the only valid positional argument will be `data`, and passing other arguments without an explicit keyword will result in an error or misinterpretation.\n",
            "  FutureWarning\n"
          ]
        },
        {
          "output_type": "execute_result",
          "data": {
            "text/plain": [
              "<matplotlib.axes._subplots.AxesSubplot at 0x7f8ec1570cd0>"
            ]
          },
          "metadata": {},
          "execution_count": 23
        },
        {
          "output_type": "display_data",
          "data": {
            "text/plain": [
              "<Figure size 432x288 with 1 Axes>"
            ],
            "image/png": "[encoded data removed]"
          },
          "metadata": {
            "needs_background": "light"
          }
        }
      ],
      "source": [
        "sns.countplot(df['Class Name'])"
      ]
    },
    {
      "cell_type": "code",
      "execution_count": 24,
      "id": "81f85ca2",
      "metadata": {
        "execution": {
          "iopub.execute_input": "2021-09-19T11:33:25.250756Z",
          "iopub.status.busy": "2021-09-19T11:33:25.250056Z",
          "iopub.status.idle": "2021-09-19T11:33:25.528280Z",
          "shell.execute_reply": "2021-09-19T11:33:25.527660Z",
          "shell.execute_reply.started": "2021-09-19T11:18:01.766956Z"
        },
        "papermill": {
          "duration": 0.302619,
          "end_time": "2021-09-19T11:33:25.528423",
          "exception": false,
          "start_time": "2021-09-19T11:33:25.225804",
          "status": "completed"
        },
        "tags": [],
        "colab": {
          "base_uri": "https://localhost:8080/",
          "height": 351
        },
        "id": "81f85ca2",
        "outputId": "550771c5-580c-4fb8-de14-b129471ce277"
      },
      "outputs": [
        {
          "output_type": "stream",
          "name": "stderr",
          "text": [
            "/usr/local/lib/python3.7/dist-packages/seaborn/_decorators.py:43: FutureWarning: Pass the following variable as a keyword arg: x. From version 0.12, the only valid positional argument will be `data`, and passing other arguments without an explicit keyword will result in an error or misinterpretation.\n",
            "  FutureWarning\n"
          ]
        },
        {
          "output_type": "execute_result",
          "data": {
            "text/plain": [
              "<matplotlib.axes._subplots.AxesSubplot at 0x7f8ec0cfd9d0>"
            ]
          },
          "metadata": {},
          "execution_count": 24
        },
        {
          "output_type": "display_data",
          "data": {
            "text/plain": [
              "<Figure size 432x288 with 1 Axes>"
            ],
            "image/png": "[encoded data removed]"
          },
          "metadata": {
            "needs_background": "light"
          }
        }
      ],
      "source": [
        "sns.countplot(df['Left weight'],hue=df['Class Name'])"
      ]
    },
    {
      "cell_type": "code",
      "execution_count": 25,
      "id": "0152a6ad",
      "metadata": {
        "execution": {
          "iopub.execute_input": "2021-09-19T11:33:25.577524Z",
          "iopub.status.busy": "2021-09-19T11:33:25.576822Z",
          "iopub.status.idle": "2021-09-19T11:33:25.733677Z",
          "shell.execute_reply": "2021-09-19T11:33:25.733070Z",
          "shell.execute_reply.started": "2021-09-19T11:20:28.641779Z"
        },
        "papermill": {
          "duration": 0.183871,
          "end_time": "2021-09-19T11:33:25.733835",
          "exception": false,
          "start_time": "2021-09-19T11:33:25.549964",
          "status": "completed"
        },
        "tags": [],
        "id": "0152a6ad"
      },
      "outputs": [],
      "source": [
        "from sklearn.model_selection import train_test_split\n",
        "X = df.drop('Class Name',axis=1)\n",
        "y = df[['Class Name']]\n",
        "X_train, X_test, y_train, y_test = train_test_split(X, y, test_size = 0.3,random_state=42)\n"
      ]
    },
    {
      "cell_type": "markdown",
      "id": "18e3bbab",
      "metadata": {
        "papermill": {
          "duration": 0.020876,
          "end_time": "2021-09-19T11:33:25.818349",
          "exception": false,
          "start_time": "2021-09-19T11:33:25.797473",
          "status": "completed"
        },
        "tags": [],
        "id": "18e3bbab"
      },
      "source": [
        "##Dividindo o conjunto de dados em conjunto de treinamento e teste\n"
      ]
    },
    {
      "cell_type": "markdown",
      "id": "c47740f5",
      "metadata": {
        "papermill": {
          "duration": 0.021019,
          "end_time": "2021-09-19T11:33:25.902378",
          "exception": false,
          "start_time": "2021-09-19T11:33:25.881359",
          "status": "completed"
        },
        "tags": [],
        "id": "c47740f5"
      },
      "source": [
        "**Treinando o Classificador de Árvore de Decisão**"
      ]
    },
    {
      "cell_type": "code",
      "execution_count": 26,
      "id": "ded8eccd",
      "metadata": {
        "execution": {
          "iopub.execute_input": "2021-09-19T11:33:25.950793Z",
          "iopub.status.busy": "2021-09-19T11:33:25.950107Z",
          "iopub.status.idle": "2021-09-19T11:33:26.115119Z",
          "shell.execute_reply": "2021-09-19T11:33:26.114574Z",
          "shell.execute_reply.started": "2021-09-19T11:22:58.239656Z"
        },
        "papermill": {
          "duration": 0.19122,
          "end_time": "2021-09-19T11:33:26.115301",
          "exception": false,
          "start_time": "2021-09-19T11:33:25.924081",
          "status": "completed"
        },
        "tags": [],
        "colab": {
          "base_uri": "https://localhost:8080/"
        },
        "id": "ded8eccd",
        "outputId": "1f0be1a2-f9f5-4d92-bccf-5e5714aee7b0"
      },
      "outputs": [
        {
          "output_type": "execute_result",
          "data": {
            "text/plain": [
              "DecisionTreeClassifier(max_depth=3, min_samples_leaf=5, random_state=42)"
            ]
          },
          "metadata": {},
          "execution_count": 26
        }
      ],
      "source": [
        "from sklearn.tree import DecisionTreeClassifier\n",
        "from sklearn.preprocessing import LabelEncoder, OneHotEncoder\n",
        "\n",
        "clf_model = DecisionTreeClassifier(criterion=\"gini\", random_state=42,max_depth=3, min_samples_leaf=5)   \n",
        "clf_model.fit(X_train, y_train)"
      ]
    },
    {
      "cell_type": "markdown",
      "id": "5aa04e7c",
      "metadata": {
        "papermill": {
          "duration": 0.028834,
          "end_time": "2021-09-19T11:33:26.173851",
          "exception": false,
          "start_time": "2021-09-19T11:33:26.145017",
          "status": "completed"
        },
        "tags": [],
        "id": "5aa04e7c"
      },
      "source": [
        "**Precisão do teste**"
      ]
    },
    {
      "cell_type": "code",
      "execution_count": 27,
      "id": "f8bae3c1",
      "metadata": {
        "execution": {
          "iopub.execute_input": "2021-09-19T11:33:26.227806Z",
          "iopub.status.busy": "2021-09-19T11:33:26.227128Z",
          "iopub.status.idle": "2021-09-19T11:33:26.229458Z",
          "shell.execute_reply": "2021-09-19T11:33:26.229973Z",
          "shell.execute_reply.started": "2021-09-19T11:24:08.045619Z"
        },
        "papermill": {
          "duration": 0.029794,
          "end_time": "2021-09-19T11:33:26.230125",
          "exception": false,
          "start_time": "2021-09-19T11:33:26.200331",
          "status": "completed"
        },
        "tags": [],
        "id": "f8bae3c1"
      },
      "outputs": [],
      "source": [
        "y_predict = clf_model.predict(X_test)"
      ]
    },
    {
      "cell_type": "code",
      "execution_count": 28,
      "id": "3b0232c9",
      "metadata": {
        "execution": {
          "iopub.execute_input": "2021-09-19T11:33:26.276225Z",
          "iopub.status.busy": "2021-09-19T11:33:26.275607Z",
          "iopub.status.idle": "2021-09-19T11:33:26.280975Z",
          "shell.execute_reply": "2021-09-19T11:33:26.281558Z",
          "shell.execute_reply.started": "2021-09-19T11:24:37.386296Z"
        },
        "papermill": {
          "duration": 0.030092,
          "end_time": "2021-09-19T11:33:26.281718",
          "exception": false,
          "start_time": "2021-09-19T11:33:26.251626",
          "status": "completed"
        },
        "tags": [],
        "colab": {
          "base_uri": "https://localhost:8080/"
        },
        "id": "3b0232c9",
        "outputId": "671c5537-b43f-4eb6-ab48-2699e8e9504c"
      },
      "outputs": [
        {
          "output_type": "execute_result",
          "data": {
            "text/plain": [
              "0.7021276595744681"
            ]
          },
          "metadata": {},
          "execution_count": 28
        }
      ],
      "source": [
        "from sklearn.metrics import accuracy_score,classification_report,confusion_matrix\n",
        "accuracy_score(y_test,y_predict)"
      ]
    },
    {
      "cell_type": "markdown",
      "id": "af7cfd27",
      "metadata": {
        "papermill": {
          "duration": 0.021306,
          "end_time": "2021-09-19T11:33:26.324797",
          "exception": false,
          "start_time": "2021-09-19T11:33:26.303491",
          "status": "completed"
        },
        "tags": [],
        "id": "af7cfd27"
      },
      "source": [
        "**Traçando o Gráfico da Árvore de Decisão**"
      ]
    },
    {
      "cell_type": "code",
      "execution_count": 29,
      "id": "ac6f01ce",
      "metadata": {
        "execution": {
          "iopub.execute_input": "2021-09-19T11:33:26.371137Z",
          "iopub.status.busy": "2021-09-19T11:33:26.370523Z",
          "iopub.status.idle": "2021-09-19T11:33:26.374093Z",
          "shell.execute_reply": "2021-09-19T11:33:26.374697Z",
          "shell.execute_reply.started": "2021-09-19T11:25:33.961405Z"
        },
        "papermill": {
          "duration": 0.028496,
          "end_time": "2021-09-19T11:33:26.374862",
          "exception": false,
          "start_time": "2021-09-19T11:33:26.346366",
          "status": "completed"
        },
        "tags": [],
        "id": "ac6f01ce"
      },
      "outputs": [],
      "source": [
        "target = list(df['Class Name'].unique())\n",
        "feature_names = list(X.columns)"
      ]
    },
    {
      "cell_type": "code",
      "execution_count": 30,
      "id": "10cb47a4",
      "metadata": {
        "execution": {
          "iopub.execute_input": "2021-09-19T11:33:26.421490Z",
          "iopub.status.busy": "2021-09-19T11:33:26.420874Z",
          "iopub.status.idle": "2021-09-19T11:33:27.271174Z",
          "shell.execute_reply": "2021-09-19T11:33:27.271714Z",
          "shell.execute_reply.started": "2021-09-19T11:26:45.707443Z"
        },
        "papermill": {
          "duration": 0.875271,
          "end_time": "2021-09-19T11:33:27.271887",
          "exception": false,
          "start_time": "2021-09-19T11:33:26.396616",
          "status": "completed"
        },
        "tags": [],
        "colab": {
          "base_uri": "https://localhost:8080/",
          "height": 619
        },
        "id": "10cb47a4",
        "outputId": "f26bed51-f6fe-496f-fce2-00ae8bcff877"
      },
      "outputs": [
        {
          "output_type": "execute_result",
          "data": {
            "text/plain": [
              "<graphviz.files.Source at 0x7f8ec0c332d0>"
            ],
            "image/svg+xml": "<?xml version=\"1.0\" encoding=\"UTF-8\" standalone=\"no\"?>\n<!DOCTYPE svg PUBLIC \"-//W3C//DTD SVG 1.1//EN\"\n \"http://www.w3.org/Graphics/SVG/1.1/DTD/svg11.dtd\">\n<!-- Generated by graphviz version 2.40.1 (20161225.0304)\n -->\n<!-- Title: Tree Pages: 1 -->\n<svg width=\"1142pt\" height=\"433pt\"\n viewBox=\"0.00 0.00 1142.00 433.00\" xmlns=\"http://www.w3.org/2000/svg\" xmlns:xlink=\"http://www.w3.org/1999/xlink\">\n<g id=\"graph0\" class=\"graph\" transform=\"scale(1 1) rotate(0) translate(4 429)\">\n<title>Tree</title>\n<polygon fill=\"#ffffff\" stroke=\"transparent\" points=\"-4,4 -4,-429 1138,-429 1138,4 -4,4\"/>\n<!-- 0 -->\n<g id=\"node1\" class=\"node\">\n<title>0</title>\n<path fill=\"#f7fefa\" stroke=\"#000000\" d=\"M612.5,-425C612.5,-425 480.5,-425 480.5,-425 474.5,-425 468.5,-419 468.5,-413 468.5,-413 468.5,-354 468.5,-354 468.5,-348 474.5,-342 480.5,-342 480.5,-342 612.5,-342 612.5,-342 618.5,-342 624.5,-348 624.5,-354 624.5,-354 624.5,-413 624.5,-413 624.5,-419 618.5,-425 612.5,-425\"/>\n<text text-anchor=\"start\" x=\"493.5\" y=\"-409.8\" font-family=\"Helvetica,sans-Serif\" font-size=\"14.00\" fill=\"#000000\">Left weight ≤ 2.5</text>\n<text text-anchor=\"start\" x=\"508.5\" y=\"-394.8\" font-family=\"Helvetica,sans-Serif\" font-size=\"14.00\" fill=\"#000000\">gini = 0.563</text>\n<text text-anchor=\"start\" x=\"498.5\" y=\"-379.8\" font-family=\"Helvetica,sans-Serif\" font-size=\"14.00\" fill=\"#000000\">samples = 437</text>\n<text text-anchor=\"start\" x=\"476.5\" y=\"-364.8\" font-family=\"Helvetica,sans-Serif\" font-size=\"14.00\" fill=\"#000000\">value = [31, 208, 198]</text>\n<text text-anchor=\"start\" x=\"516\" y=\"-349.8\" font-family=\"Helvetica,sans-Serif\" font-size=\"14.00\" fill=\"#000000\">class = R</text>\n</g>\n<!-- 1 -->\n<g id=\"node2\" class=\"node\">\n<title>1</title>\n<path fill=\"#b48af0\" stroke=\"#000000\" d=\"M468.5,-306C468.5,-306 344.5,-306 344.5,-306 338.5,-306 332.5,-300 332.5,-294 332.5,-294 332.5,-235 332.5,-235 332.5,-229 338.5,-223 344.5,-223 344.5,-223 468.5,-223 468.5,-223 474.5,-223 480.5,-229 480.5,-235 480.5,-235 480.5,-294 480.5,-294 480.5,-300 474.5,-306 468.5,-306\"/>\n<text text-anchor=\"start\" x=\"342.5\" y=\"-290.8\" font-family=\"Helvetica,sans-Serif\" font-size=\"14.00\" fill=\"#000000\">Right distance ≤ 1.5</text>\n<text text-anchor=\"start\" x=\"368.5\" y=\"-275.8\" font-family=\"Helvetica,sans-Serif\" font-size=\"14.00\" fill=\"#000000\">gini = 0.461</text>\n<text text-anchor=\"start\" x=\"358.5\" y=\"-260.8\" font-family=\"Helvetica,sans-Serif\" font-size=\"14.00\" fill=\"#000000\">samples = 171</text>\n<text text-anchor=\"start\" x=\"340.5\" y=\"-245.8\" font-family=\"Helvetica,sans-Serif\" font-size=\"14.00\" fill=\"#000000\">value = [12, 41, 118]</text>\n<text text-anchor=\"start\" x=\"377.5\" y=\"-230.8\" font-family=\"Helvetica,sans-Serif\" font-size=\"14.00\" fill=\"#000000\">class = L</text>\n</g>\n<!-- 0&#45;&gt;1 -->\n<g id=\"edge1\" class=\"edge\">\n<title>0&#45;&gt;1</title>\n<path fill=\"none\" stroke=\"#000000\" d=\"M497.5348,-341.8796C486.5153,-332.513 474.7291,-322.4948 463.4158,-312.8784\"/>\n<polygon fill=\"#000000\" stroke=\"#000000\" points=\"465.5604,-310.1078 455.6742,-306.2981 461.0268,-315.4414 465.5604,-310.1078\"/>\n<text text-anchor=\"middle\" x=\"457.6946\" y=\"-327.5163\" font-family=\"Helvetica,sans-Serif\" font-size=\"14.00\" fill=\"#000000\">True</text>\n</g>\n<!-- 8 -->\n<g id=\"node9\" class=\"node\">\n<title>8</title>\n<path fill=\"#a2f3c4\" stroke=\"#000000\" d=\"M759.5,-306C759.5,-306 635.5,-306 635.5,-306 629.5,-306 623.5,-300 623.5,-294 623.5,-294 623.5,-235 623.5,-235 623.5,-229 629.5,-223 635.5,-223 635.5,-223 759.5,-223 759.5,-223 765.5,-223 771.5,-229 771.5,-235 771.5,-235 771.5,-294 771.5,-294 771.5,-300 765.5,-306 759.5,-306\"/>\n<text text-anchor=\"start\" x=\"638.5\" y=\"-290.8\" font-family=\"Helvetica,sans-Serif\" font-size=\"14.00\" fill=\"#000000\">Left distance ≤ 2.5</text>\n<text text-anchor=\"start\" x=\"664\" y=\"-275.8\" font-family=\"Helvetica,sans-Serif\" font-size=\"14.00\" fill=\"#000000\">gini = 0.51</text>\n<text text-anchor=\"start\" x=\"649.5\" y=\"-260.8\" font-family=\"Helvetica,sans-Serif\" font-size=\"14.00\" fill=\"#000000\">samples = 266</text>\n<text text-anchor=\"start\" x=\"631.5\" y=\"-245.8\" font-family=\"Helvetica,sans-Serif\" font-size=\"14.00\" fill=\"#000000\">value = [19, 167, 80]</text>\n<text text-anchor=\"start\" x=\"667\" y=\"-230.8\" font-family=\"Helvetica,sans-Serif\" font-size=\"14.00\" fill=\"#000000\">class = R</text>\n</g>\n<!-- 0&#45;&gt;8 -->\n<g id=\"edge8\" class=\"edge\">\n<title>0&#45;&gt;8</title>\n<path fill=\"none\" stroke=\"#000000\" d=\"M599.3125,-341.8796C611.3818,-332.368 624.3039,-322.1843 636.6788,-312.432\"/>\n<polygon fill=\"#000000\" stroke=\"#000000\" points=\"639.0296,-315.0356 644.7173,-306.0969 634.6968,-309.5377 639.0296,-315.0356\"/>\n<text text-anchor=\"middle\" x=\"641.775\" y=\"-327.2232\" font-family=\"Helvetica,sans-Serif\" font-size=\"14.00\" fill=\"#000000\">False</text>\n</g>\n<!-- 2 -->\n<g id=\"node3\" class=\"node\">\n<title>2</title>\n<path fill=\"#94f1bb\" stroke=\"#000000\" d=\"M249.5,-187C249.5,-187 139.5,-187 139.5,-187 133.5,-187 127.5,-181 127.5,-175 127.5,-175 127.5,-116 127.5,-116 127.5,-110 133.5,-104 139.5,-104 139.5,-104 249.5,-104 249.5,-104 255.5,-104 261.5,-110 261.5,-116 261.5,-116 261.5,-175 261.5,-175 261.5,-181 255.5,-187 249.5,-187\"/>\n<text text-anchor=\"start\" x=\"135.5\" y=\"-171.8\" font-family=\"Helvetica,sans-Serif\" font-size=\"14.00\" fill=\"#000000\">Left distance ≤ 2.5</text>\n<text text-anchor=\"start\" x=\"156.5\" y=\"-156.8\" font-family=\"Helvetica,sans-Serif\" font-size=\"14.00\" fill=\"#000000\">gini = 0.498</text>\n<text text-anchor=\"start\" x=\"150.5\" y=\"-141.8\" font-family=\"Helvetica,sans-Serif\" font-size=\"14.00\" fill=\"#000000\">samples = 32</text>\n<text text-anchor=\"start\" x=\"141\" y=\"-126.8\" font-family=\"Helvetica,sans-Serif\" font-size=\"14.00\" fill=\"#000000\">value = [3, 21, 8]</text>\n<text text-anchor=\"start\" x=\"164\" y=\"-111.8\" font-family=\"Helvetica,sans-Serif\" font-size=\"14.00\" fill=\"#000000\">class = R</text>\n</g>\n<!-- 1&#45;&gt;2 -->\n<g id=\"edge2\" class=\"edge\">\n<title>1&#45;&gt;2</title>\n<path fill=\"none\" stroke=\"#000000\" d=\"M332.3527,-222.8796C312.2784,-211.6115 290.5239,-199.4002 270.3571,-188.0802\"/>\n<polygon fill=\"#000000\" stroke=\"#000000\" points=\"271.9523,-184.9619 261.519,-183.1192 268.526,-191.0661 271.9523,-184.9619\"/>\n</g>\n<!-- 5 -->\n<g id=\"node6\" class=\"node\">\n<title>5</title>\n<path fill=\"#a069eb\" stroke=\"#000000\" d=\"M464.5,-187C464.5,-187 348.5,-187 348.5,-187 342.5,-187 336.5,-181 336.5,-175 336.5,-175 336.5,-116 336.5,-116 336.5,-110 342.5,-104 348.5,-104 348.5,-104 464.5,-104 464.5,-104 470.5,-104 476.5,-110 476.5,-116 476.5,-116 476.5,-175 476.5,-175 476.5,-181 470.5,-187 464.5,-187\"/>\n<text text-anchor=\"start\" x=\"349\" y=\"-171.8\" font-family=\"Helvetica,sans-Serif\" font-size=\"14.00\" fill=\"#000000\">Right weight ≤ 2.5</text>\n<text text-anchor=\"start\" x=\"368.5\" y=\"-156.8\" font-family=\"Helvetica,sans-Serif\" font-size=\"14.00\" fill=\"#000000\">gini = 0.349</text>\n<text text-anchor=\"start\" x=\"358.5\" y=\"-141.8\" font-family=\"Helvetica,sans-Serif\" font-size=\"14.00\" fill=\"#000000\">samples = 139</text>\n<text text-anchor=\"start\" x=\"344.5\" y=\"-126.8\" font-family=\"Helvetica,sans-Serif\" font-size=\"14.00\" fill=\"#000000\">value = [9, 20, 110]</text>\n<text text-anchor=\"start\" x=\"377.5\" y=\"-111.8\" font-family=\"Helvetica,sans-Serif\" font-size=\"14.00\" fill=\"#000000\">class = L</text>\n</g>\n<!-- 1&#45;&gt;5 -->\n<g id=\"edge5\" class=\"edge\">\n<title>1&#45;&gt;5</title>\n<path fill=\"none\" stroke=\"#000000\" d=\"M406.5,-222.8796C406.5,-214.6838 406.5,-205.9891 406.5,-197.5013\"/>\n<polygon fill=\"#000000\" stroke=\"#000000\" points=\"410.0001,-197.298 406.5,-187.2981 403.0001,-197.2981 410.0001,-197.298\"/>\n</g>\n<!-- 3 -->\n<g id=\"node4\" class=\"node\">\n<title>3</title>\n<path fill=\"#e0cef8\" stroke=\"#000000\" d=\"M103,-68C103,-68 12,-68 12,-68 6,-68 0,-62 0,-56 0,-56 0,-12 0,-12 0,-6 6,0 12,0 12,0 103,0 103,0 109,0 115,-6 115,-12 115,-12 115,-56 115,-56 115,-62 109,-68 103,-68\"/>\n<text text-anchor=\"start\" x=\"19.5\" y=\"-52.8\" font-family=\"Helvetica,sans-Serif\" font-size=\"14.00\" fill=\"#000000\">gini = 0.611</text>\n<text text-anchor=\"start\" x=\"13.5\" y=\"-37.8\" font-family=\"Helvetica,sans-Serif\" font-size=\"14.00\" fill=\"#000000\">samples = 12</text>\n<text text-anchor=\"start\" x=\"8\" y=\"-22.8\" font-family=\"Helvetica,sans-Serif\" font-size=\"14.00\" fill=\"#000000\">value = [2, 4, 6]</text>\n<text text-anchor=\"start\" x=\"28.5\" y=\"-7.8\" font-family=\"Helvetica,sans-Serif\" font-size=\"14.00\" fill=\"#000000\">class = L</text>\n</g>\n<!-- 2&#45;&gt;3 -->\n<g id=\"edge3\" class=\"edge\">\n<title>2&#45;&gt;3</title>\n<path fill=\"none\" stroke=\"#000000\" d=\"M143.4863,-103.9815C131.742,-94.4232 119.2628,-84.2668 107.5595,-74.7419\"/>\n<polygon fill=\"#000000\" stroke=\"#000000\" points=\"109.565,-71.8614 99.5998,-68.2637 105.1464,-77.2906 109.565,-71.8614\"/>\n</g>\n<!-- 4 -->\n<g id=\"node5\" class=\"node\">\n<title>4</title>\n<path fill=\"#5ae996\" stroke=\"#000000\" d=\"M244,-68C244,-68 145,-68 145,-68 139,-68 133,-62 133,-56 133,-56 133,-12 133,-12 133,-6 139,0 145,0 145,0 244,0 244,0 250,0 256,-6 256,-12 256,-12 256,-56 256,-56 256,-62 250,-68 244,-68\"/>\n<text text-anchor=\"start\" x=\"156.5\" y=\"-52.8\" font-family=\"Helvetica,sans-Serif\" font-size=\"14.00\" fill=\"#000000\">gini = 0.265</text>\n<text text-anchor=\"start\" x=\"150.5\" y=\"-37.8\" font-family=\"Helvetica,sans-Serif\" font-size=\"14.00\" fill=\"#000000\">samples = 20</text>\n<text text-anchor=\"start\" x=\"141\" y=\"-22.8\" font-family=\"Helvetica,sans-Serif\" font-size=\"14.00\" fill=\"#000000\">value = [1, 17, 2]</text>\n<text text-anchor=\"start\" x=\"164\" y=\"-7.8\" font-family=\"Helvetica,sans-Serif\" font-size=\"14.00\" fill=\"#000000\">class = R</text>\n</g>\n<!-- 2&#45;&gt;4 -->\n<g id=\"edge4\" class=\"edge\">\n<title>2&#45;&gt;4</title>\n<path fill=\"none\" stroke=\"#000000\" d=\"M194.5,-103.9815C194.5,-95.618 194.5,-86.7965 194.5,-78.3409\"/>\n<polygon fill=\"#000000\" stroke=\"#000000\" points=\"198.0001,-78.2636 194.5,-68.2637 191.0001,-78.2637 198.0001,-78.2636\"/>\n</g>\n<!-- 6 -->\n<g id=\"node7\" class=\"node\">\n<title>6</title>\n<path fill=\"#dcc7f8\" stroke=\"#000000\" d=\"M393,-68C393,-68 286,-68 286,-68 280,-68 274,-62 274,-56 274,-56 274,-12 274,-12 274,-6 280,0 286,0 286,0 393,0 393,0 399,0 405,-6 405,-12 405,-12 405,-56 405,-56 405,-62 399,-68 393,-68\"/>\n<text text-anchor=\"start\" x=\"301.5\" y=\"-52.8\" font-family=\"Helvetica,sans-Serif\" font-size=\"14.00\" fill=\"#000000\">gini = 0.583</text>\n<text text-anchor=\"start\" x=\"295.5\" y=\"-37.8\" font-family=\"Helvetica,sans-Serif\" font-size=\"14.00\" fill=\"#000000\">samples = 49</text>\n<text text-anchor=\"start\" x=\"282\" y=\"-22.8\" font-family=\"Helvetica,sans-Serif\" font-size=\"14.00\" fill=\"#000000\">value = [6, 17, 26]</text>\n<text text-anchor=\"start\" x=\"310.5\" y=\"-7.8\" font-family=\"Helvetica,sans-Serif\" font-size=\"14.00\" fill=\"#000000\">class = L</text>\n</g>\n<!-- 5&#45;&gt;6 -->\n<g id=\"edge6\" class=\"edge\">\n<title>5&#45;&gt;6</title>\n<path fill=\"none\" stroke=\"#000000\" d=\"M381.5517,-103.9815C376.2499,-95.1585 370.6419,-85.8258 365.3089,-76.9506\"/>\n<polygon fill=\"#000000\" stroke=\"#000000\" points=\"368.2396,-75.0325 360.0889,-68.2637 362.2395,-78.638 368.2396,-75.0325\"/>\n</g>\n<!-- 7 -->\n<g id=\"node8\" class=\"node\">\n<title>7</title>\n<path fill=\"#8a47e7\" stroke=\"#000000\" d=\"M534,-68C534,-68 435,-68 435,-68 429,-68 423,-62 423,-56 423,-56 423,-12 423,-12 423,-6 429,0 435,0 435,0 534,0 534,0 540,0 546,-6 546,-12 546,-12 546,-56 546,-56 546,-62 540,-68 534,-68\"/>\n<text text-anchor=\"start\" x=\"446.5\" y=\"-52.8\" font-family=\"Helvetica,sans-Serif\" font-size=\"14.00\" fill=\"#000000\">gini = 0.127</text>\n<text text-anchor=\"start\" x=\"440.5\" y=\"-37.8\" font-family=\"Helvetica,sans-Serif\" font-size=\"14.00\" fill=\"#000000\">samples = 90</text>\n<text text-anchor=\"start\" x=\"431\" y=\"-22.8\" font-family=\"Helvetica,sans-Serif\" font-size=\"14.00\" fill=\"#000000\">value = [3, 3, 84]</text>\n<text text-anchor=\"start\" x=\"455.5\" y=\"-7.8\" font-family=\"Helvetica,sans-Serif\" font-size=\"14.00\" fill=\"#000000\">class = L</text>\n</g>\n<!-- 5&#45;&gt;7 -->\n<g id=\"edge7\" class=\"edge\">\n<title>5&#45;&gt;7</title>\n<path fill=\"none\" stroke=\"#000000\" d=\"M435.5443,-103.9815C441.7808,-95.0666 448.3813,-85.6313 454.6478,-76.6734\"/>\n<polygon fill=\"#000000\" stroke=\"#000000\" points=\"457.6665,-78.464 460.5308,-68.2637 451.9307,-74.4515 457.6665,-78.464\"/>\n</g>\n<!-- 9 -->\n<g id=\"node10\" class=\"node\">\n<title>9</title>\n<path fill=\"#dac5f7\" stroke=\"#000000\" d=\"M751,-187C751,-187 644,-187 644,-187 638,-187 632,-181 632,-175 632,-175 632,-116 632,-116 632,-110 638,-104 644,-104 644,-104 751,-104 751,-104 757,-104 763,-110 763,-116 763,-116 763,-175 763,-175 763,-181 757,-187 751,-187\"/>\n<text text-anchor=\"start\" x=\"640\" y=\"-171.8\" font-family=\"Helvetica,sans-Serif\" font-size=\"14.00\" fill=\"#000000\">Right weight ≤ 2.5</text>\n<text text-anchor=\"start\" x=\"659.5\" y=\"-156.8\" font-family=\"Helvetica,sans-Serif\" font-size=\"14.00\" fill=\"#000000\">gini = 0.544</text>\n<text text-anchor=\"start\" x=\"649.5\" y=\"-141.8\" font-family=\"Helvetica,sans-Serif\" font-size=\"14.00\" fill=\"#000000\">samples = 104</text>\n<text text-anchor=\"start\" x=\"640\" y=\"-126.8\" font-family=\"Helvetica,sans-Serif\" font-size=\"14.00\" fill=\"#000000\">value = [7, 39, 58]</text>\n<text text-anchor=\"start\" x=\"668.5\" y=\"-111.8\" font-family=\"Helvetica,sans-Serif\" font-size=\"14.00\" fill=\"#000000\">class = L</text>\n</g>\n<!-- 8&#45;&gt;9 -->\n<g id=\"edge9\" class=\"edge\">\n<title>8&#45;&gt;9</title>\n<path fill=\"none\" stroke=\"#000000\" d=\"M697.5,-222.8796C697.5,-214.6838 697.5,-205.9891 697.5,-197.5013\"/>\n<polygon fill=\"#000000\" stroke=\"#000000\" points=\"701.0001,-197.298 697.5,-187.2981 694.0001,-197.2981 701.0001,-197.298\"/>\n</g>\n<!-- 12 -->\n<g id=\"node13\" class=\"node\">\n<title>12</title>\n<path fill=\"#69eba0\" stroke=\"#000000\" d=\"M985.5,-187C985.5,-187 861.5,-187 861.5,-187 855.5,-187 849.5,-181 849.5,-175 849.5,-175 849.5,-116 849.5,-116 849.5,-110 855.5,-104 861.5,-104 861.5,-104 985.5,-104 985.5,-104 991.5,-104 997.5,-110 997.5,-116 997.5,-116 997.5,-175 997.5,-175 997.5,-181 991.5,-187 985.5,-187\"/>\n<text text-anchor=\"start\" x=\"859.5\" y=\"-171.8\" font-family=\"Helvetica,sans-Serif\" font-size=\"14.00\" fill=\"#000000\">Right distance ≤ 3.5</text>\n<text text-anchor=\"start\" x=\"885.5\" y=\"-156.8\" font-family=\"Helvetica,sans-Serif\" font-size=\"14.00\" fill=\"#000000\">gini = 0.352</text>\n<text text-anchor=\"start\" x=\"875.5\" y=\"-141.8\" font-family=\"Helvetica,sans-Serif\" font-size=\"14.00\" fill=\"#000000\">samples = 162</text>\n<text text-anchor=\"start\" x=\"857.5\" y=\"-126.8\" font-family=\"Helvetica,sans-Serif\" font-size=\"14.00\" fill=\"#000000\">value = [12, 128, 22]</text>\n<text text-anchor=\"start\" x=\"893\" y=\"-111.8\" font-family=\"Helvetica,sans-Serif\" font-size=\"14.00\" fill=\"#000000\">class = R</text>\n</g>\n<!-- 8&#45;&gt;12 -->\n<g id=\"edge12\" class=\"edge\">\n<title>8&#45;&gt;12</title>\n<path fill=\"none\" stroke=\"#000000\" d=\"M771.5009,-225.5349C793.5483,-213.9259 817.8535,-201.128 840.4389,-189.2357\"/>\n<polygon fill=\"#000000\" stroke=\"#000000\" points=\"842.1152,-192.3086 849.3329,-184.5526 838.8539,-186.1148 842.1152,-192.3086\"/>\n</g>\n<!-- 10 -->\n<g id=\"node11\" class=\"node\">\n<title>10</title>\n<path fill=\"#8df0b6\" stroke=\"#000000\" d=\"M683,-68C683,-68 576,-68 576,-68 570,-68 564,-62 564,-56 564,-56 564,-12 564,-12 564,-6 570,0 576,0 576,0 683,0 683,0 689,0 695,-6 695,-12 695,-12 695,-56 695,-56 695,-62 689,-68 683,-68\"/>\n<text text-anchor=\"start\" x=\"591.5\" y=\"-52.8\" font-family=\"Helvetica,sans-Serif\" font-size=\"14.00\" fill=\"#000000\">gini = 0.482</text>\n<text text-anchor=\"start\" x=\"585.5\" y=\"-37.8\" font-family=\"Helvetica,sans-Serif\" font-size=\"14.00\" fill=\"#000000\">samples = 43</text>\n<text text-anchor=\"start\" x=\"572\" y=\"-22.8\" font-family=\"Helvetica,sans-Serif\" font-size=\"14.00\" fill=\"#000000\">value = [4, 29, 10]</text>\n<text text-anchor=\"start\" x=\"599\" y=\"-7.8\" font-family=\"Helvetica,sans-Serif\" font-size=\"14.00\" fill=\"#000000\">class = R</text>\n</g>\n<!-- 9&#45;&gt;10 -->\n<g id=\"edge10\" class=\"edge\">\n<title>9&#45;&gt;10</title>\n<path fill=\"none\" stroke=\"#000000\" d=\"M672.1793,-103.9815C666.7984,-95.1585 661.1068,-85.8258 655.6941,-76.9506\"/>\n<polygon fill=\"#000000\" stroke=\"#000000\" points=\"658.5912,-74.9789 650.3962,-68.2637 652.6149,-78.6236 658.5912,-74.9789\"/>\n</g>\n<!-- 11 -->\n<g id=\"node12\" class=\"node\">\n<title>11</title>\n<path fill=\"#a16bec\" stroke=\"#000000\" d=\"M832,-68C832,-68 725,-68 725,-68 719,-68 713,-62 713,-56 713,-56 713,-12 713,-12 713,-6 719,0 725,0 725,0 832,0 832,0 838,0 844,-6 844,-12 844,-12 844,-56 844,-56 844,-62 838,-68 832,-68\"/>\n<text text-anchor=\"start\" x=\"740.5\" y=\"-52.8\" font-family=\"Helvetica,sans-Serif\" font-size=\"14.00\" fill=\"#000000\">gini = 0.352</text>\n<text text-anchor=\"start\" x=\"734.5\" y=\"-37.8\" font-family=\"Helvetica,sans-Serif\" font-size=\"14.00\" fill=\"#000000\">samples = 61</text>\n<text text-anchor=\"start\" x=\"721\" y=\"-22.8\" font-family=\"Helvetica,sans-Serif\" font-size=\"14.00\" fill=\"#000000\">value = [3, 10, 48]</text>\n<text text-anchor=\"start\" x=\"749.5\" y=\"-7.8\" font-family=\"Helvetica,sans-Serif\" font-size=\"14.00\" fill=\"#000000\">class = L</text>\n</g>\n<!-- 9&#45;&gt;11 -->\n<g id=\"edge11\" class=\"edge\">\n<title>9&#45;&gt;11</title>\n<path fill=\"none\" stroke=\"#000000\" d=\"M727.6614,-103.9815C734.2045,-94.9747 741.1334,-85.4367 747.7008,-76.3965\"/>\n<polygon fill=\"#000000\" stroke=\"#000000\" points=\"750.5631,-78.4113 753.6089,-68.2637 744.8998,-74.2971 750.5631,-78.4113\"/>\n</g>\n<!-- 13 -->\n<g id=\"node14\" class=\"node\">\n<title>13</title>\n<path fill=\"#47e78a\" stroke=\"#000000\" d=\"M973,-68C973,-68 874,-68 874,-68 868,-68 862,-62 862,-56 862,-56 862,-12 862,-12 862,-6 868,0 874,0 874,0 973,0 973,0 979,0 985,-6 985,-12 985,-12 985,-56 985,-56 985,-62 979,-68 973,-68\"/>\n<text text-anchor=\"start\" x=\"885.5\" y=\"-52.8\" font-family=\"Helvetica,sans-Serif\" font-size=\"14.00\" fill=\"#000000\">gini = 0.133</text>\n<text text-anchor=\"start\" x=\"875.5\" y=\"-37.8\" font-family=\"Helvetica,sans-Serif\" font-size=\"14.00\" fill=\"#000000\">samples = 100</text>\n<text text-anchor=\"start\" x=\"870\" y=\"-22.8\" font-family=\"Helvetica,sans-Serif\" font-size=\"14.00\" fill=\"#000000\">value = [4, 93, 3]</text>\n<text text-anchor=\"start\" x=\"893\" y=\"-7.8\" font-family=\"Helvetica,sans-Serif\" font-size=\"14.00\" fill=\"#000000\">class = R</text>\n</g>\n<!-- 12&#45;&gt;13 -->\n<g id=\"edge13\" class=\"edge\">\n<title>12&#45;&gt;13</title>\n<path fill=\"none\" stroke=\"#000000\" d=\"M923.5,-103.9815C923.5,-95.618 923.5,-86.7965 923.5,-78.3409\"/>\n<polygon fill=\"#000000\" stroke=\"#000000\" points=\"927.0001,-78.2636 923.5,-68.2637 920.0001,-78.2637 927.0001,-78.2636\"/>\n</g>\n<!-- 14 -->\n<g id=\"node15\" class=\"node\">\n<title>14</title>\n<path fill=\"#b5f5d0\" stroke=\"#000000\" d=\"M1122,-68C1122,-68 1015,-68 1015,-68 1009,-68 1003,-62 1003,-56 1003,-56 1003,-12 1003,-12 1003,-6 1009,0 1015,0 1015,0 1122,0 1122,0 1128,0 1134,-6 1134,-12 1134,-12 1134,-56 1134,-56 1134,-62 1128,-68 1122,-68\"/>\n<text text-anchor=\"start\" x=\"1030.5\" y=\"-52.8\" font-family=\"Helvetica,sans-Serif\" font-size=\"14.00\" fill=\"#000000\">gini = 0.571</text>\n<text text-anchor=\"start\" x=\"1024.5\" y=\"-37.8\" font-family=\"Helvetica,sans-Serif\" font-size=\"14.00\" fill=\"#000000\">samples = 62</text>\n<text text-anchor=\"start\" x=\"1011\" y=\"-22.8\" font-family=\"Helvetica,sans-Serif\" font-size=\"14.00\" fill=\"#000000\">value = [8, 35, 19]</text>\n<text text-anchor=\"start\" x=\"1038\" y=\"-7.8\" font-family=\"Helvetica,sans-Serif\" font-size=\"14.00\" fill=\"#000000\">class = R</text>\n</g>\n<!-- 12&#45;&gt;14 -->\n<g id=\"edge14\" class=\"edge\">\n<title>12&#45;&gt;14</title>\n<path fill=\"none\" stroke=\"#000000\" d=\"M977.4926,-103.9815C990.0422,-94.3313 1003.3847,-84.0714 1015.8744,-74.4673\"/>\n<polygon fill=\"#000000\" stroke=\"#000000\" points=\"1018.1481,-77.134 1023.9419,-68.2637 1013.881,-71.585 1018.1481,-77.134\"/>\n</g>\n</g>\n</svg>\n"
          },
          "metadata": {},
          "execution_count": 30
        }
      ],
      "source": [
        "from sklearn import tree\n",
        "import graphviz\n",
        "dot_data = tree.export_graphviz(clf_model,\n",
        "                                out_file=None, \n",
        "                      feature_names=feature_names,  \n",
        "                      class_names=target,  \n",
        "                      filled=True, rounded=True,  \n",
        "                      special_characters=True)  \n",
        "graph = graphviz.Source(dot_data)  \n",
        "\n",
        "graph"
      ]
    },
    {
      "cell_type": "code",
      "execution_count": 31,
      "id": "a6c1a046",
      "metadata": {
        "execution": {
          "iopub.execute_input": "2021-09-19T11:33:27.322217Z",
          "iopub.status.busy": "2021-09-19T11:33:27.321600Z",
          "iopub.status.idle": "2021-09-19T11:33:27.327558Z",
          "shell.execute_reply": "2021-09-19T11:33:27.328118Z",
          "shell.execute_reply.started": "2021-09-19T11:28:59.606746Z"
        },
        "papermill": {
          "duration": 0.032469,
          "end_time": "2021-09-19T11:33:27.328296",
          "exception": false,
          "start_time": "2021-09-19T11:33:27.295827",
          "status": "completed"
        },
        "tags": [],
        "colab": {
          "base_uri": "https://localhost:8080/"
        },
        "id": "a6c1a046",
        "outputId": "39dff9f4-1d6f-4fad-a531-638246f32485"
      },
      "outputs": [
        {
          "output_type": "stream",
          "name": "stdout",
          "text": [
            "|--- Left weight <= 2.50\n",
            "|   |--- Right distance <= 1.50\n",
            "|   |   |--- Left distance <= 2.50\n",
            "|   |   |   |--- class: R\n",
            "|   |   |--- Left distance >  2.50\n",
            "|   |   |   |--- class: L\n",
            "|   |--- Right distance >  1.50\n",
            "|   |   |--- Right weight <= 2.50\n",
            "|   |   |   |--- class: R\n",
            "|   |   |--- Right weight >  2.50\n",
            "|   |   |   |--- class: R\n",
            "|--- Left weight >  2.50\n",
            "|   |--- Left distance <= 2.50\n",
            "|   |   |--- Right weight <= 2.50\n",
            "|   |   |   |--- class: L\n",
            "|   |   |--- Right weight >  2.50\n",
            "|   |   |   |--- class: R\n",
            "|   |--- Left distance >  2.50\n",
            "|   |   |--- Right distance <= 3.50\n",
            "|   |   |   |--- class: L\n",
            "|   |   |--- Right distance >  3.50\n",
            "|   |   |   |--- class: L\n",
            "\n"
          ]
        }
      ],
      "source": [
        "from sklearn.tree import export_text\n",
        "r = export_text(clf_model, feature_names=feature_names)\n",
        "print(r)"
      ]
    },
    {
      "cell_type": "code",
      "execution_count": 32,
      "id": "8de1d6a6",
      "metadata": {
        "execution": {
          "iopub.execute_input": "2021-09-19T11:33:27.378129Z",
          "iopub.status.busy": "2021-09-19T11:33:27.377516Z",
          "iopub.status.idle": "2021-09-19T11:33:27.383340Z",
          "shell.execute_reply": "2021-09-19T11:33:27.382820Z",
          "shell.execute_reply.started": "2021-09-19T11:29:37.960510Z"
        },
        "papermill": {
          "duration": 0.031897,
          "end_time": "2021-09-19T11:33:27.383482",
          "exception": false,
          "start_time": "2021-09-19T11:33:27.351585",
          "status": "completed"
        },
        "tags": [],
        "colab": {
          "base_uri": "https://localhost:8080/",
          "height": 36
        },
        "id": "8de1d6a6",
        "outputId": "8fe50c6a-5b79-4f46-bce1-385e584455c4"
      },
      "outputs": [
        {
          "output_type": "execute_result",
          "data": {
            "text/plain": [
              "'graph1.jpg'"
            ],
            "application/vnd.google.colaboratory.intrinsic+json": {
              "type": "string"
            }
          },
          "metadata": {},
          "execution_count": 32
        }
      ],
      "source": [
        "graph.save('graph1.jpg')"
      ]
    }
  ],
  "metadata": {
    "kernelspec": {
      "display_name": "Python 3",
      "language": "python",
      "name": "python3"
    },
    "language_info": {
      "codemirror_mode": {
        "name": "ipython",
        "version": 3
      },
      "file_extension": ".py",
      "mimetype": "text/x-python",
      "name": "python",
      "nbconvert_exporter": "python",
      "pygments_lexer": "ipython3",
      "version": "3.7.10"
    },
    "papermill": {
      "default_parameters": {},
      "duration": 12.670867,
      "end_time": "2021-09-19T11:33:28.903503",
      "environment_variables": {},
      "exception": null,
      "input_path": "__notebook__.ipynb",
      "output_path": "__notebook__.ipynb",
      "parameters": {},
      "start_time": "2021-09-19T11:33:16.232636",
      "version": "2.3.3"
    },
    "colab": {
      "provenance": [],
      "collapsed_sections": [],
      "include_colab_link": true
    }
  },
  "nbformat": 4,
  "nbformat_minor": 5
}