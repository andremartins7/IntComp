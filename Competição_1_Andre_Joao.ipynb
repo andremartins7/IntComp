{
  "cells": [
    {
      "cell_type": "markdown",
      "metadata": {
        "id": "view-in-github",
        "colab_type": "text"
      },
      "source": [
        "<a href=\"https://colab.research.google.com/github/andremartins7/IntComp/blob/main/Competi%C3%A7%C3%A3o_1_Andre_Joao.ipynb\" target=\"_parent\"><img src=\"https://colab.research.google.com/assets/colab-badge.svg\" alt=\"Open In Colab\"/></a>"
      ]
    },
    {
      "cell_type": "markdown",
      "source": [
        "#**Predição de Cobertura de um Plano de Saúde**\n",
        "##Competição 1: Classificação de requisições para cobertura do Plano de Saúde.\n",
        "\n",
        "1a Competição da disciplina de Inteligência Computacional 2022/2"
      ],
      "metadata": {
        "id": "NIzT6VrZGUVs"
      },
      "id": "NIzT6VrZGUVs"
    },
    {
      "cell_type": "markdown",
      "source": [
        "# **1. Análise exploratória dos dados**\n",
        "A EDA é usada principalmente para identificar o que os dados podem revelar além da tarefa formal de modelagem ou teste de hipótese e proporciona uma melhor compreensão das variáveis do conjunto de dados e as relações entre eles.\n",
        "\n",
        "Foi utilizada a visualização univariada de cada campo no conjunto de dados bruto, com estatísticas resumidas.\n",
        "\n",
        "# **2. Pré-processamentos realizados**\n",
        "Para tratar as features de data utilizamos a função para converter datas de / para JD e MJD. [link](https://github.com/meshula/exifotio/blob/master/jdutil.py)\n",
        "\n",
        "Trabalhamos com os valores nulos de diferentes formas, tanto para o dataset de treino como para o de teste.\n",
        "Para os valores faltantes para a feature DT_NASCIMENTO por exemplo, nos datasets de treino e teste foram preenchidos utilizando a mediana.\n",
        "\n",
        "As colunas que estavam em timestamp foram convertidas para datetime. Foi utilizado o encoding cyclical para criar as features relacionadas ao mês, dia da semana e dia do mês a partir da data de requisição. Com isso, foi criado uma feature de idade através da diferença entre a data da requisição e a data de nascimento. [Link](https://ianlondon.github.io/blog/encoding-cyclical-features-24hour-time/)\n",
        "\n",
        "# **3. Configuração experimental**\n",
        "Validação cruzada foi utilizada pois caso sejam usadas as features de sequência, pode ocorrer data leakage na validação cruzada, pois um mesmo valor da coluna \"NR_SEQ_REQUISICAO\" pode estar presente em diferentes folds.\n",
        "\n",
        "# **4. Algoritmos utilizados**\n",
        "\n",
        "Random Forest é um algoritmo de aprendizado supervisionado. Tem duas variações – uma é usada para problemas de classificação e outra é usada para problemas de regressão. É um dos algoritmos mais flexíveis e fáceis de usar. Ele cria árvores de decisão nas amostras de dados fornecidas, obtém previsões de cada árvore e seleciona a melhor solução por meio de votação. Também é um bom indicador da importância do recurso.\n",
        "\n",
        "O algoritmo Random Forest combina várias árvores de decisão, resultando em uma floresta de árvores, daí o nome Random Forest. No classificador de floresta aleatória, quanto maior o número de árvores na floresta, maior a precisão.\n",
        "\n",
        "# **5. A declaração do problema**\n",
        "\n",
        "O dataset é composto por dados preenchidos por um colaborador da prestadora (hospital, clínica, laboratório ou consultório) requisitando cobertura das despesas de produtos e serviços prestados ao cliente (beneficiário do plano), os aqui disponibilizados foram anonimizados e fornecidos por uma operadora de plano de saúde (dados reais)."
      ],
      "metadata": {
        "id": "gLmVVu4wLyDV"
      },
      "id": "gLmVVu4wLyDV"
    },
    {
      "cell_type": "markdown",
      "metadata": {
        "id": "a13727c2"
      },
      "source": [
        "# Importação das bibliotecas"
      ],
      "id": "a13727c2"
    },
    {
      "cell_type": "code",
      "execution_count": null,
      "metadata": {
        "colab": {
          "base_uri": "https://localhost:8080/"
        },
        "id": "4ce00b0f",
        "outputId": "861e5d50-8991-4f1d-bedb-7765d67dc3d7"
      },
      "outputs": [
        {
          "output_type": "stream",
          "name": "stdout",
          "text": [
            "Looking in indexes: https://pypi.org/simple, https://us-python.pkg.dev/colab-wheels/public/simple/\n",
            "Collecting category_encoders\n",
            "  Downloading category_encoders-2.5.1.post0-py2.py3-none-any.whl (72 kB)\n",
            "\u001b[K     |████████████████████████████████| 72 kB 766 kB/s \n",
            "\u001b[?25hRequirement already satisfied: scipy>=1.0.0 in /usr/local/lib/python3.8/dist-packages (from category_encoders) (1.7.3)\n",
            "Requirement already satisfied: patsy>=0.5.1 in /usr/local/lib/python3.8/dist-packages (from category_encoders) (0.5.3)\n",
            "Requirement already satisfied: scikit-learn>=0.20.0 in /usr/local/lib/python3.8/dist-packages (from category_encoders) (1.0.2)\n",
            "Requirement already satisfied: pandas>=1.0.5 in /usr/local/lib/python3.8/dist-packages (from category_encoders) (1.3.5)\n",
            "Requirement already satisfied: statsmodels>=0.9.0 in /usr/local/lib/python3.8/dist-packages (from category_encoders) (0.12.2)\n",
            "Requirement already satisfied: numpy>=1.14.0 in /usr/local/lib/python3.8/dist-packages (from category_encoders) (1.21.6)\n",
            "Requirement already satisfied: pytz>=2017.3 in /usr/local/lib/python3.8/dist-packages (from pandas>=1.0.5->category_encoders) (2022.6)\n",
            "Requirement already satisfied: python-dateutil>=2.7.3 in /usr/local/lib/python3.8/dist-packages (from pandas>=1.0.5->category_encoders) (2.8.2)\n",
            "Requirement already satisfied: six in /usr/local/lib/python3.8/dist-packages (from patsy>=0.5.1->category_encoders) (1.15.0)\n",
            "Requirement already satisfied: threadpoolctl>=2.0.0 in /usr/local/lib/python3.8/dist-packages (from scikit-learn>=0.20.0->category_encoders) (3.1.0)\n",
            "Requirement already satisfied: joblib>=0.11 in /usr/local/lib/python3.8/dist-packages (from scikit-learn>=0.20.0->category_encoders) (1.2.0)\n",
            "Installing collected packages: category-encoders\n",
            "Successfully installed category-encoders-2.5.1.post0\n"
          ]
        }
      ],
      "source": [
        "# Instalando a biblioteca para encode\n",
        "!pip install category_encoders"
      ],
      "id": "4ce00b0f"
    },
    {
      "cell_type": "code",
      "execution_count": null,
      "metadata": {
        "id": "503dd947"
      },
      "outputs": [],
      "source": [
        "# Importanto as bibliotecas a serem utilizadas\n",
        "import math\n",
        "import numpy as np\n",
        "import pandas as pd\n",
        "import datetime as dt\n",
        "import lightgbm as lgb\n",
        "import category_encoders as ce\n",
        "import matplotlib.pyplot as plt\n",
        "from sklearn.metrics import log_loss\n",
        "from sklearn.metrics import f1_score\n",
        "from sklearn.pipeline import Pipeline\n",
        "from sklearn.model_selection import cross_validate\n",
        "from sklearn.ensemble import RandomForestClassifier\n",
        "from sklearn.model_selection import train_test_split\n",
        "from sklearn.inspection import permutation_importance"
      ],
      "id": "503dd947"
    },
    {
      "cell_type": "markdown",
      "metadata": {
        "id": "b6e14ebe"
      },
      "source": [
        "# Carregar Dataset"
      ],
      "id": "b6e14ebe"
    },
    {
      "cell_type": "code",
      "execution_count": null,
      "metadata": {
        "id": "e310b847"
      },
      "outputs": [],
      "source": [
        "df_train = pd.read_csv('train.csv', delimiter=',')\n",
        "df_test = pd.read_csv('test.csv', delimiter=',')\n",
        "\n",
        "# Alterando os valores da coluna alvo para 0 e 1\n",
        "df_train['DS_STATUS_ITEM'] = df_train['DS_STATUS_ITEM'].replace({'Negado':1, 'Autorizado':0})"
      ],
      "id": "e310b847"
    },
    {
      "cell_type": "code",
      "execution_count": null,
      "metadata": {
        "colab": {
          "base_uri": "https://localhost:8080/",
          "height": 543
        },
        "id": "gQoi8QlTO3Xo",
        "outputId": "dc790c87-86d4-4a83-9360-1413a56ec180"
      },
      "outputs": [
        {
          "output_type": "execute_result",
          "data": {
            "text/plain": [
              "   Unnamed: 0  NR_SEQ_REQUISICAO  NR_SEQ_ITEM  DT_REQUISICAO  \\\n",
              "0           1            1120527      2905946        2459367   \n",
              "1           2             615210      1333736        2459091   \n",
              "2           4            1135757       897098        2459375   \n",
              "3           6            1088493      2800174        2459352   \n",
              "4           7             936746      2311078        2459268   \n",
              "\n",
              "                     DS_TIPO_GUIA  DT_NASCIMENTO  NR_PRODUTO  \\\n",
              "0     Guia de solicitac?o SP/SADT      2439348.0           1   \n",
              "1  Guia de solicitac?o internac?o      2443536.0           1   \n",
              "2     Guia de solicitac?o SP/SADT      2439815.0           1   \n",
              "3     Guia de solicitac?o SP/SADT      2439139.0           1   \n",
              "4     Guia de solicitac?o SP/SADT      2435595.0           1   \n",
              "\n",
              "  DS_TIPO_PREST_SOLICITANTE                                 DS_CBO  \\\n",
              "0     PRESTADOR DE SERVICOS                 Medico dermatologista    \n",
              "1                  HOSPITAL                         Medico clinico   \n",
              "2                   CLINICA  Medico ortopedista e traumatologista    \n",
              "3         CLINICA DE IMAGEM             Medico oncologista clinico   \n",
              "4                   CLINICA                  Medico oftalmologista   \n",
              "\n",
              "  DS_TIPO_CONSULTA  ...  CD_CID  \\\n",
              "0              NaN  ...     NaN   \n",
              "1              NaN  ...    B342   \n",
              "2              NaN  ...     M16   \n",
              "3              NaN  ...     NaN   \n",
              "4              NaN  ...     NaN   \n",
              "\n",
              "                                DS_INDICACAO_CLINICA   DS_TIPO_ITEM   CD_ITEM  \\\n",
              "0                        INDICACAO CLINICA EM ANEXO.  Procedimentos  30101298   \n",
              "1  Paciente positivo para COVID 19 ha 10 dias com...  Procedimentos  10102019   \n",
              "2             DOR CRONICA NO QUADRIL E COLUNA LOMBAR        MAT/MED     37765   \n",
              "3                          PANCREATITE DE REPETIC?O   Procedimentos  41101170   \n",
              "4                                                NaN  Procedimentos  41301269   \n",
              "\n",
              "                                             DS_ITEM  \\\n",
              "0  ELETROCOAGULAC?O DE LES?ES DE PELE E MUCOSAS -...   \n",
              "1             VISITA HOSPITALAR A PACIENTE INTERNADO   \n",
              "2  NAUSEDRON 2 MG/ML SOL INJ CX 50 AMP VD INC X 2...   \n",
              "3  RM - ABDOME SUPERIOR (FIGADO, PANCREAS, BACO, ...   \n",
              "4        MICROSCOPIA ESPECULAR DE CORNEA - MONOCULAR   \n",
              "\n",
              "                           DS_CLASSE  \\\n",
              "0                      PROCEDIMENTOS   \n",
              "1                            VISITAS   \n",
              "2      ANTIEMETICOS E ANTINAUSEANTES   \n",
              "3  RESSONANCIA MAGNETICA DIAGNOSTICA   \n",
              "4                      PROCEDIMENTOS   \n",
              "\n",
              "                                         DS_SUBGRUPO  \\\n",
              "0            PELE E TECIDO CELULAR SUBCUTANEO/ANEXOS   \n",
              "1                                          CONSULTAS   \n",
              "2  SISTEMA DIGESTIVO, METABOLISMO E NUTRICAO+SIST...   \n",
              "3                              RESSONANCIA MAGNETICA   \n",
              "4                                 EXAMES ESPECIFICOS   \n",
              "\n",
              "                              DS_GRUPO QT_SOLICITADA  DS_STATUS_ITEM  \n",
              "0      PROCED. CIRURGICOS E INVASIVOS            1.0               0  \n",
              "1                       PROCED. GERAIS           1.0               0  \n",
              "2                           Brasindice           1.0               0  \n",
              "3  PROCED. DIAGNOSTICOS E TERAPEUTICOS           1.0               0  \n",
              "4  PROCED. DIAGNOSTICOS E TERAPEUTICOS           2.0               1  \n",
              "\n",
              "[5 rows x 32 columns]"
            ],
            "text/html": [
              "\n",
              "  <div id=\"df-e7c4c9da-9c70-4d7a-8b34-72988d55e0e4\">\n",
              "    <div class=\"colab-df-container\">\n",
              "      <div>\n",
              "<style scoped>\n",
              "    .dataframe tbody tr th:only-of-type {\n",
              "        vertical-align: middle;\n",
              "    }\n",
              "\n",
              "    .dataframe tbody tr th {\n",
              "        vertical-align: top;\n",
              "    }\n",
              "\n",
              "    .dataframe thead th {\n",
              "        text-align: right;\n",
              "    }\n",
              "</style>\n",
              "<table border=\"1\" class=\"dataframe\">\n",
              "  <thead>\n",
              "    <tr style=\"text-align: right;\">\n",
              "      <th></th>\n",
              "      <th>Unnamed: 0</th>\n",
              "      <th>NR_SEQ_REQUISICAO</th>\n",
              "      <th>NR_SEQ_ITEM</th>\n",
              "      <th>DT_REQUISICAO</th>\n",
              "      <th>DS_TIPO_GUIA</th>\n",
              "      <th>DT_NASCIMENTO</th>\n",
              "      <th>NR_PRODUTO</th>\n",
              "      <th>DS_TIPO_PREST_SOLICITANTE</th>\n",
              "      <th>DS_CBO</th>\n",
              "      <th>DS_TIPO_CONSULTA</th>\n",
              "      <th>...</th>\n",
              "      <th>CD_CID</th>\n",
              "      <th>DS_INDICACAO_CLINICA</th>\n",
              "      <th>DS_TIPO_ITEM</th>\n",
              "      <th>CD_ITEM</th>\n",
              "      <th>DS_ITEM</th>\n",
              "      <th>DS_CLASSE</th>\n",
              "      <th>DS_SUBGRUPO</th>\n",
              "      <th>DS_GRUPO</th>\n",
              "      <th>QT_SOLICITADA</th>\n",
              "      <th>DS_STATUS_ITEM</th>\n",
              "    </tr>\n",
              "  </thead>\n",
              "  <tbody>\n",
              "    <tr>\n",
              "      <th>0</th>\n",
              "      <td>1</td>\n",
              "      <td>1120527</td>\n",
              "      <td>2905946</td>\n",
              "      <td>2459367</td>\n",
              "      <td>Guia de solicitac?o SP/SADT</td>\n",
              "      <td>2439348.0</td>\n",
              "      <td>1</td>\n",
              "      <td>PRESTADOR DE SERVICOS</td>\n",
              "      <td>Medico dermatologista</td>\n",
              "      <td>NaN</td>\n",
              "      <td>...</td>\n",
              "      <td>NaN</td>\n",
              "      <td>INDICACAO CLINICA EM ANEXO.</td>\n",
              "      <td>Procedimentos</td>\n",
              "      <td>30101298</td>\n",
              "      <td>ELETROCOAGULAC?O DE LES?ES DE PELE E MUCOSAS -...</td>\n",
              "      <td>PROCEDIMENTOS</td>\n",
              "      <td>PELE E TECIDO CELULAR SUBCUTANEO/ANEXOS</td>\n",
              "      <td>PROCED. CIRURGICOS E INVASIVOS</td>\n",
              "      <td>1.0</td>\n",
              "      <td>0</td>\n",
              "    </tr>\n",
              "    <tr>\n",
              "      <th>1</th>\n",
              "      <td>2</td>\n",
              "      <td>615210</td>\n",
              "      <td>1333736</td>\n",
              "      <td>2459091</td>\n",
              "      <td>Guia de solicitac?o internac?o</td>\n",
              "      <td>2443536.0</td>\n",
              "      <td>1</td>\n",
              "      <td>HOSPITAL</td>\n",
              "      <td>Medico clinico</td>\n",
              "      <td>NaN</td>\n",
              "      <td>...</td>\n",
              "      <td>B342</td>\n",
              "      <td>Paciente positivo para COVID 19 ha 10 dias com...</td>\n",
              "      <td>Procedimentos</td>\n",
              "      <td>10102019</td>\n",
              "      <td>VISITA HOSPITALAR A PACIENTE INTERNADO</td>\n",
              "      <td>VISITAS</td>\n",
              "      <td>CONSULTAS</td>\n",
              "      <td>PROCED. GERAIS</td>\n",
              "      <td>1.0</td>\n",
              "      <td>0</td>\n",
              "    </tr>\n",
              "    <tr>\n",
              "      <th>2</th>\n",
              "      <td>4</td>\n",
              "      <td>1135757</td>\n",
              "      <td>897098</td>\n",
              "      <td>2459375</td>\n",
              "      <td>Guia de solicitac?o SP/SADT</td>\n",
              "      <td>2439815.0</td>\n",
              "      <td>1</td>\n",
              "      <td>CLINICA</td>\n",
              "      <td>Medico ortopedista e traumatologista</td>\n",
              "      <td>NaN</td>\n",
              "      <td>...</td>\n",
              "      <td>M16</td>\n",
              "      <td>DOR CRONICA NO QUADRIL E COLUNA LOMBAR</td>\n",
              "      <td>MAT/MED</td>\n",
              "      <td>37765</td>\n",
              "      <td>NAUSEDRON 2 MG/ML SOL INJ CX 50 AMP VD INC X 2...</td>\n",
              "      <td>ANTIEMETICOS E ANTINAUSEANTES</td>\n",
              "      <td>SISTEMA DIGESTIVO, METABOLISMO E NUTRICAO+SIST...</td>\n",
              "      <td>Brasindice</td>\n",
              "      <td>1.0</td>\n",
              "      <td>0</td>\n",
              "    </tr>\n",
              "    <tr>\n",
              "      <th>3</th>\n",
              "      <td>6</td>\n",
              "      <td>1088493</td>\n",
              "      <td>2800174</td>\n",
              "      <td>2459352</td>\n",
              "      <td>Guia de solicitac?o SP/SADT</td>\n",
              "      <td>2439139.0</td>\n",
              "      <td>1</td>\n",
              "      <td>CLINICA DE IMAGEM</td>\n",
              "      <td>Medico oncologista clinico</td>\n",
              "      <td>NaN</td>\n",
              "      <td>...</td>\n",
              "      <td>NaN</td>\n",
              "      <td>PANCREATITE DE REPETIC?O</td>\n",
              "      <td>Procedimentos</td>\n",
              "      <td>41101170</td>\n",
              "      <td>RM - ABDOME SUPERIOR (FIGADO, PANCREAS, BACO, ...</td>\n",
              "      <td>RESSONANCIA MAGNETICA DIAGNOSTICA</td>\n",
              "      <td>RESSONANCIA MAGNETICA</td>\n",
              "      <td>PROCED. DIAGNOSTICOS E TERAPEUTICOS</td>\n",
              "      <td>1.0</td>\n",
              "      <td>0</td>\n",
              "    </tr>\n",
              "    <tr>\n",
              "      <th>4</th>\n",
              "      <td>7</td>\n",
              "      <td>936746</td>\n",
              "      <td>2311078</td>\n",
              "      <td>2459268</td>\n",
              "      <td>Guia de solicitac?o SP/SADT</td>\n",
              "      <td>2435595.0</td>\n",
              "      <td>1</td>\n",
              "      <td>CLINICA</td>\n",
              "      <td>Medico oftalmologista</td>\n",
              "      <td>NaN</td>\n",
              "      <td>...</td>\n",
              "      <td>NaN</td>\n",
              "      <td>NaN</td>\n",
              "      <td>Procedimentos</td>\n",
              "      <td>41301269</td>\n",
              "      <td>MICROSCOPIA ESPECULAR DE CORNEA - MONOCULAR</td>\n",
              "      <td>PROCEDIMENTOS</td>\n",
              "      <td>EXAMES ESPECIFICOS</td>\n",
              "      <td>PROCED. DIAGNOSTICOS E TERAPEUTICOS</td>\n",
              "      <td>2.0</td>\n",
              "      <td>1</td>\n",
              "    </tr>\n",
              "  </tbody>\n",
              "</table>\n",
              "<p>5 rows × 32 columns</p>\n",
              "</div>\n",
              "      <button class=\"colab-df-convert\" onclick=\"convertToInteractive('df-e7c4c9da-9c70-4d7a-8b34-72988d55e0e4')\"\n",
              "              title=\"Convert this dataframe to an interactive table.\"\n",
              "              style=\"display:none;\">\n",
              "        \n",
              "  <svg xmlns=\"http://www.w3.org/2000/svg\" height=\"24px\"viewBox=\"0 0 24 24\"\n",
              "       width=\"24px\">\n",
              "    <path d=\"M0 0h24v24H0V0z\" fill=\"none\"/>\n",
              "    <path d=\"M18.56 5.44l.94 2.06.94-2.06 2.06-.94-2.06-.94-.94-2.06-.94 2.06-2.06.94zm-11 1L8.5 8.5l.94-2.06 2.06-.94-2.06-.94L8.5 2.5l-.94 2.06-2.06.94zm10 10l.94 2.06.94-2.06 2.06-.94-2.06-.94-.94-2.06-.94 2.06-2.06.94z\"/><path d=\"M17.41 7.96l-1.37-1.37c-.4-.4-.92-.59-1.43-.59-.52 0-1.04.2-1.43.59L10.3 9.45l-7.72 7.72c-.78.78-.78 2.05 0 2.83L4 21.41c.39.39.9.59 1.41.59.51 0 1.02-.2 1.41-.59l7.78-7.78 2.81-2.81c.8-.78.8-2.07 0-2.86zM5.41 20L4 18.59l7.72-7.72 1.47 1.35L5.41 20z\"/>\n",
              "  </svg>\n",
              "      </button>\n",
              "      \n",
              "  <style>\n",
              "    .colab-df-container {\n",
              "      display:flex;\n",
              "      flex-wrap:wrap;\n",
              "      gap: 12px;\n",
              "    }\n",
              "\n",
              "    .colab-df-convert {\n",
              "      background-color: #E8F0FE;\n",
              "      border: none;\n",
              "      border-radius: 50%;\n",
              "      cursor: pointer;\n",
              "      display: none;\n",
              "      fill: #1967D2;\n",
              "      height: 32px;\n",
              "      padding: 0 0 0 0;\n",
              "      width: 32px;\n",
              "    }\n",
              "\n",
              "    .colab-df-convert:hover {\n",
              "      background-color: #E2EBFA;\n",
              "      box-shadow: 0px 1px 2px rgba(60, 64, 67, 0.3), 0px 1px 3px 1px rgba(60, 64, 67, 0.15);\n",
              "      fill: #174EA6;\n",
              "    }\n",
              "\n",
              "    [theme=dark] .colab-df-convert {\n",
              "      background-color: #3B4455;\n",
              "      fill: #D2E3FC;\n",
              "    }\n",
              "\n",
              "    [theme=dark] .colab-df-convert:hover {\n",
              "      background-color: #434B5C;\n",
              "      box-shadow: 0px 1px 3px 1px rgba(0, 0, 0, 0.15);\n",
              "      filter: drop-shadow(0px 1px 2px rgba(0, 0, 0, 0.3));\n",
              "      fill: #FFFFFF;\n",
              "    }\n",
              "  </style>\n",
              "\n",
              "      <script>\n",
              "        const buttonEl =\n",
              "          document.querySelector('#df-e7c4c9da-9c70-4d7a-8b34-72988d55e0e4 button.colab-df-convert');\n",
              "        buttonEl.style.display =\n",
              "          google.colab.kernel.accessAllowed ? 'block' : 'none';\n",
              "\n",
              "        async function convertToInteractive(key) {\n",
              "          const element = document.querySelector('#df-e7c4c9da-9c70-4d7a-8b34-72988d55e0e4');\n",
              "          const dataTable =\n",
              "            await google.colab.kernel.invokeFunction('convertToInteractive',\n",
              "                                                     [key], {});\n",
              "          if (!dataTable) return;\n",
              "\n",
              "          const docLinkHtml = 'Like what you see? Visit the ' +\n",
              "            '<a target=\"_blank\" href=https://colab.research.google.com/notebooks/data_table.ipynb>data table notebook</a>'\n",
              "            + ' to learn more about interactive tables.';\n",
              "          element.innerHTML = '';\n",
              "          dataTable['output_type'] = 'display_data';\n",
              "          await google.colab.output.renderOutput(dataTable, element);\n",
              "          const docLink = document.createElement('div');\n",
              "          docLink.innerHTML = docLinkHtml;\n",
              "          element.appendChild(docLink);\n",
              "        }\n",
              "      </script>\n",
              "    </div>\n",
              "  </div>\n",
              "  "
            ]
          },
          "metadata": {},
          "execution_count": 4
        }
      ],
      "source": [
        "# Visualizando as cinco primeiras linhas do Dataset\n",
        "df_train.head(5)"
      ],
      "id": "gQoi8QlTO3Xo"
    },
    {
      "cell_type": "markdown",
      "metadata": {
        "id": "885a5a54"
      },
      "source": [
        "# Análise exploratória dos dados"
      ],
      "id": "885a5a54"
    },
    {
      "cell_type": "code",
      "execution_count": null,
      "metadata": {
        "id": "28f2f1ff"
      },
      "outputs": [],
      "source": [
        "# Função para analisar o dataset\n",
        "def load_info(data):\n",
        "  print('\\nA forma do conjunto de dados é:', data.shape)\n",
        "  print('\\nThe headof the dataset is:\\n', data.head(5))\n",
        "  print('\\nO cabeçalho do conjunto de dados é:\\n', data.dtypes)  \n",
        "  print('\\nA descrição do conjunto de dados é:\\n',data.describe())\n",
        "  print('\\nExistem valores nulos?\\n', data.isnull().sum())"
      ],
      "id": "28f2f1ff"
    },
    {
      "cell_type": "code",
      "execution_count": null,
      "metadata": {
        "colab": {
          "base_uri": "https://localhost:8080/"
        },
        "id": "cF0eOCyep5de",
        "outputId": "026fa709-cdf8-4e0b-b8ba-645c5e0834d0"
      },
      "outputs": [
        {
          "output_type": "stream",
          "name": "stdout",
          "text": [
            "\n",
            "A forma do conjunto de dados é: (227122, 32)\n",
            "\n",
            "The headof the dataset is:\n",
            "    Unnamed: 0  NR_SEQ_REQUISICAO  NR_SEQ_ITEM  DT_REQUISICAO  \\\n",
            "0           1            1120527      2905946        2459367   \n",
            "1           2             615210      1333736        2459091   \n",
            "2           4            1135757       897098        2459375   \n",
            "3           6            1088493      2800174        2459352   \n",
            "4           7             936746      2311078        2459268   \n",
            "\n",
            "                     DS_TIPO_GUIA  DT_NASCIMENTO  NR_PRODUTO  \\\n",
            "0     Guia de solicitac?o SP/SADT      2439348.0           1   \n",
            "1  Guia de solicitac?o internac?o      2443536.0           1   \n",
            "2     Guia de solicitac?o SP/SADT      2439815.0           1   \n",
            "3     Guia de solicitac?o SP/SADT      2439139.0           1   \n",
            "4     Guia de solicitac?o SP/SADT      2435595.0           1   \n",
            "\n",
            "  DS_TIPO_PREST_SOLICITANTE                                 DS_CBO  \\\n",
            "0     PRESTADOR DE SERVICOS                 Medico dermatologista    \n",
            "1                  HOSPITAL                         Medico clinico   \n",
            "2                   CLINICA  Medico ortopedista e traumatologista    \n",
            "3         CLINICA DE IMAGEM             Medico oncologista clinico   \n",
            "4                   CLINICA                  Medico oftalmologista   \n",
            "\n",
            "  DS_TIPO_CONSULTA  ...  CD_CID  \\\n",
            "0              NaN  ...     NaN   \n",
            "1              NaN  ...    B342   \n",
            "2              NaN  ...     M16   \n",
            "3              NaN  ...     NaN   \n",
            "4              NaN  ...     NaN   \n",
            "\n",
            "                                DS_INDICACAO_CLINICA   DS_TIPO_ITEM   CD_ITEM  \\\n",
            "0                        INDICACAO CLINICA EM ANEXO.  Procedimentos  30101298   \n",
            "1  Paciente positivo para COVID 19 ha 10 dias com...  Procedimentos  10102019   \n",
            "2             DOR CRONICA NO QUADRIL E COLUNA LOMBAR        MAT/MED     37765   \n",
            "3                          PANCREATITE DE REPETIC?O   Procedimentos  41101170   \n",
            "4                                                NaN  Procedimentos  41301269   \n",
            "\n",
            "                                             DS_ITEM  \\\n",
            "0  ELETROCOAGULAC?O DE LES?ES DE PELE E MUCOSAS -...   \n",
            "1             VISITA HOSPITALAR A PACIENTE INTERNADO   \n",
            "2  NAUSEDRON 2 MG/ML SOL INJ CX 50 AMP VD INC X 2...   \n",
            "3  RM - ABDOME SUPERIOR (FIGADO, PANCREAS, BACO, ...   \n",
            "4        MICROSCOPIA ESPECULAR DE CORNEA - MONOCULAR   \n",
            "\n",
            "                           DS_CLASSE  \\\n",
            "0                      PROCEDIMENTOS   \n",
            "1                            VISITAS   \n",
            "2      ANTIEMETICOS E ANTINAUSEANTES   \n",
            "3  RESSONANCIA MAGNETICA DIAGNOSTICA   \n",
            "4                      PROCEDIMENTOS   \n",
            "\n",
            "                                         DS_SUBGRUPO  \\\n",
            "0            PELE E TECIDO CELULAR SUBCUTANEO/ANEXOS   \n",
            "1                                          CONSULTAS   \n",
            "2  SISTEMA DIGESTIVO, METABOLISMO E NUTRICAO+SIST...   \n",
            "3                              RESSONANCIA MAGNETICA   \n",
            "4                                 EXAMES ESPECIFICOS   \n",
            "\n",
            "                              DS_GRUPO QT_SOLICITADA  DS_STATUS_ITEM  \n",
            "0      PROCED. CIRURGICOS E INVASIVOS            1.0               0  \n",
            "1                       PROCED. GERAIS           1.0               0  \n",
            "2                           Brasindice           1.0               0  \n",
            "3  PROCED. DIAGNOSTICOS E TERAPEUTICOS           1.0               0  \n",
            "4  PROCED. DIAGNOSTICOS E TERAPEUTICOS           2.0               1  \n",
            "\n",
            "[5 rows x 32 columns]\n",
            "\n",
            "O cabeçalho do conjunto de dados é:\n",
            " Unnamed: 0                     int64\n",
            "NR_SEQ_REQUISICAO              int64\n",
            "NR_SEQ_ITEM                    int64\n",
            "DT_REQUISICAO                  int64\n",
            "DS_TIPO_GUIA                  object\n",
            "DT_NASCIMENTO                float64\n",
            "NR_PRODUTO                     int64\n",
            "DS_TIPO_PREST_SOLICITANTE     object\n",
            "DS_CBO                        object\n",
            "DS_TIPO_CONSULTA              object\n",
            "QT_TEMPO_DOENCA              float64\n",
            "DS_UNIDADE_TEMPO_DOENCA       object\n",
            "DS_TIPO_DOENCA                object\n",
            "DS_INDICACAO_ACIDENTE         object\n",
            "DS_TIPO_SAIDA                float64\n",
            "DS_TIPO_INTERNACAO            object\n",
            "DS_REGIME_INTERNACAO          object\n",
            "DS_CARATER_ATENDIMENTO        object\n",
            "DS_TIPO_ACOMODACAO            object\n",
            "QT_DIA_SOLICITADO            float64\n",
            "CD_GUIA_REFERENCIA           float64\n",
            "DS_TIPO_ATENDIMENTO           object\n",
            "CD_CID                        object\n",
            "DS_INDICACAO_CLINICA          object\n",
            "DS_TIPO_ITEM                  object\n",
            "CD_ITEM                        int64\n",
            "DS_ITEM                       object\n",
            "DS_CLASSE                     object\n",
            "DS_SUBGRUPO                   object\n",
            "DS_GRUPO                      object\n",
            "QT_SOLICITADA                float64\n",
            "DS_STATUS_ITEM                 int64\n",
            "dtype: object\n",
            "\n",
            "A descrição do conjunto de dados é:\n",
            "           Unnamed: 0  NR_SEQ_REQUISICAO   NR_SEQ_ITEM  DT_REQUISICAO  \\\n",
            "count  227122.000000       2.271220e+05  2.271220e+05   2.271220e+05   \n",
            "mean   206790.059756       9.340151e+05  2.049311e+06   2.459266e+06   \n",
            "std    119272.013141       1.953134e+05  7.886585e+05   1.054910e+02   \n",
            "min         1.000000       5.796320e+05  8.231270e+05   2.459075e+06   \n",
            "25%    103264.250000       7.718010e+05  1.340761e+06   2.459179e+06   \n",
            "50%    206896.000000       9.473340e+05  2.209462e+06   2.459272e+06   \n",
            "75%    310100.500000       1.106155e+06  2.744159e+06   2.459360e+06   \n",
            "max    413265.000000       1.234763e+06  3.336878e+06   2.459471e+06   \n",
            "\n",
            "       DT_NASCIMENTO  NR_PRODUTO  QT_TEMPO_DOENCA  DS_TIPO_SAIDA  \\\n",
            "count   2.271120e+05    227122.0       266.000000            0.0   \n",
            "mean    2.439799e+06         1.0         8.966165            NaN   \n",
            "std     6.866228e+03         0.0         8.235839            NaN   \n",
            "min     2.421816e+06         1.0         1.000000            NaN   \n",
            "25%     2.434886e+06         1.0         3.000000            NaN   \n",
            "50%     2.439166e+06         1.0         6.000000            NaN   \n",
            "75%     2.443762e+06         1.0        11.000000            NaN   \n",
            "max     2.459390e+06         1.0        47.000000            NaN   \n",
            "\n",
            "       QT_DIA_SOLICITADO  CD_GUIA_REFERENCIA       CD_ITEM  QT_SOLICITADA  \\\n",
            "count       58995.000000        3.746300e+04  2.271220e+05  227122.000000   \n",
            "mean            2.680007        9.831256e+05  5.819910e+07      60.466238   \n",
            "std             3.932817        1.523854e+05  2.156124e+08    3929.533616   \n",
            "min             0.000000        5.797030e+05  4.200000e+01       1.000000   \n",
            "25%             1.000000        8.826850e+05  3.021213e+07       1.000000   \n",
            "50%             1.000000        1.001559e+06  4.031333e+07       1.000000   \n",
            "75%             3.000000        1.100749e+06  4.130131e+07       2.000000   \n",
            "max            55.000000        1.234568e+06  2.000080e+09  600343.000000   \n",
            "\n",
            "       DS_STATUS_ITEM  \n",
            "count   227122.000000  \n",
            "mean         0.322043  \n",
            "std          0.467260  \n",
            "min          0.000000  \n",
            "25%          0.000000  \n",
            "50%          0.000000  \n",
            "75%          1.000000  \n",
            "max          1.000000  \n",
            "\n",
            "Existem valores nulos?\n",
            " Unnamed: 0                        0\n",
            "NR_SEQ_REQUISICAO                 0\n",
            "NR_SEQ_ITEM                       0\n",
            "DT_REQUISICAO                     0\n",
            "DS_TIPO_GUIA                      0\n",
            "DT_NASCIMENTO                    10\n",
            "NR_PRODUTO                        0\n",
            "DS_TIPO_PREST_SOLICITANTE         0\n",
            "DS_CBO                            0\n",
            "DS_TIPO_CONSULTA             216611\n",
            "QT_TEMPO_DOENCA              226856\n",
            "DS_UNIDADE_TEMPO_DOENCA      226856\n",
            "DS_TIPO_DOENCA               226591\n",
            "DS_INDICACAO_ACIDENTE         17583\n",
            "DS_TIPO_SAIDA                227122\n",
            "DS_TIPO_INTERNACAO           167259\n",
            "DS_REGIME_INTERNACAO         167259\n",
            "DS_CARATER_ATENDIMENTO            0\n",
            "DS_TIPO_ACOMODACAO           167341\n",
            "QT_DIA_SOLICITADO            168127\n",
            "CD_GUIA_REFERENCIA           189659\n",
            "DS_TIPO_ATENDIMENTO           59077\n",
            "CD_CID                        95872\n",
            "DS_INDICACAO_CLINICA          47178\n",
            "DS_TIPO_ITEM                      0\n",
            "CD_ITEM                           0\n",
            "DS_ITEM                           0\n",
            "DS_CLASSE                         0\n",
            "DS_SUBGRUPO                       0\n",
            "DS_GRUPO                          0\n",
            "QT_SOLICITADA                     0\n",
            "DS_STATUS_ITEM                    0\n",
            "dtype: int64\n"
          ]
        }
      ],
      "source": [
        "# análise de df_train\n",
        "load_info(df_train)"
      ],
      "id": "cF0eOCyep5de"
    },
    {
      "cell_type": "markdown",
      "metadata": {
        "id": "764b956c"
      },
      "source": [
        "# Tratando os valores nulos"
      ],
      "id": "764b956c"
    },
    {
      "cell_type": "markdown",
      "metadata": {
        "id": "8ba553b0"
      },
      "source": [
        "Para os valores faltantes na coluna DT_NASCIMENTO nos datasets de treino e teste foram preenchidos utilizando a mediana."
      ],
      "id": "8ba553b0"
    },
    {
      "cell_type": "code",
      "execution_count": null,
      "metadata": {
        "id": "9abd2933"
      },
      "outputs": [],
      "source": [
        "df_train['DT_NASCIMENTO'] = df_train['DT_NASCIMENTO'].fillna(df_train['DT_NASCIMENTO'].median())\n",
        "df_test['DT_NASCIMENTO'] = df_test['DT_NASCIMENTO'].fillna(df_test['DT_NASCIMENTO'].median())"
      ],
      "id": "9abd2933"
    },
    {
      "cell_type": "markdown",
      "metadata": {
        "id": "8a5c4097"
      },
      "source": [
        "Para a coluna DS_TIPO_ACOMODACAO, foi assumido que as requisições com valores faltantes podem ser tratadas como casos onde nenhuma categoria disponível se aplica."
      ],
      "id": "8a5c4097"
    },
    {
      "cell_type": "code",
      "execution_count": null,
      "metadata": {
        "id": "c3816bc8"
      },
      "outputs": [],
      "source": [
        "df_train['DS_TIPO_ACOMODACAO'] = df_train['DS_TIPO_ACOMODACAO'].fillna('NAO SE APLICA')\n",
        "df_test['DS_TIPO_ACOMODACAO'] = df_test['DS_TIPO_ACOMODACAO'].fillna('NAO SE APLICA')"
      ],
      "id": "c3816bc8"
    },
    {
      "cell_type": "markdown",
      "metadata": {
        "id": "00187208"
      },
      "source": [
        "Para as colunas DS_INDICACAO_ACIDENTE e DS_TIPO_ATENDIMENTO, os valores faltantes foram preenchidos com uma categoria constante \"DESCONHECIDO\""
      ],
      "id": "00187208"
    },
    {
      "cell_type": "code",
      "execution_count": null,
      "metadata": {
        "id": "b8f08d2a"
      },
      "outputs": [],
      "source": [
        "df_train['DS_INDICACAO_ACIDENTE'] = df_train['DS_INDICACAO_ACIDENTE'].fillna('DESCONHECIDO')\n",
        "df_train['DS_TIPO_ATENDIMENTO'] = df_train['DS_TIPO_ATENDIMENTO'].fillna('DESCONHECIDO')\n",
        "\n",
        "df_test['DS_INDICACAO_ACIDENTE'] = df_test['DS_INDICACAO_ACIDENTE'].fillna('DESCONHECIDO')\n",
        "df_test['DS_TIPO_ATENDIMENTO'] = df_test['DS_TIPO_ATENDIMENTO'].fillna('DESCONHECIDO')"
      ],
      "id": "b8f08d2a"
    },
    {
      "cell_type": "code",
      "execution_count": null,
      "metadata": {
        "colab": {
          "base_uri": "https://localhost:8080/",
          "height": 956
        },
        "id": "8XnIi9meJ7RI",
        "outputId": "30188d4a-2167-4e2a-bbd6-aafa2bb6efdf"
      },
      "outputs": [
        {
          "output_type": "execute_result",
          "data": {
            "text/plain": [
              "        Unnamed: 0  NR_SEQ_REQUISICAO  NR_SEQ_ITEM  DT_REQUISICAO  \\\n",
              "0                0            1560479      4348670        2459598   \n",
              "1                5            1351610       937069        2459487   \n",
              "2                8            1559916      4347132        2459598   \n",
              "3               13            1516924       960836        2459571   \n",
              "4               18            1484086      4111308        2459555   \n",
              "...            ...                ...          ...            ...   \n",
              "186139      413210            1308999      3543118        2459467   \n",
              "186140      413218            1309100       928486        2459467   \n",
              "186141      413221            1318518      3574140        2459472   \n",
              "186142      413248            1300775      3515098        2459460   \n",
              "186143      413259            1264164      3389559        2459443   \n",
              "\n",
              "                          DS_TIPO_GUIA  DT_NASCIMENTO  NR_PRODUTO  \\\n",
              "0          Guia de solicitac?o SP/SADT      2440511.0           1   \n",
              "1          Guia de solicitac?o SP/SADT      2441089.0           1   \n",
              "2          Guia de solicitac?o SP/SADT      2439094.0           1   \n",
              "3          Guia de solicitac?o SP/SADT      2442178.0           1   \n",
              "4          Guia de solicitac?o SP/SADT      2436205.0           1   \n",
              "...                                ...            ...         ...   \n",
              "186139     Guia de solicitac?o SP/SADT      2434126.0           1   \n",
              "186140  Guia de solicitac?o internac?o      2436152.0           1   \n",
              "186141     Guia de solicitac?o SP/SADT      2451525.0           1   \n",
              "186142  Guia de solicitac?o internac?o      2434417.0           1   \n",
              "186143     Guia de solicitac?o SP/SADT      2437160.0           1   \n",
              "\n",
              "       DS_TIPO_PREST_SOLICITANTE                                    DS_CBO  \\\n",
              "0                       HOSPITAL     Medico ortopedista e traumatologista    \n",
              "1                       HOSPITAL                            Medico clinico   \n",
              "2              CLINICA DE IMAGEM                            Medico clinico   \n",
              "3                        CLINICA     Medico ortopedista e traumatologista    \n",
              "4              CLINICA DE IMAGEM  Medico endocrinologista e metabologista    \n",
              "...                          ...                                       ...   \n",
              "186139                    MEDICO                     Medico oftalmologista   \n",
              "186140                  HOSPITAL                        Medico urologista    \n",
              "186141                   CLINICA     Medico ortopedista e traumatologista    \n",
              "186142                  HOSPITAL     Medico ortopedista e traumatologista    \n",
              "186143                   CLINICA                     Medico oftalmologista   \n",
              "\n",
              "            DS_TIPO_CONSULTA  ...    DS_TIPO_ATENDIMENTO CD_CID  \\\n",
              "0                        NaN  ...         Pronto socorro    NaN   \n",
              "1                        NaN  ...          Quimioterapia    C50   \n",
              "2                        NaN  ...                 Exames    NaN   \n",
              "3                        NaN  ...  Pequenos atendimentos    NaN   \n",
              "4                        NaN  ...                 Exames    NaN   \n",
              "...                      ...  ...                    ...    ...   \n",
              "186139     Primeira consulta  ...                 Exames    H40   \n",
              "186140                   NaN  ...           DESCONHECIDO    NaN   \n",
              "186141                   NaN  ...         Pronto socorro    NaN   \n",
              "186142                   NaN  ...           DESCONHECIDO    NaN   \n",
              "186143  Retorno / Seguimento  ...                 Exames   H182   \n",
              "\n",
              "                                     DS_INDICACAO_CLINICA   DS_TIPO_ITEM  \\\n",
              "0                                                     NaN  Procedimentos   \n",
              "1                                                     C50        MAT/MED   \n",
              "2                                                     NaN  Procedimentos   \n",
              "3                                                     NaN        MAT/MED   \n",
              "4                                                EM ANEXO  Procedimentos   \n",
              "...                                                   ...            ...   \n",
              "186139                                           EM ANEXO  Procedimentos   \n",
              "186140  Paciente com calculo ureteral proximal a esque...        MAT/MED   \n",
              "186141  PCT VITIMA DE QUEDA DE MOTO COM ESCORIAC?ES+ F...  Procedimentos   \n",
              "186142               SINDROME DO TUNEL DO CARPO BILATERAL  Procedimentos   \n",
              "186143  Avaliac?o e tratamento de edema de cornea + al...  Procedimentos   \n",
              "\n",
              "         CD_ITEM                                            DS_ITEM  \\\n",
              "0       60023104                         PORTE 1 (CIRURGIA PEQUENA)   \n",
              "1          73512  ZEDORA 440 MG PO LIOF SOL INJ IV CT FA VD TRAN...   \n",
              "2       41001079             TC - TOMOGRAFIA COMPUTADORIZADA -TORAX   \n",
              "3         162121                ATADURA GESSADA CYSNE 10CMX3MT - CM   \n",
              "4       40901203  USG - ULTRASSONOGRAFIA - ORG?OS SUPERFICIAIS (...   \n",
              "...          ...                                                ...   \n",
              "186139  41401301        TESTE PROVOCATIVO PARA GLAUCOMA - BINOCULAR   \n",
              "186140    276659  FIO GUIA 0,014\"X300CM HIDROFILICO STD J/CP STI...   \n",
              "186141  30711010     IMOBILIZAC?ES N?O-GESSADAS (QUALQUER SEGMENTO)   \n",
              "186142  60000783                                         ENFERMARIA   \n",
              "186143  41301269        MICROSCOPIA ESPECULAR DE CORNEA - MONOCULAR   \n",
              "\n",
              "                                         DS_CLASSE  \\\n",
              "0                              EM CENTRO CIRURGICO   \n",
              "1                                  ANTINEOPLASICOS   \n",
              "2           TOMOGRAFIA COMPUTADORIZADA DIAGNOSTICA   \n",
              "3                              Material de consumo   \n",
              "4                     ULTRA-SONOGRAFIA DIAGNOSTICA   \n",
              "...                                            ...   \n",
              "186139                               PROCEDIMENTOS   \n",
              "186140                                     Protese   \n",
              "186141  IMOBILIZAC?ES PROVISORIAS - TALAS GESSADAS   \n",
              "186142                                     DIARIAS   \n",
              "186143                               PROCEDIMENTOS   \n",
              "\n",
              "                                       DS_SUBGRUPO  \\\n",
              "0                                     TAXA DE SALA   \n",
              "1                          AGENTES ANTINEOPLASICOS   \n",
              "2                       TOMOGRAFIA COMPUTADORIZADA   \n",
              "3                              Material Hospitalar   \n",
              "4                                 ULTRA-SONOGRAFIA   \n",
              "...                                            ...   \n",
              "186139                     TESTES PARA DIAGNOSTICO   \n",
              "186140                         Material Hospitalar   \n",
              "186141  SISTEMA MUSCULO-ESQUELETICO E ARTICULAC?ES   \n",
              "186142                                     DIARIAS   \n",
              "186143                          EXAMES ESPECIFICOS   \n",
              "\n",
              "                                   DS_GRUPO  QT_SOLICITADA  \n",
              "0                                     TAXAS            1.0  \n",
              "1                                Brasindice          880.0  \n",
              "2       PROCED. DIAGNOSTICOS E TERAPEUTICOS            1.0  \n",
              "3                                    Simpro          600.0  \n",
              "4       PROCED. DIAGNOSTICOS E TERAPEUTICOS            1.0  \n",
              "...                                     ...            ...  \n",
              "186139  PROCED. DIAGNOSTICOS E TERAPEUTICOS            1.0  \n",
              "186140                               Simpro            2.0  \n",
              "186141      PROCED. CIRURGICOS E INVASIVOS             1.0  \n",
              "186142                              DIARIAS            1.0  \n",
              "186143  PROCED. DIAGNOSTICOS E TERAPEUTICOS            2.0  \n",
              "\n",
              "[186144 rows x 31 columns]"
            ],
            "text/html": [
              "\n",
              "  <div id=\"df-fda52719-44be-4b4c-9d5d-d07cc8f9cdc8\">\n",
              "    <div class=\"colab-df-container\">\n",
              "      <div>\n",
              "<style scoped>\n",
              "    .dataframe tbody tr th:only-of-type {\n",
              "        vertical-align: middle;\n",
              "    }\n",
              "\n",
              "    .dataframe tbody tr th {\n",
              "        vertical-align: top;\n",
              "    }\n",
              "\n",
              "    .dataframe thead th {\n",
              "        text-align: right;\n",
              "    }\n",
              "</style>\n",
              "<table border=\"1\" class=\"dataframe\">\n",
              "  <thead>\n",
              "    <tr style=\"text-align: right;\">\n",
              "      <th></th>\n",
              "      <th>Unnamed: 0</th>\n",
              "      <th>NR_SEQ_REQUISICAO</th>\n",
              "      <th>NR_SEQ_ITEM</th>\n",
              "      <th>DT_REQUISICAO</th>\n",
              "      <th>DS_TIPO_GUIA</th>\n",
              "      <th>DT_NASCIMENTO</th>\n",
              "      <th>NR_PRODUTO</th>\n",
              "      <th>DS_TIPO_PREST_SOLICITANTE</th>\n",
              "      <th>DS_CBO</th>\n",
              "      <th>DS_TIPO_CONSULTA</th>\n",
              "      <th>...</th>\n",
              "      <th>DS_TIPO_ATENDIMENTO</th>\n",
              "      <th>CD_CID</th>\n",
              "      <th>DS_INDICACAO_CLINICA</th>\n",
              "      <th>DS_TIPO_ITEM</th>\n",
              "      <th>CD_ITEM</th>\n",
              "      <th>DS_ITEM</th>\n",
              "      <th>DS_CLASSE</th>\n",
              "      <th>DS_SUBGRUPO</th>\n",
              "      <th>DS_GRUPO</th>\n",
              "      <th>QT_SOLICITADA</th>\n",
              "    </tr>\n",
              "  </thead>\n",
              "  <tbody>\n",
              "    <tr>\n",
              "      <th>0</th>\n",
              "      <td>0</td>\n",
              "      <td>1560479</td>\n",
              "      <td>4348670</td>\n",
              "      <td>2459598</td>\n",
              "      <td>Guia de solicitac?o SP/SADT</td>\n",
              "      <td>2440511.0</td>\n",
              "      <td>1</td>\n",
              "      <td>HOSPITAL</td>\n",
              "      <td>Medico ortopedista e traumatologista</td>\n",
              "      <td>NaN</td>\n",
              "      <td>...</td>\n",
              "      <td>Pronto socorro</td>\n",
              "      <td>NaN</td>\n",
              "      <td>NaN</td>\n",
              "      <td>Procedimentos</td>\n",
              "      <td>60023104</td>\n",
              "      <td>PORTE 1 (CIRURGIA PEQUENA)</td>\n",
              "      <td>EM CENTRO CIRURGICO</td>\n",
              "      <td>TAXA DE SALA</td>\n",
              "      <td>TAXAS</td>\n",
              "      <td>1.0</td>\n",
              "    </tr>\n",
              "    <tr>\n",
              "      <th>1</th>\n",
              "      <td>5</td>\n",
              "      <td>1351610</td>\n",
              "      <td>937069</td>\n",
              "      <td>2459487</td>\n",
              "      <td>Guia de solicitac?o SP/SADT</td>\n",
              "      <td>2441089.0</td>\n",
              "      <td>1</td>\n",
              "      <td>HOSPITAL</td>\n",
              "      <td>Medico clinico</td>\n",
              "      <td>NaN</td>\n",
              "      <td>...</td>\n",
              "      <td>Quimioterapia</td>\n",
              "      <td>C50</td>\n",
              "      <td>C50</td>\n",
              "      <td>MAT/MED</td>\n",
              "      <td>73512</td>\n",
              "      <td>ZEDORA 440 MG PO LIOF SOL INJ IV CT FA VD TRAN...</td>\n",
              "      <td>ANTINEOPLASICOS</td>\n",
              "      <td>AGENTES ANTINEOPLASICOS</td>\n",
              "      <td>Brasindice</td>\n",
              "      <td>880.0</td>\n",
              "    </tr>\n",
              "    <tr>\n",
              "      <th>2</th>\n",
              "      <td>8</td>\n",
              "      <td>1559916</td>\n",
              "      <td>4347132</td>\n",
              "      <td>2459598</td>\n",
              "      <td>Guia de solicitac?o SP/SADT</td>\n",
              "      <td>2439094.0</td>\n",
              "      <td>1</td>\n",
              "      <td>CLINICA DE IMAGEM</td>\n",
              "      <td>Medico clinico</td>\n",
              "      <td>NaN</td>\n",
              "      <td>...</td>\n",
              "      <td>Exames</td>\n",
              "      <td>NaN</td>\n",
              "      <td>NaN</td>\n",
              "      <td>Procedimentos</td>\n",
              "      <td>41001079</td>\n",
              "      <td>TC - TOMOGRAFIA COMPUTADORIZADA -TORAX</td>\n",
              "      <td>TOMOGRAFIA COMPUTADORIZADA DIAGNOSTICA</td>\n",
              "      <td>TOMOGRAFIA COMPUTADORIZADA</td>\n",
              "      <td>PROCED. DIAGNOSTICOS E TERAPEUTICOS</td>\n",
              "      <td>1.0</td>\n",
              "    </tr>\n",
              "    <tr>\n",
              "      <th>3</th>\n",
              "      <td>13</td>\n",
              "      <td>1516924</td>\n",
              "      <td>960836</td>\n",
              "      <td>2459571</td>\n",
              "      <td>Guia de solicitac?o SP/SADT</td>\n",
              "      <td>2442178.0</td>\n",
              "      <td>1</td>\n",
              "      <td>CLINICA</td>\n",
              "      <td>Medico ortopedista e traumatologista</td>\n",
              "      <td>NaN</td>\n",
              "      <td>...</td>\n",
              "      <td>Pequenos atendimentos</td>\n",
              "      <td>NaN</td>\n",
              "      <td>NaN</td>\n",
              "      <td>MAT/MED</td>\n",
              "      <td>162121</td>\n",
              "      <td>ATADURA GESSADA CYSNE 10CMX3MT - CM</td>\n",
              "      <td>Material de consumo</td>\n",
              "      <td>Material Hospitalar</td>\n",
              "      <td>Simpro</td>\n",
              "      <td>600.0</td>\n",
              "    </tr>\n",
              "    <tr>\n",
              "      <th>4</th>\n",
              "      <td>18</td>\n",
              "      <td>1484086</td>\n",
              "      <td>4111308</td>\n",
              "      <td>2459555</td>\n",
              "      <td>Guia de solicitac?o SP/SADT</td>\n",
              "      <td>2436205.0</td>\n",
              "      <td>1</td>\n",
              "      <td>CLINICA DE IMAGEM</td>\n",
              "      <td>Medico endocrinologista e metabologista</td>\n",
              "      <td>NaN</td>\n",
              "      <td>...</td>\n",
              "      <td>Exames</td>\n",
              "      <td>NaN</td>\n",
              "      <td>EM ANEXO</td>\n",
              "      <td>Procedimentos</td>\n",
              "      <td>40901203</td>\n",
              "      <td>USG - ULTRASSONOGRAFIA - ORG?OS SUPERFICIAIS (...</td>\n",
              "      <td>ULTRA-SONOGRAFIA DIAGNOSTICA</td>\n",
              "      <td>ULTRA-SONOGRAFIA</td>\n",
              "      <td>PROCED. DIAGNOSTICOS E TERAPEUTICOS</td>\n",
              "      <td>1.0</td>\n",
              "    </tr>\n",
              "    <tr>\n",
              "      <th>...</th>\n",
              "      <td>...</td>\n",
              "      <td>...</td>\n",
              "      <td>...</td>\n",
              "      <td>...</td>\n",
              "      <td>...</td>\n",
              "      <td>...</td>\n",
              "      <td>...</td>\n",
              "      <td>...</td>\n",
              "      <td>...</td>\n",
              "      <td>...</td>\n",
              "      <td>...</td>\n",
              "      <td>...</td>\n",
              "      <td>...</td>\n",
              "      <td>...</td>\n",
              "      <td>...</td>\n",
              "      <td>...</td>\n",
              "      <td>...</td>\n",
              "      <td>...</td>\n",
              "      <td>...</td>\n",
              "      <td>...</td>\n",
              "      <td>...</td>\n",
              "    </tr>\n",
              "    <tr>\n",
              "      <th>186139</th>\n",
              "      <td>413210</td>\n",
              "      <td>1308999</td>\n",
              "      <td>3543118</td>\n",
              "      <td>2459467</td>\n",
              "      <td>Guia de solicitac?o SP/SADT</td>\n",
              "      <td>2434126.0</td>\n",
              "      <td>1</td>\n",
              "      <td>MEDICO</td>\n",
              "      <td>Medico oftalmologista</td>\n",
              "      <td>Primeira consulta</td>\n",
              "      <td>...</td>\n",
              "      <td>Exames</td>\n",
              "      <td>H40</td>\n",
              "      <td>EM ANEXO</td>\n",
              "      <td>Procedimentos</td>\n",
              "      <td>41401301</td>\n",
              "      <td>TESTE PROVOCATIVO PARA GLAUCOMA - BINOCULAR</td>\n",
              "      <td>PROCEDIMENTOS</td>\n",
              "      <td>TESTES PARA DIAGNOSTICO</td>\n",
              "      <td>PROCED. DIAGNOSTICOS E TERAPEUTICOS</td>\n",
              "      <td>1.0</td>\n",
              "    </tr>\n",
              "    <tr>\n",
              "      <th>186140</th>\n",
              "      <td>413218</td>\n",
              "      <td>1309100</td>\n",
              "      <td>928486</td>\n",
              "      <td>2459467</td>\n",
              "      <td>Guia de solicitac?o internac?o</td>\n",
              "      <td>2436152.0</td>\n",
              "      <td>1</td>\n",
              "      <td>HOSPITAL</td>\n",
              "      <td>Medico urologista</td>\n",
              "      <td>NaN</td>\n",
              "      <td>...</td>\n",
              "      <td>DESCONHECIDO</td>\n",
              "      <td>NaN</td>\n",
              "      <td>Paciente com calculo ureteral proximal a esque...</td>\n",
              "      <td>MAT/MED</td>\n",
              "      <td>276659</td>\n",
              "      <td>FIO GUIA 0,014\"X300CM HIDROFILICO STD J/CP STI...</td>\n",
              "      <td>Protese</td>\n",
              "      <td>Material Hospitalar</td>\n",
              "      <td>Simpro</td>\n",
              "      <td>2.0</td>\n",
              "    </tr>\n",
              "    <tr>\n",
              "      <th>186141</th>\n",
              "      <td>413221</td>\n",
              "      <td>1318518</td>\n",
              "      <td>3574140</td>\n",
              "      <td>2459472</td>\n",
              "      <td>Guia de solicitac?o SP/SADT</td>\n",
              "      <td>2451525.0</td>\n",
              "      <td>1</td>\n",
              "      <td>CLINICA</td>\n",
              "      <td>Medico ortopedista e traumatologista</td>\n",
              "      <td>NaN</td>\n",
              "      <td>...</td>\n",
              "      <td>Pronto socorro</td>\n",
              "      <td>NaN</td>\n",
              "      <td>PCT VITIMA DE QUEDA DE MOTO COM ESCORIAC?ES+ F...</td>\n",
              "      <td>Procedimentos</td>\n",
              "      <td>30711010</td>\n",
              "      <td>IMOBILIZAC?ES N?O-GESSADAS (QUALQUER SEGMENTO)</td>\n",
              "      <td>IMOBILIZAC?ES PROVISORIAS - TALAS GESSADAS</td>\n",
              "      <td>SISTEMA MUSCULO-ESQUELETICO E ARTICULAC?ES</td>\n",
              "      <td>PROCED. CIRURGICOS E INVASIVOS</td>\n",
              "      <td>1.0</td>\n",
              "    </tr>\n",
              "    <tr>\n",
              "      <th>186142</th>\n",
              "      <td>413248</td>\n",
              "      <td>1300775</td>\n",
              "      <td>3515098</td>\n",
              "      <td>2459460</td>\n",
              "      <td>Guia de solicitac?o internac?o</td>\n",
              "      <td>2434417.0</td>\n",
              "      <td>1</td>\n",
              "      <td>HOSPITAL</td>\n",
              "      <td>Medico ortopedista e traumatologista</td>\n",
              "      <td>NaN</td>\n",
              "      <td>...</td>\n",
              "      <td>DESCONHECIDO</td>\n",
              "      <td>NaN</td>\n",
              "      <td>SINDROME DO TUNEL DO CARPO BILATERAL</td>\n",
              "      <td>Procedimentos</td>\n",
              "      <td>60000783</td>\n",
              "      <td>ENFERMARIA</td>\n",
              "      <td>DIARIAS</td>\n",
              "      <td>DIARIAS</td>\n",
              "      <td>DIARIAS</td>\n",
              "      <td>1.0</td>\n",
              "    </tr>\n",
              "    <tr>\n",
              "      <th>186143</th>\n",
              "      <td>413259</td>\n",
              "      <td>1264164</td>\n",
              "      <td>3389559</td>\n",
              "      <td>2459443</td>\n",
              "      <td>Guia de solicitac?o SP/SADT</td>\n",
              "      <td>2437160.0</td>\n",
              "      <td>1</td>\n",
              "      <td>CLINICA</td>\n",
              "      <td>Medico oftalmologista</td>\n",
              "      <td>Retorno / Seguimento</td>\n",
              "      <td>...</td>\n",
              "      <td>Exames</td>\n",
              "      <td>H182</td>\n",
              "      <td>Avaliac?o e tratamento de edema de cornea + al...</td>\n",
              "      <td>Procedimentos</td>\n",
              "      <td>41301269</td>\n",
              "      <td>MICROSCOPIA ESPECULAR DE CORNEA - MONOCULAR</td>\n",
              "      <td>PROCEDIMENTOS</td>\n",
              "      <td>EXAMES ESPECIFICOS</td>\n",
              "      <td>PROCED. DIAGNOSTICOS E TERAPEUTICOS</td>\n",
              "      <td>2.0</td>\n",
              "    </tr>\n",
              "  </tbody>\n",
              "</table>\n",
              "<p>186144 rows × 31 columns</p>\n",
              "</div>\n",
              "      <button class=\"colab-df-convert\" onclick=\"convertToInteractive('df-fda52719-44be-4b4c-9d5d-d07cc8f9cdc8')\"\n",
              "              title=\"Convert this dataframe to an interactive table.\"\n",
              "              style=\"display:none;\">\n",
              "        \n",
              "  <svg xmlns=\"http://www.w3.org/2000/svg\" height=\"24px\"viewBox=\"0 0 24 24\"\n",
              "       width=\"24px\">\n",
              "    <path d=\"M0 0h24v24H0V0z\" fill=\"none\"/>\n",
              "    <path d=\"M18.56 5.44l.94 2.06.94-2.06 2.06-.94-2.06-.94-.94-2.06-.94 2.06-2.06.94zm-11 1L8.5 8.5l.94-2.06 2.06-.94-2.06-.94L8.5 2.5l-.94 2.06-2.06.94zm10 10l.94 2.06.94-2.06 2.06-.94-2.06-.94-.94-2.06-.94 2.06-2.06.94z\"/><path d=\"M17.41 7.96l-1.37-1.37c-.4-.4-.92-.59-1.43-.59-.52 0-1.04.2-1.43.59L10.3 9.45l-7.72 7.72c-.78.78-.78 2.05 0 2.83L4 21.41c.39.39.9.59 1.41.59.51 0 1.02-.2 1.41-.59l7.78-7.78 2.81-2.81c.8-.78.8-2.07 0-2.86zM5.41 20L4 18.59l7.72-7.72 1.47 1.35L5.41 20z\"/>\n",
              "  </svg>\n",
              "      </button>\n",
              "      \n",
              "  <style>\n",
              "    .colab-df-container {\n",
              "      display:flex;\n",
              "      flex-wrap:wrap;\n",
              "      gap: 12px;\n",
              "    }\n",
              "\n",
              "    .colab-df-convert {\n",
              "      background-color: #E8F0FE;\n",
              "      border: none;\n",
              "      border-radius: 50%;\n",
              "      cursor: pointer;\n",
              "      display: none;\n",
              "      fill: #1967D2;\n",
              "      height: 32px;\n",
              "      padding: 0 0 0 0;\n",
              "      width: 32px;\n",
              "    }\n",
              "\n",
              "    .colab-df-convert:hover {\n",
              "      background-color: #E2EBFA;\n",
              "      box-shadow: 0px 1px 2px rgba(60, 64, 67, 0.3), 0px 1px 3px 1px rgba(60, 64, 67, 0.15);\n",
              "      fill: #174EA6;\n",
              "    }\n",
              "\n",
              "    [theme=dark] .colab-df-convert {\n",
              "      background-color: #3B4455;\n",
              "      fill: #D2E3FC;\n",
              "    }\n",
              "\n",
              "    [theme=dark] .colab-df-convert:hover {\n",
              "      background-color: #434B5C;\n",
              "      box-shadow: 0px 1px 3px 1px rgba(0, 0, 0, 0.15);\n",
              "      filter: drop-shadow(0px 1px 2px rgba(0, 0, 0, 0.3));\n",
              "      fill: #FFFFFF;\n",
              "    }\n",
              "  </style>\n",
              "\n",
              "      <script>\n",
              "        const buttonEl =\n",
              "          document.querySelector('#df-fda52719-44be-4b4c-9d5d-d07cc8f9cdc8 button.colab-df-convert');\n",
              "        buttonEl.style.display =\n",
              "          google.colab.kernel.accessAllowed ? 'block' : 'none';\n",
              "\n",
              "        async function convertToInteractive(key) {\n",
              "          const element = document.querySelector('#df-fda52719-44be-4b4c-9d5d-d07cc8f9cdc8');\n",
              "          const dataTable =\n",
              "            await google.colab.kernel.invokeFunction('convertToInteractive',\n",
              "                                                     [key], {});\n",
              "          if (!dataTable) return;\n",
              "\n",
              "          const docLinkHtml = 'Like what you see? Visit the ' +\n",
              "            '<a target=\"_blank\" href=https://colab.research.google.com/notebooks/data_table.ipynb>data table notebook</a>'\n",
              "            + ' to learn more about interactive tables.';\n",
              "          element.innerHTML = '';\n",
              "          dataTable['output_type'] = 'display_data';\n",
              "          await google.colab.output.renderOutput(dataTable, element);\n",
              "          const docLink = document.createElement('div');\n",
              "          docLink.innerHTML = docLinkHtml;\n",
              "          element.appendChild(docLink);\n",
              "        }\n",
              "      </script>\n",
              "    </div>\n",
              "  </div>\n",
              "  "
            ]
          },
          "metadata": {},
          "execution_count": 10
        }
      ],
      "source": [
        "df_test"
      ],
      "id": "8XnIi9meJ7RI"
    },
    {
      "cell_type": "markdown",
      "metadata": {
        "id": "c3ecb363"
      },
      "source": [
        "# Feature engineering"
      ],
      "id": "c3ecb363"
    },
    {
      "cell_type": "markdown",
      "metadata": {
        "id": "05a628d4"
      },
      "source": [
        "## Colunas de data"
      ],
      "id": "05a628d4"
    },
    {
      "cell_type": "markdown",
      "source": [
        "Função para converter datas de / para JD e MJD. Assume que as datas são históricas\n",
        "datas, incluindo a transição do calendário juliano para o gregoriano\n",
        "calendário em 1582. Nenhum suporte para calendários prolépticos gregorianos / julianos.\n",
        "\n",
        ":Autor: Matt Davis\n",
        ":Site: http://github.com/jiffyclub"
      ],
      "metadata": {
        "id": "64Fi_6xdDiQ_"
      },
      "id": "64Fi_6xdDiQ_"
    },
    {
      "cell_type": "code",
      "execution_count": null,
      "metadata": {
        "id": "dad93b07"
      },
      "outputs": [],
      "source": [
        "def jd_to_date(jd):\n",
        "  \n",
        "    jd = jd + 0.5\n",
        "    \n",
        "    F, I = math.modf(jd)\n",
        "    I = int(I)\n",
        "    \n",
        "    A = math.trunc((I - 1867216.25)/36524.25)\n",
        "    \n",
        "    if I > 2299160:\n",
        "        B = I + 1 + A - math.trunc(A / 4.)\n",
        "    else:\n",
        "        B = I\n",
        "        \n",
        "    C = B + 1524\n",
        "    \n",
        "    D = math.trunc((C - 122.1) / 365.25)\n",
        "    \n",
        "    E = math.trunc(365.25 * D)\n",
        "    \n",
        "    G = math.trunc((C - E) / 30.6001)\n",
        "    \n",
        "    day = C - E + F - math.trunc(30.6001 * G)\n",
        "    \n",
        "    if G < 13.5:\n",
        "        month = G - 1\n",
        "    else:\n",
        "        month = G - 13\n",
        "        \n",
        "    if month > 2.5:\n",
        "        year = D - 4716\n",
        "    else:\n",
        "        year = D - 4715\n",
        "        \n",
        "    return year, month, math.trunc(day)"
      ],
      "id": "dad93b07"
    },
    {
      "cell_type": "markdown",
      "metadata": {
        "id": "f7a2cb33"
      },
      "source": [
        "\n",
        "DT_REQUISICAO e DT_NASCIMENTO em timestamp foi convertido para datetime. Foi utilizado o *encoding cyclical* para criar as features relacionadas ao mês, dia da semana e dia do mês a partir da data de requisição. Com isso, foi criado uma feature de idade através da diferença entre a data da requisição e a data de nascimento.\n",
        "\n",
        "A objetivo é evitar usar o LabelEnconder, pois, se mapearmos cada dia da semana para um número de 1 a 7 (Domingo = 1, Segunda = 2, ..., Sábado = 7) é possível que o modelo calcule que quantidade de dias entre sábado e domingo é 6 e não 1 dia apenas. Assim, usando trigonometria para fazer o mapeamento, amenizamos o problema, pois essas funções também são cíclicas. (Referência no [link](https://ianlondon.github.io/blog/encoding-cyclical-features-24hour-time/))\n",
        "\n"
      ],
      "id": "f7a2cb33"
    },
    {
      "cell_type": "code",
      "execution_count": null,
      "metadata": {
        "id": "26612413"
      },
      "outputs": [],
      "source": [
        "df_train['DT_REQUISICAO'] = pd.to_datetime(df_train['DT_REQUISICAO'].map(jd_to_date).map(lambda t: '-'.join([str(k) for k in t])), format='%Y-%m-%d')\n",
        "df_train['DT_NASCIMENTO'] = pd.to_datetime(df_train['DT_NASCIMENTO'].map(jd_to_date).map(lambda t: '-'.join([str(k) for k in t])), format='%Y-%m-%d')\n",
        "\n",
        "df_train['Idade'] = pd.DatetimeIndex(df_train['DT_REQUISICAO']).year - pd.DatetimeIndex(df_train['DT_NASCIMENTO']).year\n",
        "\n",
        "df_train['dia_x'] = np.cos(2*np.pi*pd.DatetimeIndex(df_train['DT_REQUISICAO']).weekday/7)\n",
        "df_train['dia_y'] = np.sin(2*np.pi*pd.DatetimeIndex(df_train['DT_REQUISICAO']).weekday/7)\n",
        "\n",
        "df_train['mes_dia_x'] = np.cos(2*np.pi*pd.DatetimeIndex(df_train['DT_REQUISICAO']).day/31)\n",
        "df_train['mes_dia_y'] = np.sin(2*np.pi*pd.DatetimeIndex(df_train['DT_REQUISICAO']).day/31)\n",
        "\n",
        "df_train['mes_x'] = np.cos(2*np.pi*pd.DatetimeIndex(df_train['DT_REQUISICAO']).month/12)\n",
        "df_train['mes_y'] = np.sin(2*np.pi*pd.DatetimeIndex(df_train['DT_REQUISICAO']).month/12)"
      ],
      "id": "26612413"
    },
    {
      "cell_type": "markdown",
      "metadata": {
        "id": "095a4472"
      },
      "source": [
        "## Colunas de texto"
      ],
      "id": "095a4472"
    },
    {
      "cell_type": "markdown",
      "metadata": {
        "id": "5ca42318"
      },
      "source": [
        "As colunas DS_ITEM, DS_CLASSE e DS_INDICACAO_CLINICA parecem ter o campo de preenchimento livre, sem restrições. Na tentativa de extrair algum tipo de informação delas foram construídas três novas features contendo a quantidade de caracteres utilizadas. A intuito disso é analisar se o tamanho do texto contido nessas features tem impacto na pontuação do modelo. \n",
        "\n",
        "Uma quarta coluna foi criada para verificar se a presença da palavra anexo apareceu no texto DS_INDICACAO_CLINICA, para analisar se o desempenho do modelo é alterado."
      ],
      "id": "5ca42318"
    },
    {
      "cell_type": "code",
      "execution_count": null,
      "metadata": {
        "id": "6701d7ec"
      },
      "outputs": [],
      "source": [
        "df_train['TAMANHO_DS_ITEM'] = df_train['DS_ITEM'].map(lambda s: len(str(s)))\n",
        "df_train['TAMANHO_DS_CLASSE'] = df_train['DS_CLASSE'].map(lambda s: len(str(s)))\n",
        "df_train['TAMANHO_DS_INDICACAO_CLINICA'] = df_train['DS_INDICACAO_CLINICA'].fillna('').map(lambda s: len(str(s)))\n",
        "\n",
        "df_train['ANEXO_DS_INDICACAO_CLINICA'] = df_train['DS_INDICACAO_CLINICA'].fillna('').map(lambda s: 1 if 'anexo' in str(s).lower() else 0)"
      ],
      "id": "6701d7ec"
    },
    {
      "cell_type": "markdown",
      "metadata": {
        "id": "1a712fa6"
      },
      "source": [
        "## Excluíndo colunas"
      ],
      "id": "1a712fa6"
    },
    {
      "cell_type": "code",
      "execution_count": null,
      "metadata": {
        "id": "75287524"
      },
      "outputs": [],
      "source": [
        "# Colunas que serão excluídas\n",
        "features_notepad = ['DS_INDICACAO_CLINICA', 'DS_ITEM', 'DS_CLASSE'] # colunas de texto\n",
        "features_useless = ['NR_PRODUTO', 'DS_TIPO_SAIDA', 'CD_ITEM'] # features que foram descosideradas\n",
        "features_most_values_null = ['QT_TEMPO_DOENCA', 'DS_UNIDADE_TEMPO_DOENCA', 'DS_TIPO_CONSULTA', 'DS_TIPO_DOENCA', 'CD_GUIA_REFERENCIA'] # colunas com muitos valores nulos\n",
        "features_date = ['DT_NASCIMENTO', 'DT_REQUISICAO'] # features de data\n",
        "\n",
        "#Colunas de sequência\n",
        "features_seq = ['NR_SEQ_ITEM', 'NR_SEQ_REQUISICAO']\n",
        "\n",
        "#Essas features foram retiradas por terem o permutation importance baixo.\n",
        "features_test = ['DS_TIPO_INTERNACAO', 'DS_TIPO_GUIA', 'DS_GRUPO', 'DS_REGIME_INTERNACAO', 'QT_DIA_SOLICITADO', 'QT_SOLICITADA']\n",
        "\n",
        "features_excluidas = features_notepad + features_useless + features_most_values_null + features_date + features_test + features_seq\n",
        "df_train = df_train.drop(features_excluidas, axis=1)"
      ],
      "id": "75287524"
    },
    {
      "cell_type": "markdown",
      "metadata": {
        "id": "e467d10b"
      },
      "source": [
        "# Validação cruzada"
      ],
      "id": "e467d10b"
    },
    {
      "cell_type": "markdown",
      "metadata": {
        "id": "0d2de617"
      },
      "source": [
        "Caso sejam usadas as features de sequência, pode ocorrer data leakage na validação cruzada, pois um mesmo valor da coluna \"NR_SEQ_REQUISICAO\" pode estar presente em diferentes folds."
      ],
      "id": "0d2de617"
    },
    {
      "cell_type": "code",
      "execution_count": null,
      "metadata": {
        "id": "f6eda181"
      },
      "outputs": [],
      "source": [
        "X = df_train.drop('DS_STATUS_ITEM', axis=1)\n",
        "y = df_train['DS_STATUS_ITEM']"
      ],
      "id": "f6eda181"
    },
    {
      "cell_type": "code",
      "execution_count": null,
      "metadata": {
        "colab": {
          "base_uri": "https://localhost:8080/"
        },
        "id": "6d64f263",
        "outputId": "ac0c1ff4-ff64-4072-feb9-21c55268707b"
      },
      "outputs": [
        {
          "output_type": "stream",
          "name": "stderr",
          "text": [
            "[Parallel(n_jobs=1)]: Using backend SequentialBackend with 1 concurrent workers.\n"
          ]
        },
        {
          "output_type": "stream",
          "name": "stdout",
          "text": [
            "[CV] START .....................................................................\n",
            "[CV] END ..................., score=(train=0.988, test=0.787) total time= 1.2min\n",
            "[CV] START .....................................................................\n"
          ]
        },
        {
          "output_type": "stream",
          "name": "stderr",
          "text": [
            "[Parallel(n_jobs=1)]: Done   1 out of   1 | elapsed:  1.4min remaining:    0.0s\n"
          ]
        },
        {
          "output_type": "stream",
          "name": "stdout",
          "text": [
            "[CV] END ..................., score=(train=0.987, test=0.794) total time= 1.1min\n",
            "[CV] START .....................................................................\n"
          ]
        },
        {
          "output_type": "stream",
          "name": "stderr",
          "text": [
            "[Parallel(n_jobs=1)]: Done   2 out of   2 | elapsed:  2.7min remaining:    0.0s\n"
          ]
        },
        {
          "output_type": "stream",
          "name": "stdout",
          "text": [
            "[CV] END ..................., score=(train=0.987, test=0.793) total time= 1.1min\n",
            "[CV] START .....................................................................\n"
          ]
        },
        {
          "output_type": "stream",
          "name": "stderr",
          "text": [
            "[Parallel(n_jobs=1)]: Done   3 out of   3 | elapsed:  3.9min remaining:    0.0s\n"
          ]
        },
        {
          "output_type": "stream",
          "name": "stdout",
          "text": [
            "[CV] END ..................., score=(train=0.987, test=0.803) total time= 1.0min\n",
            "[CV] START .....................................................................\n"
          ]
        },
        {
          "output_type": "stream",
          "name": "stderr",
          "text": [
            "[Parallel(n_jobs=1)]: Done   4 out of   4 | elapsed:  5.2min remaining:    0.0s\n"
          ]
        },
        {
          "output_type": "stream",
          "name": "stdout",
          "text": [
            "[CV] END ..................., score=(train=0.987, test=0.789) total time= 1.0min\n",
            "[CV] START .....................................................................\n"
          ]
        },
        {
          "output_type": "stream",
          "name": "stderr",
          "text": [
            "[Parallel(n_jobs=1)]: Done   5 out of   5 | elapsed:  6.4min remaining:    0.0s\n"
          ]
        },
        {
          "output_type": "stream",
          "name": "stdout",
          "text": [
            "[CV] END ..................., score=(train=0.988, test=0.796) total time= 1.1min\n",
            "[CV] START .....................................................................\n"
          ]
        },
        {
          "output_type": "stream",
          "name": "stderr",
          "text": [
            "[Parallel(n_jobs=1)]: Done   6 out of   6 | elapsed:  7.7min remaining:    0.0s\n"
          ]
        },
        {
          "output_type": "stream",
          "name": "stdout",
          "text": [
            "[CV] END ..................., score=(train=0.987, test=0.797) total time= 1.1min\n",
            "[CV] START .....................................................................\n"
          ]
        },
        {
          "output_type": "stream",
          "name": "stderr",
          "text": [
            "[Parallel(n_jobs=1)]: Done   7 out of   7 | elapsed:  9.0min remaining:    0.0s\n"
          ]
        },
        {
          "output_type": "stream",
          "name": "stdout",
          "text": [
            "[CV] END ..................., score=(train=0.987, test=0.793) total time= 1.1min\n",
            "[CV] START .....................................................................\n"
          ]
        },
        {
          "output_type": "stream",
          "name": "stderr",
          "text": [
            "[Parallel(n_jobs=1)]: Done   8 out of   8 | elapsed: 10.2min remaining:    0.0s\n"
          ]
        },
        {
          "output_type": "stream",
          "name": "stdout",
          "text": [
            "[CV] END ..................., score=(train=0.987, test=0.792) total time= 1.0min\n",
            "[CV] START .....................................................................\n"
          ]
        },
        {
          "output_type": "stream",
          "name": "stderr",
          "text": [
            "[Parallel(n_jobs=1)]: Done   9 out of   9 | elapsed: 11.5min remaining:    0.0s\n"
          ]
        },
        {
          "output_type": "stream",
          "name": "stdout",
          "text": [
            "[CV] END ..................., score=(train=0.988, test=0.785) total time= 1.1min\n",
            "===========================treino===========================\n",
            "0.9873423788646185\n",
            "0.0002053937266127386\n",
            "===========================teste============================\n",
            "0.7928396434945324\n",
            "0.004807542533431535\n",
            "CPU times: user 12min 35s, sys: 8.61 s, total: 12min 43s\n",
            "Wall time: 12min 46s\n"
          ]
        },
        {
          "output_type": "stream",
          "name": "stderr",
          "text": [
            "[Parallel(n_jobs=1)]: Done  10 out of  10 | elapsed: 12.8min finished\n"
          ]
        }
      ],
      "source": [
        "%%time\n",
        "cat_feat = df_train.select_dtypes('object')\n",
        "pipe = Pipeline([\n",
        "        ('encoder', ce.BinaryEncoder(cols=cat_feat, return_df=True)), \n",
        "        ('model', RandomForestClassifier(class_weight = \"balanced\", n_estimators=150, max_depth=30, min_samples_split=4))\n",
        "])\n",
        "\n",
        "cv_results = cross_validate(pipe, X, y, cv=10, scoring='f1', return_train_score=True, verbose=10)\n",
        "\n",
        "print(f\"{'treino':=^60}\")\n",
        "print(cv_results['train_score'].mean())\n",
        "print(cv_results['train_score'].std()) \n",
        "print(f\"{'teste':=^60}\") \n",
        "print(cv_results['test_score'].mean())\n",
        "print(cv_results['test_score'].std())"
      ],
      "id": "6d64f263"
    },
    {
      "cell_type": "markdown",
      "metadata": {
        "id": "9efb3c91"
      },
      "source": [
        "# Colunas importantes"
      ],
      "id": "9efb3c91"
    },
    {
      "cell_type": "code",
      "execution_count": null,
      "metadata": {
        "colab": {
          "base_uri": "https://localhost:8080/",
          "height": 1000
        },
        "id": "e12a1c5d",
        "outputId": "00469c56-be82-41ab-a0d6-cb297b85a106"
      },
      "outputs": [
        {
          "output_type": "stream",
          "name": "stdout",
          "text": [
            "f1_score: 0.7898595659310597\n"
          ]
        },
        {
          "output_type": "display_data",
          "data": {
            "text/plain": [
              "<Figure size 1440x1440 with 1 Axes>"
            ],
            "image/png": "[encoded data removed]"
          },
          "metadata": {
            "needs_background": "light"
          }
        },
        {
          "output_type": "stream",
          "name": "stdout",
          "text": [
            "CPU times: user 58.4 s, sys: 486 ms, total: 58.9 s\n",
            "Wall time: 58.7 s\n"
          ]
        }
      ],
      "source": [
        "%%time\n",
        "X_train, X_valid, y_train, y_valid = train_test_split(X, y, test_size=0.2, random_state=123)\n",
        "cat_feat = df_train.select_dtypes('object')\n",
        "pipe = Pipeline([\n",
        "        ('encoder', ce.BinaryEncoder(cols=cat_feat, return_df=True)), \n",
        "        ('model', RandomForestClassifier(class_weight = \"balanced\", n_estimators=150, max_depth=30, min_samples_split=4))\n",
        "])\n",
        "pipe.fit(X_train, y_train)\n",
        "y_pred = pipe.predict(X_valid)\n",
        "print(f'f1_score: {f1_score(y_valid, y_pred)}')\n",
        "\n",
        "plt.figure(figsize=(20, 20))\n",
        "sort_indexs = pipe['model'].feature_importances_.argsort()\n",
        "plt.barh(width=pipe['model'].feature_importances_[sort_indexs], y=pipe['model'].feature_names_in_[sort_indexs])\n",
        "plt.show()"
      ],
      "id": "e12a1c5d"
    },
    {
      "cell_type": "markdown",
      "metadata": {
        "id": "192491ca"
      },
      "source": [
        "# Permutação de Importância"
      ],
      "id": "192491ca"
    },
    {
      "cell_type": "markdown",
      "metadata": {
        "id": "55f23aa2"
      },
      "source": [
        "Aqui é realizada a importância da permutação, que consiste em permutar os valores de uma feature específica e verificar o quanto o desempenho final do modelo é impactado, isso é feito para cada uma das features utilizadas. Desta forma, features que tiveram baixo impacto após a permutação possuem menor relevância para o modelo. Além disso, ao remover esses recursos de pontuação baixa, o desempenho do modelo pode melhorar."
      ],
      "id": "55f23aa2"
    },
    {
      "cell_type": "code",
      "execution_count": null,
      "metadata": {
        "colab": {
          "base_uri": "https://localhost:8080/"
        },
        "id": "e223a69b",
        "outputId": "1d26fd2e-26a4-4ebf-8782-59b9de0a9d41"
      },
      "outputs": [
        {
          "output_type": "stream",
          "name": "stdout",
          "text": [
            "mes_x                                   0.148 +/- 0.002\n",
            "DS_TIPO_PREST_SOLICITANTE               0.138 +/- 0.003\n",
            "CD_CID                                  0.136 +/- 0.002\n",
            "mes_y                                   0.109 +/- 0.001\n",
            "TAMANHO_DS_INDICACAO_CLINICA            0.106 +/- 0.001\n",
            "DS_CBO                                  0.078 +/- 0.002\n",
            "DS_TIPO_ATENDIMENTO                     0.066 +/- 0.001\n",
            "DS_CARATER_ATENDIMENTO                  0.055 +/- 0.001\n",
            "mes_dia_y                               0.049 +/- 0.001\n",
            "Idade                                   0.048 +/- 0.001\n",
            "mes_dia_x                               0.047 +/- 0.001\n",
            "DS_TIPO_ACOMODACAO                      0.040 +/- 0.001\n",
            "DS_INDICACAO_ACIDENTE                   0.034 +/- 0.001\n",
            "DS_SUBGRUPO                             0.033 +/- 0.001\n",
            "dia_y                                   0.020 +/- 0.001\n",
            "TAMANHO_DS_ITEM                         0.016 +/- 0.000\n",
            "dia_x                                   0.016 +/- 0.000\n",
            "TAMANHO_DS_CLASSE                       0.016 +/- 0.001\n",
            "DS_TIPO_ITEM                            0.012 +/- 0.001\n",
            "ANEXO_DS_INDICACAO_CLINICA              0.004 +/- 0.001\n",
            "CPU times: user 4min 45s, sys: 2.4 s, total: 4min 47s\n",
            "Wall time: 4min 46s\n"
          ]
        }
      ],
      "source": [
        "%%time\n",
        "result = permutation_importance(pipe, X_valid, y_valid, n_repeats=5, random_state=0, scoring='f1')\n",
        "for i in result.importances_mean.argsort()[::-1]:\n",
        "     if result.importances_mean[i] - 2 * result.importances_std[i] > 0:\n",
        "         print(f\"{X_valid.columns[i]:<40}\"\n",
        "               f\"{result.importances_mean[i]:.3f}\"\n",
        "               f\" +/- {result.importances_std[i]:.3f}\")"
      ],
      "id": "e223a69b"
    },
    {
      "cell_type": "markdown",
      "metadata": {
        "id": "6e4264ff"
      },
      "source": [
        "# Otimização RF"
      ],
      "id": "6e4264ff"
    },
    {
      "cell_type": "markdown",
      "metadata": {
        "id": "4dbf3ee7"
      },
      "source": [
        "Nessa seção apenas foi criada uma função para ajudar a escolher alguns hiperparâmetros do modelo. Essas análises foram feitas apenas sobre um único split, em razão do custo."
      ],
      "id": "4dbf3ee7"
    },
    {
      "cell_type": "markdown",
      "metadata": {
        "id": "e2a225fc"
      },
      "source": [
        "O hiperparâmetro *class_weight* ficará em \"balanced\", pois ele é necessário para poder corrigir o problema de desbalanceamento entre as classes autorizado e negado da feature alvo DS_STATUS_ITEM."
      ],
      "id": "e2a225fc"
    },
    {
      "cell_type": "code",
      "execution_count": null,
      "metadata": {
        "id": "c24c7458"
      },
      "outputs": [],
      "source": [
        "def analise_hyperparameter(X, y, hyperparam, values):\n",
        "    X_train, X_valid, y_train, y_valid = train_test_split(X, y, test_size=0.2, random_state=123)\n",
        "    f1_scores = {'train':[],'valid':[]}\n",
        "    log_losses = {'train':[],'valid':[]}\n",
        "\n",
        "    for n in values:\n",
        "        print(f'{f\"{hyperparam}: {n}\":<30}', end='')\n",
        "        cat_feat = X.select_dtypes('object')\n",
        "        pipe = Pipeline([\n",
        "                        ('encoder', ce.BinaryEncoder(cols=cat_feat, return_df=True)), \n",
        "                        ('model', RandomForestClassifier(class_weight = \"balanced\", **{hyperparam: n}))\n",
        "        ])\n",
        "        print('.', end='')\n",
        "        pipe.fit(X_train, y_train)\n",
        "        print('.', end='')\n",
        "        y_pred_train = pipe.predict(X_train)\n",
        "        y_pred_valid = pipe.predict(X_valid)\n",
        "\n",
        "        print('.', end='') \n",
        "        f1_scores['train'].append(f1_score(y_train, y_pred_train)) \n",
        "        log_losses['train'].append(log_loss(y_train, y_pred_train))\n",
        "        f1_scores['valid'].append(f1_score(y_valid, y_pred_valid))\n",
        "        log_losses['valid'].append(log_loss(y_valid, y_pred_valid))\n",
        "        print('.')\n",
        "\n",
        "        \n",
        "    fig, ax = plt.subplots(2, 1, figsize=(20, 20))\n",
        "    ax[0].plot(values, f1_scores['train'], label='train')\n",
        "    ax[0].plot(values, f1_scores['valid'], label='valid')\n",
        "    plt.setp(ax[0].get_xticklabels(), fontsize=24)\n",
        "    plt.setp(ax[0].get_yticklabels(), fontsize=24)\n",
        "    ax[0].set_title('Train and valid curve', fontweight=\"bold\", fontsize=36)\n",
        "    ax[0].set_ylabel('f1-score', fontsize=24)\n",
        "    ax[0].set_xlabel(hyperparam, fontsize=24)\n",
        "    ax[0].legend(prop={'size': 30})\n",
        "\n",
        "    ax[1].plot(values, log_losses['train'], label='train')\n",
        "    ax[1].plot(values, log_losses['valid'], label='valid')\n",
        "    plt.setp(ax[1].get_xticklabels(), fontsize=24)\n",
        "    plt.setp(ax[1].get_yticklabels(), fontsize=24)\n",
        "    ax[1].set_title('Train and valid curve', fontweight=\"bold\", fontsize=36)\n",
        "    ax[1].set_ylabel('log_loss', fontsize=24)\n",
        "    ax[1].set_xlabel(hyperparam, fontsize=24)\n",
        "    ax[1].legend(prop={'size': 30})\n",
        "\n",
        "    fig.show()\n"
      ],
      "id": "c24c7458"
    },
    {
      "cell_type": "code",
      "execution_count": null,
      "metadata": {
        "colab": {
          "base_uri": "https://localhost:8080/"
        },
        "id": "c8db5043",
        "outputId": "9680d33c-254a-43d8-d3e4-208ae95cdb82"
      },
      "outputs": [
        {
          "output_type": "stream",
          "name": "stdout",
          "text": [
            "n_estimators: 100             ....\n",
            "n_estimators: 150             ....\n",
            "n_estimators: 200             ....\n",
            "n_estimators: 250             ....\n",
            "n_estimators: 300             ....\n",
            "n_estimators: 350             ....\n",
            "n_estimators: 400             ....\n",
            "n_estimators: 450             ....\n",
            "n_estimators: 500             ....\n",
            "CPU times: user 19min 58s, sys: 32.5 s, total: 20min 31s\n",
            "Wall time: 20min 26s\n"
          ]
        },
        {
          "output_type": "display_data",
          "data": {
            "text/plain": [
              "<Figure size 1440x1440 with 2 Axes>"
            ],
            "image/png": "[encoded data removed]"
          },
          "metadata": {
            "needs_background": "light"
          }
        }
      ],
      "source": [
        "%%time\n",
        "analise_hyperparameter(X, y, 'n_estimators', range(100, 501, 50))"
      ],
      "id": "c8db5043"
    },
    {
      "cell_type": "code",
      "execution_count": null,
      "metadata": {
        "colab": {
          "base_uri": "https://localhost:8080/",
          "height": 263
        },
        "id": "b4aa2176",
        "outputId": "addbe2c4-a384-46c7-b1ac-1ff29f3d75d8"
      },
      "outputs": [
        {
          "output_type": "stream",
          "name": "stdout",
          "text": [
            "min_samples_split: 2          ....\n",
            "min_samples_split: 4          ....\n",
            "min_samples_split: 6          ....\n",
            "min_samples_split: 8          ....\n",
            "min_samples_split: 10         ....\n",
            "min_samples_split: 12         ....\n",
            "min_samples_split: 14         ....\n",
            "min_samples_split: 16         ....\n",
            "min_samples_split: 18         ....\n",
            "min_samples_split: 20         ....\n",
            "CPU times: user 7min 26s, sys: 35.4 s, total: 8min 2s\n",
            "Wall time: 8min\n"
          ]
        },
        {
          "output_type": "display_data",
          "data": {
            "text/plain": [
              "<Figure size 1440x1440 with 2 Axes>"
            ],
            "image/png": "[encoded data removed]"
          },
          "metadata": {
            "needs_background": "light"
          }
        }
      ],
      "source": [
        "%%time\n",
        "analise_hyperparameter(X, y, 'min_samples_split', range(2, 21, 2))\n"
      ],
      "id": "b4aa2176"
    },
    {
      "cell_type": "code",
      "execution_count": null,
      "metadata": {
        "id": "5095861f",
        "colab": {
          "base_uri": "https://localhost:8080/"
        },
        "outputId": "542d2b34-26de-418e-83e5-1a3b9b8a07bf"
      },
      "outputs": [
        {
          "output_type": "stream",
          "name": "stdout",
          "text": [
            "max_depth: 5                  ....\n",
            "max_depth: 10                 ....\n",
            "max_depth: 15                 ....\n",
            "max_depth: 20                 ....\n",
            "max_depth: 25                 ....\n",
            "max_depth: 30                 ....\n",
            "max_depth: 35                 ....\n",
            "max_depth: 40                 ....\n",
            "max_depth: 45                 ....\n",
            "max_depth: 50                 ....\n",
            "CPU times: user 6min 42s, sys: 15.7 s, total: 6min 58s\n",
            "Wall time: 6min 57s\n"
          ]
        },
        {
          "output_type": "display_data",
          "data": {
            "text/plain": [
              "<Figure size 1440x1440 with 2 Axes>"
            ],
            "image/png": "[encoded data removed]"
          },
          "metadata": {
            "needs_background": "light"
          }
        }
      ],
      "source": [
        "%%time\n",
        "analise_hyperparameter(X, y, 'max_depth', range(5, 51, 5))"
      ],
      "id": "5095861f"
    },
    {
      "cell_type": "markdown",
      "metadata": {
        "id": "f94a3a57"
      },
      "source": [
        "# Predição"
      ],
      "id": "f94a3a57"
    },
    {
      "cell_type": "markdown",
      "metadata": {
        "id": "40449b88"
      },
      "source": [
        "Todos os procedimentos feitos para o dataset de treino também foi feitos para o dataset de teste"
      ],
      "id": "40449b88"
    },
    {
      "cell_type": "code",
      "execution_count": null,
      "metadata": {
        "colab": {
          "base_uri": "https://localhost:8080/"
        },
        "id": "zM6S_S56WHjM",
        "outputId": "6eaa81fb-c35d-4bde-c204-84a4234a68ea"
      },
      "outputs": [
        {
          "output_type": "stream",
          "name": "stderr",
          "text": [
            "/usr/local/lib/python3.8/dist-packages/IPython/core/interactiveshell.py:3326: DtypeWarning: Columns (11) have mixed types.Specify dtype option on import or set low_memory=False.\n",
            "  exec(code_obj, self.user_global_ns, self.user_ns)\n"
          ]
        }
      ],
      "source": [
        "df_test = pd.read_csv('test.csv', delimiter=',')"
      ],
      "id": "zM6S_S56WHjM"
    },
    {
      "cell_type": "code",
      "execution_count": null,
      "metadata": {
        "colab": {
          "base_uri": "https://localhost:8080/"
        },
        "id": "b229d41a",
        "outputId": "cb828bee-293f-4967-fb5a-20f717e03276"
      },
      "outputs": [
        {
          "output_type": "stream",
          "name": "stdout",
          "text": [
            "Loading Dataset...\n",
            "\tTrain:\t(227122, 22)\n",
            "\tTest:\t(186144, 21)\n"
          ]
        }
      ],
      "source": [
        "df_test['DT_REQUISICAO'] = pd.to_datetime(df_test['DT_REQUISICAO'].map(jd_to_date).map(lambda t: '-'.join([str(k) for k in t])), format='%Y-%m-%d')\n",
        "df_test['DT_NASCIMENTO'] = pd.to_datetime(df_test['DT_NASCIMENTO'].map(jd_to_date).map(lambda t: '-'.join([str(k) for k in t])), format='%Y-%m-%d')\n",
        "df_test['Idade'] = pd.DatetimeIndex(df_test['DT_REQUISICAO']).year - pd.DatetimeIndex(df_test['DT_NASCIMENTO']).year\n",
        "df_test['dia_x'] = np.cos(2*np.pi*pd.DatetimeIndex(df_test['DT_REQUISICAO']).weekday/7)\n",
        "df_test['dia_y'] = np.sin(2*np.pi*pd.DatetimeIndex(df_test['DT_REQUISICAO']).weekday/7)\n",
        "df_test['mes_dia_x'] = np.cos(2*np.pi*pd.DatetimeIndex(df_test['DT_REQUISICAO']).day/31)\n",
        "df_test['mes_dia_y'] = np.sin(2*np.pi*pd.DatetimeIndex(df_test['DT_REQUISICAO']).day/31)\n",
        "df_test['mes_x'] = np.cos(2*np.pi*pd.DatetimeIndex(df_test['DT_REQUISICAO']).month/12)\n",
        "df_test['mes_y'] = np.sin(2*np.pi*pd.DatetimeIndex(df_test['DT_REQUISICAO']).month/12)\n",
        "\n",
        "df_test['TAMANHO_DS_ITEM'] = df_test['DS_ITEM'].map(lambda s: len(str(s)))\n",
        "df_test['TAMANHO_DS_CLASSE'] = df_test['DS_CLASSE'].map(lambda s: len(str(s)))\n",
        "df_test['TAMANHO_DS_INDICACAO_CLINICA'] = df_test['DS_INDICACAO_CLINICA'].fillna('').map(lambda s: len(str(s)))\n",
        "df_test['ANEXO_DS_INDICACAO_CLINICA'] = df_test['DS_INDICACAO_CLINICA'].fillna('').map(lambda s: 1 if 'anexo' in str(s).lower() else 0)\n",
        "\n",
        "features_notepad = ['DS_INDICACAO_CLINICA', 'DS_ITEM', 'DS_CLASSE']\n",
        "features_useless = ['NR_PRODUTO', 'DS_TIPO_SAIDA', 'CD_ITEM']\n",
        "features_most_values_null = ['QT_TEMPO_DOENCA', 'DS_UNIDADE_TEMPO_DOENCA', 'DS_TIPO_CONSULTA', 'DS_TIPO_DOENCA', 'CD_GUIA_REFERENCIA']\n",
        "features_seq = ['NR_SEQ_ITEM', 'NR_SEQ_REQUISICAO']\n",
        "features_date = ['DT_NASCIMENTO', 'DT_REQUISICAO']\n",
        "features_test = ['QT_DIA_SOLICITADO', 'QT_SOLICITADA', 'DS_TIPO_INTERNACAO', 'DS_TIPO_GUIA', 'DS_GRUPO', 'DS_REGIME_INTERNACAO']\n",
        "\n",
        "features_excluidas = features_notepad + features_useless + features_most_values_null + features_date + features_test + features_seq\n",
        "df_test = df_test.drop(features_excluidas, axis=1)\n",
        "\n",
        "print(f'Loading Dataset...\\n\\tTrain:\\t{df_train.shape}\\n\\tTest:\\t{df_test.shape}')"
      ],
      "id": "b229d41a"
    },
    {
      "cell_type": "markdown",
      "metadata": {
        "id": "9ebf283f"
      },
      "source": [
        "Treinando o modelo com todos os dados de treino."
      ],
      "id": "9ebf283f"
    },
    {
      "cell_type": "code",
      "execution_count": null,
      "metadata": {
        "colab": {
          "base_uri": "https://localhost:8080/"
        },
        "id": "75fc0c44",
        "outputId": "20099641-27f3-45b9-d616-f5f8882890ff"
      },
      "outputs": [
        {
          "output_type": "stream",
          "name": "stdout",
          "text": [
            "CPU times: user 2min 9s, sys: 2.88 s, total: 2min 11s\n",
            "Wall time: 2min 11s\n"
          ]
        }
      ],
      "source": [
        "%%time\n",
        "cat_feat = df_train.select_dtypes('object')\n",
        "pipe = Pipeline([\n",
        "        ('encoder', ce.BinaryEncoder(cols=cat_feat, return_df=True)), \n",
        "        ('model', RandomForestClassifier(class_weight = \"balanced\", n_estimators=250, max_depth=25, min_samples_split=5, random_state=123))\n",
        "])\n",
        "pipe.fit(X, y)\n",
        "y_pred = pipe.predict(df_test)"
      ],
      "id": "75fc0c44"
    },
    {
      "cell_type": "markdown",
      "metadata": {
        "id": "3f864410"
      },
      "source": [
        "Verificando a proporção da predição para cada classe"
      ],
      "id": "3f864410"
    },
    {
      "cell_type": "code",
      "execution_count": null,
      "metadata": {
        "colab": {
          "base_uri": "https://localhost:8080/"
        },
        "id": "bcabb8f8",
        "outputId": "03bfd90a-4820-4450-9ecb-fb8cd79e1c67"
      },
      "outputs": [
        {
          "output_type": "execute_result",
          "data": {
            "text/plain": [
              "Autorizado    146299\n",
              "Negado         39845\n",
              "dtype: int64"
            ]
          },
          "metadata": {},
          "execution_count": 26
        }
      ],
      "source": [
        "pd.Series(['Autorizado' if i == 0 else 'Negado' for i in y_pred]).value_counts()"
      ],
      "id": "bcabb8f8"
    },
    {
      "cell_type": "markdown",
      "metadata": {
        "id": "e3546a3e"
      },
      "source": [
        "# Gerar submissão"
      ],
      "id": "e3546a3e"
    },
    {
      "cell_type": "code",
      "execution_count": null,
      "metadata": {
        "id": "-Dtd8hZpZbeS"
      },
      "outputs": [],
      "source": [
        "df_test = df_test.set_index('Unnamed: 0')"
      ],
      "id": "-Dtd8hZpZbeS"
    },
    {
      "cell_type": "code",
      "execution_count": null,
      "metadata": {
        "id": "337b4d50"
      },
      "outputs": [],
      "source": [
        "submissions = pd.DataFrame({'ID': df_test.index, 'DS_STATUS_ITEM': ['Autorizado' if i == 0 else 'Negado' for i in y_pred]})\n",
        "submissions.to_csv('SubmissaoRF_37.csv', index=False, header=True)"
      ],
      "id": "337b4d50"
    },
    {
      "cell_type": "code",
      "execution_count": null,
      "metadata": {
        "colab": {
          "base_uri": "https://localhost:8080/"
        },
        "id": "hpAkccYU_DcE",
        "outputId": "6afff390-014f-43df-8b8f-546613231c89"
      },
      "outputs": [
        {
          "output_type": "execute_result",
          "data": {
            "text/plain": [
              "            ID DS_STATUS_ITEM\n",
              "0            0         Negado\n",
              "1            5     Autorizado\n",
              "2            8     Autorizado\n",
              "3           13     Autorizado\n",
              "4           18         Negado\n",
              "...        ...            ...\n",
              "186139  413210     Autorizado\n",
              "186140  413218     Autorizado\n",
              "186141  413221     Autorizado\n",
              "186142  413248     Autorizado\n",
              "186143  413259     Autorizado\n",
              "\n",
              "[186144 rows x 2 columns]"
            ],
            "text/html": [
              "\n",
              "  <div id=\"df-98558f11-2e90-4fba-b51c-4466eb0736a1\">\n",
              "    <div class=\"colab-df-container\">\n",
              "      <div>\n",
              "<style scoped>\n",
              "    .dataframe tbody tr th:only-of-type {\n",
              "        vertical-align: middle;\n",
              "    }\n",
              "\n",
              "    .dataframe tbody tr th {\n",
              "        vertical-align: top;\n",
              "    }\n",
              "\n",
              "    .dataframe thead th {\n",
              "        text-align: right;\n",
              "    }\n",
              "</style>\n",
              "<table border=\"1\" class=\"dataframe\">\n",
              "  <thead>\n",
              "    <tr style=\"text-align: right;\">\n",
              "      <th></th>\n",
              "      <th>ID</th>\n",
              "      <th>DS_STATUS_ITEM</th>\n",
              "    </tr>\n",
              "  </thead>\n",
              "  <tbody>\n",
              "    <tr>\n",
              "      <th>0</th>\n",
              "      <td>0</td>\n",
              "      <td>Negado</td>\n",
              "    </tr>\n",
              "    <tr>\n",
              "      <th>1</th>\n",
              "      <td>5</td>\n",
              "      <td>Autorizado</td>\n",
              "    </tr>\n",
              "    <tr>\n",
              "      <th>2</th>\n",
              "      <td>8</td>\n",
              "      <td>Autorizado</td>\n",
              "    </tr>\n",
              "    <tr>\n",
              "      <th>3</th>\n",
              "      <td>13</td>\n",
              "      <td>Autorizado</td>\n",
              "    </tr>\n",
              "    <tr>\n",
              "      <th>4</th>\n",
              "      <td>18</td>\n",
              "      <td>Negado</td>\n",
              "    </tr>\n",
              "    <tr>\n",
              "      <th>...</th>\n",
              "      <td>...</td>\n",
              "      <td>...</td>\n",
              "    </tr>\n",
              "    <tr>\n",
              "      <th>186139</th>\n",
              "      <td>413210</td>\n",
              "      <td>Autorizado</td>\n",
              "    </tr>\n",
              "    <tr>\n",
              "      <th>186140</th>\n",
              "      <td>413218</td>\n",
              "      <td>Autorizado</td>\n",
              "    </tr>\n",
              "    <tr>\n",
              "      <th>186141</th>\n",
              "      <td>413221</td>\n",
              "      <td>Autorizado</td>\n",
              "    </tr>\n",
              "    <tr>\n",
              "      <th>186142</th>\n",
              "      <td>413248</td>\n",
              "      <td>Autorizado</td>\n",
              "    </tr>\n",
              "    <tr>\n",
              "      <th>186143</th>\n",
              "      <td>413259</td>\n",
              "      <td>Autorizado</td>\n",
              "    </tr>\n",
              "  </tbody>\n",
              "</table>\n",
              "<p>186144 rows × 2 columns</p>\n",
              "</div>\n",
              "      <button class=\"colab-df-convert\" onclick=\"convertToInteractive('df-98558f11-2e90-4fba-b51c-4466eb0736a1')\"\n",
              "              title=\"Convert this dataframe to an interactive table.\"\n",
              "              style=\"display:none;\">\n",
              "        \n",
              "  <svg xmlns=\"http://www.w3.org/2000/svg\" height=\"24px\"viewBox=\"0 0 24 24\"\n",
              "       width=\"24px\">\n",
              "    <path d=\"M0 0h24v24H0V0z\" fill=\"none\"/>\n",
              "    <path d=\"M18.56 5.44l.94 2.06.94-2.06 2.06-.94-2.06-.94-.94-2.06-.94 2.06-2.06.94zm-11 1L8.5 8.5l.94-2.06 2.06-.94-2.06-.94L8.5 2.5l-.94 2.06-2.06.94zm10 10l.94 2.06.94-2.06 2.06-.94-2.06-.94-.94-2.06-.94 2.06-2.06.94z\"/><path d=\"M17.41 7.96l-1.37-1.37c-.4-.4-.92-.59-1.43-.59-.52 0-1.04.2-1.43.59L10.3 9.45l-7.72 7.72c-.78.78-.78 2.05 0 2.83L4 21.41c.39.39.9.59 1.41.59.51 0 1.02-.2 1.41-.59l7.78-7.78 2.81-2.81c.8-.78.8-2.07 0-2.86zM5.41 20L4 18.59l7.72-7.72 1.47 1.35L5.41 20z\"/>\n",
              "  </svg>\n",
              "      </button>\n",
              "      \n",
              "  <style>\n",
              "    .colab-df-container {\n",
              "      display:flex;\n",
              "      flex-wrap:wrap;\n",
              "      gap: 12px;\n",
              "    }\n",
              "\n",
              "    .colab-df-convert {\n",
              "      background-color: #E8F0FE;\n",
              "      border: none;\n",
              "      border-radius: 50%;\n",
              "      cursor: pointer;\n",
              "      display: none;\n",
              "      fill: #1967D2;\n",
              "      height: 32px;\n",
              "      padding: 0 0 0 0;\n",
              "      width: 32px;\n",
              "    }\n",
              "\n",
              "    .colab-df-convert:hover {\n",
              "      background-color: #E2EBFA;\n",
              "      box-shadow: 0px 1px 2px rgba(60, 64, 67, 0.3), 0px 1px 3px 1px rgba(60, 64, 67, 0.15);\n",
              "      fill: #174EA6;\n",
              "    }\n",
              "\n",
              "    [theme=dark] .colab-df-convert {\n",
              "      background-color: #3B4455;\n",
              "      fill: #D2E3FC;\n",
              "    }\n",
              "\n",
              "    [theme=dark] .colab-df-convert:hover {\n",
              "      background-color: #434B5C;\n",
              "      box-shadow: 0px 1px 3px 1px rgba(0, 0, 0, 0.15);\n",
              "      filter: drop-shadow(0px 1px 2px rgba(0, 0, 0, 0.3));\n",
              "      fill: #FFFFFF;\n",
              "    }\n",
              "  </style>\n",
              "\n",
              "      <script>\n",
              "        const buttonEl =\n",
              "          document.querySelector('#df-98558f11-2e90-4fba-b51c-4466eb0736a1 button.colab-df-convert');\n",
              "        buttonEl.style.display =\n",
              "          google.colab.kernel.accessAllowed ? 'block' : 'none';\n",
              "\n",
              "        async function convertToInteractive(key) {\n",
              "          const element = document.querySelector('#df-98558f11-2e90-4fba-b51c-4466eb0736a1');\n",
              "          const dataTable =\n",
              "            await google.colab.kernel.invokeFunction('convertToInteractive',\n",
              "                                                     [key], {});\n",
              "          if (!dataTable) return;\n",
              "\n",
              "          const docLinkHtml = 'Like what you see? Visit the ' +\n",
              "            '<a target=\"_blank\" href=https://colab.research.google.com/notebooks/data_table.ipynb>data table notebook</a>'\n",
              "            + ' to learn more about interactive tables.';\n",
              "          element.innerHTML = '';\n",
              "          dataTable['output_type'] = 'display_data';\n",
              "          await google.colab.output.renderOutput(dataTable, element);\n",
              "          const docLink = document.createElement('div');\n",
              "          docLink.innerHTML = docLinkHtml;\n",
              "          element.appendChild(docLink);\n",
              "        }\n",
              "      </script>\n",
              "    </div>\n",
              "  </div>\n",
              "  "
            ]
          },
          "metadata": {},
          "execution_count": 30
        }
      ],
      "source": [
        "submissions"
      ],
      "id": "hpAkccYU_DcE"
    }
  ],
  "metadata": {
    "colab": {
      "provenance": [],
      "include_colab_link": true
    },
    "gpuClass": "standard",
    "kernelspec": {
      "display_name": "Python 3",
      "language": "python",
      "name": "python3"
    },
    "language_info": {
      "codemirror_mode": {
        "name": "ipython",
        "version": 3
      },
      "file_extension": ".py",
      "mimetype": "text/x-python",
      "name": "python",
      "nbconvert_exporter": "python",
      "pygments_lexer": "ipython3",
      "version": "3.7.12"
    },
    "papermill": {
      "default_parameters": {},
      "duration": 7529.131053,
      "end_time": "2022-04-24T12:10:38.822754",
      "environment_variables": {},
      "exception": null,
      "input_path": "__notebook__.ipynb",
      "output_path": "__notebook__.ipynb",
      "parameters": {},
      "start_time": "2022-04-24T10:05:09.691701",
      "version": "2.3.4"
    }
  },
  "nbformat": 4,
  "nbformat_minor": 5
}